{
 "cells": [
  {
   "cell_type": "markdown",
   "id": "428f46b7-2f35-42f5-a95c-a641ef8643ad",
   "metadata": {},
   "source": [
    "## Räumliche Verknüpfung von OSM-Highway-Datensatz ohne `service` und SimRa-Datensatz \n",
    "\n",
    "In diesem Notebook werden die beiden Datensätze `osm_highway_without_service` und `simra_within_berlin`gemappt. \n",
    "\n",
    "- Für weitere Erläuterungen zum Vorgehen: siehe NotebooK [osm_highway_plus_simra](osm_highway_plus_simra)"
   ]
  },
  {
   "cell_type": "code",
   "execution_count": 2,
   "id": "b2bfc433-27b5-4e9e-8732-0f3e753bb1a7",
   "metadata": {},
   "outputs": [],
   "source": [
    "import pandas as pd\n",
    "\n",
    "import matplotlib.pyplot as plt\n",
    "import geopandas as gpd"
   ]
  },
  {
   "cell_type": "code",
   "execution_count": 5,
   "id": "bb549dc2-b617-48c1-b611-7b390beb03ac",
   "metadata": {},
   "outputs": [],
   "source": [
    "simra_data = gpd.read_file(\"../../data/processed_data/simra_within_berlin.geojson\")"
   ]
  },
  {
   "cell_type": "code",
   "execution_count": 31,
   "id": "02ef8791-9e92-4358-a436-6e9f5b83ab0f",
   "metadata": {},
   "outputs": [],
   "source": [
    "osm_highway = gpd.read_file(\"../../data/processed_data/osm_highway_without_service.geojson\")"
   ]
  },
  {
   "cell_type": "markdown",
   "id": "f9ef131e-5f6f-428d-839c-56096f4daf19",
   "metadata": {},
   "source": [
    "### Vergleich Koordinatensysteme"
   ]
  },
  {
   "cell_type": "code",
   "execution_count": 32,
   "id": "20ea4e9e-9381-4e48-978e-d97314d0427b",
   "metadata": {},
   "outputs": [
    {
     "data": {
      "text/plain": [
       "<Geographic 2D CRS: EPSG:4326>\n",
       "Name: WGS 84\n",
       "Axis Info [ellipsoidal]:\n",
       "- Lat[north]: Geodetic latitude (degree)\n",
       "- Lon[east]: Geodetic longitude (degree)\n",
       "Area of Use:\n",
       "- name: World.\n",
       "- bounds: (-180.0, -90.0, 180.0, 90.0)\n",
       "Datum: World Geodetic System 1984 ensemble\n",
       "- Ellipsoid: WGS 84\n",
       "- Prime Meridian: Greenwich"
      ]
     },
     "execution_count": 32,
     "metadata": {},
     "output_type": "execute_result"
    }
   ],
   "source": [
    "simra_data.crs"
   ]
  },
  {
   "cell_type": "code",
   "execution_count": 33,
   "id": "d2493ea1-46a0-4f09-9564-d44128618480",
   "metadata": {},
   "outputs": [
    {
     "data": {
      "text/plain": [
       "<Geographic 2D CRS: EPSG:4326>\n",
       "Name: WGS 84\n",
       "Axis Info [ellipsoidal]:\n",
       "- Lat[north]: Geodetic latitude (degree)\n",
       "- Lon[east]: Geodetic longitude (degree)\n",
       "Area of Use:\n",
       "- name: World.\n",
       "- bounds: (-180.0, -90.0, 180.0, 90.0)\n",
       "Datum: World Geodetic System 1984 ensemble\n",
       "- Ellipsoid: WGS 84\n",
       "- Prime Meridian: Greenwich"
      ]
     },
     "execution_count": 33,
     "metadata": {},
     "output_type": "execute_result"
    }
   ],
   "source": [
    "osm_highway.crs"
   ]
  },
  {
   "cell_type": "markdown",
   "id": "2879cd94-ad3e-413b-8100-b2580480ecd1",
   "metadata": {},
   "source": [
    "## Räumliche Verknüpfung (Spatial Join)"
   ]
  },
  {
   "cell_type": "markdown",
   "id": "fa0b90df-4143-4246-b126-2139b22ba73f",
   "metadata": {},
   "source": [
    "Um relevante Informationen aus beiden Datensätzen zu kombinieren, führen wir eine räumliche Verknüpfung (Spatial Join) unter Verwendung der `gpd.sjoin`-Methode von GeoPandas durch. Diese Methode ermöglicht es, geometrische Daten basierend auf ihren räumlichen Beziehungen zu verbinden."
   ]
  },
  {
   "cell_type": "code",
   "execution_count": 34,
   "id": "fe820f72-9039-4edb-aae1-c93340ab2686",
   "metadata": {},
   "outputs": [],
   "source": [
    "# Räumliche Verknüpfung zwischen Polygondaten und den osm/fahrradnetzwerk/highway-Daten\n",
    "intersections = gpd.sjoin(simra_data, osm_highway, how='left', predicate='intersects')"
   ]
  },
  {
   "cell_type": "code",
   "execution_count": 35,
   "id": "e556300c-88bd-4b98-9695-51d7f288baf3",
   "metadata": {},
   "outputs": [
    {
     "name": "stdout",
     "output_type": "stream",
     "text": [
      "Index(['id', 'type', 'score', 'incidents', 'rides', 'markers', 'geometry',\n",
      "       'index_right', 'highway'],\n",
      "      dtype='object')\n"
     ]
    }
   ],
   "source": [
    "print(intersections.columns)"
   ]
  },
  {
   "cell_type": "code",
   "execution_count": 36,
   "id": "5136870b-924c-4098-9ef4-308bb9caf86c",
   "metadata": {},
   "outputs": [
    {
     "data": {
      "text/html": [
       "<div>\n",
       "<style scoped>\n",
       "    .dataframe tbody tr th:only-of-type {\n",
       "        vertical-align: middle;\n",
       "    }\n",
       "\n",
       "    .dataframe tbody tr th {\n",
       "        vertical-align: top;\n",
       "    }\n",
       "\n",
       "    .dataframe thead th {\n",
       "        text-align: right;\n",
       "    }\n",
       "</style>\n",
       "<table border=\"1\" class=\"dataframe\">\n",
       "  <thead>\n",
       "    <tr style=\"text-align: right;\">\n",
       "      <th></th>\n",
       "      <th>id</th>\n",
       "      <th>type</th>\n",
       "      <th>score</th>\n",
       "      <th>incidents</th>\n",
       "      <th>rides</th>\n",
       "      <th>markers</th>\n",
       "      <th>geometry</th>\n",
       "      <th>index_right</th>\n",
       "      <th>highway</th>\n",
       "    </tr>\n",
       "  </thead>\n",
       "  <tbody>\n",
       "    <tr>\n",
       "      <th>0</th>\n",
       "      <td>[79310].0</td>\n",
       "      <td>Street</td>\n",
       "      <td>0.000000</td>\n",
       "      <td>0</td>\n",
       "      <td>57</td>\n",
       "      <td>[ ]</td>\n",
       "      <td>POLYGON ((13.37410 52.53031, 13.37421 52.53020...</td>\n",
       "      <td>23564.0</td>\n",
       "      <td>residential</td>\n",
       "    </tr>\n",
       "    <tr>\n",
       "      <th>0</th>\n",
       "      <td>[79310].0</td>\n",
       "      <td>Street</td>\n",
       "      <td>0.000000</td>\n",
       "      <td>0</td>\n",
       "      <td>57</td>\n",
       "      <td>[ ]</td>\n",
       "      <td>POLYGON ((13.37410 52.53031, 13.37421 52.53020...</td>\n",
       "      <td>68267.0</td>\n",
       "      <td>residential</td>\n",
       "    </tr>\n",
       "    <tr>\n",
       "      <th>0</th>\n",
       "      <td>[79310].0</td>\n",
       "      <td>Street</td>\n",
       "      <td>0.000000</td>\n",
       "      <td>0</td>\n",
       "      <td>57</td>\n",
       "      <td>[ ]</td>\n",
       "      <td>POLYGON ((13.37410 52.53031, 13.37421 52.53020...</td>\n",
       "      <td>162.0</td>\n",
       "      <td>residential</td>\n",
       "    </tr>\n",
       "    <tr>\n",
       "      <th>1</th>\n",
       "      <td>[196724641, 196725586, 866264912].0</td>\n",
       "      <td>Junction</td>\n",
       "      <td>0.000649</td>\n",
       "      <td>1</td>\n",
       "      <td>1541</td>\n",
       "      <td>[ [ [ 13.417860660000001, 52.514469009999999 ]...</td>\n",
       "      <td>POLYGON ((13.41751 52.51461, 13.41779 52.51442...</td>\n",
       "      <td>11276.0</td>\n",
       "      <td>secondary</td>\n",
       "    </tr>\n",
       "    <tr>\n",
       "      <th>1</th>\n",
       "      <td>[196724641, 196725586, 866264912].0</td>\n",
       "      <td>Junction</td>\n",
       "      <td>0.000649</td>\n",
       "      <td>1</td>\n",
       "      <td>1541</td>\n",
       "      <td>[ [ [ 13.417860660000001, 52.514469009999999 ]...</td>\n",
       "      <td>POLYGON ((13.41751 52.51461, 13.41779 52.51442...</td>\n",
       "      <td>11278.0</td>\n",
       "      <td>secondary</td>\n",
       "    </tr>\n",
       "  </tbody>\n",
       "</table>\n",
       "</div>"
      ],
      "text/plain": [
       "                                    id      type     score  incidents  rides  \\\n",
       "0                            [79310].0    Street  0.000000          0     57   \n",
       "0                            [79310].0    Street  0.000000          0     57   \n",
       "0                            [79310].0    Street  0.000000          0     57   \n",
       "1  [196724641, 196725586, 866264912].0  Junction  0.000649          1   1541   \n",
       "1  [196724641, 196725586, 866264912].0  Junction  0.000649          1   1541   \n",
       "\n",
       "                                             markers  \\\n",
       "0                                                [ ]   \n",
       "0                                                [ ]   \n",
       "0                                                [ ]   \n",
       "1  [ [ [ 13.417860660000001, 52.514469009999999 ]...   \n",
       "1  [ [ [ 13.417860660000001, 52.514469009999999 ]...   \n",
       "\n",
       "                                            geometry  index_right      highway  \n",
       "0  POLYGON ((13.37410 52.53031, 13.37421 52.53020...      23564.0  residential  \n",
       "0  POLYGON ((13.37410 52.53031, 13.37421 52.53020...      68267.0  residential  \n",
       "0  POLYGON ((13.37410 52.53031, 13.37421 52.53020...        162.0  residential  \n",
       "1  POLYGON ((13.41751 52.51461, 13.41779 52.51442...      11276.0    secondary  \n",
       "1  POLYGON ((13.41751 52.51461, 13.41779 52.51442...      11278.0    secondary  "
      ]
     },
     "execution_count": 36,
     "metadata": {},
     "output_type": "execute_result"
    }
   ],
   "source": [
    "intersections.head()"
   ]
  },
  {
   "cell_type": "markdown",
   "id": "ef1a745d-942a-462b-963a-10bc0cd1f25e",
   "metadata": {},
   "source": [
    "### Mehrere highway-Typen werden einem Polygon/Segment zugeordnet\n",
    "\n",
    "Vgl. für weitere Erklärungen: Notebook [osm_highway_plus_simra](osm_highway_plus_simra)"
   ]
  },
  {
   "cell_type": "markdown",
   "id": "7afbc87e-261d-4721-891b-3be1779cc2f9",
   "metadata": {},
   "source": [
    "### Überprüfen der NaN-Werte und deren Geometrien"
   ]
  },
  {
   "cell_type": "code",
   "execution_count": 37,
   "id": "320dbb0e-f237-4a70-a83d-e73387f13aea",
   "metadata": {},
   "outputs": [
    {
     "name": "stdout",
     "output_type": "stream",
     "text": [
      "Anzahl der Zeilen mit NaN in 'highway': 572\n"
     ]
    }
   ],
   "source": [
    "# Zeilen, die NaN in 'highway' (bzw. in 'index_right') enthalten\n",
    "nan_values = intersections[intersections['highway'].isna()]\n",
    "\n",
    "print(f\"Anzahl der Zeilen mit NaN in 'highway': {len(nan_values)}\")"
   ]
  },
  {
   "cell_type": "markdown",
   "id": "09b4a9e9-d5b5-4ad8-b776-ab277a114fce",
   "metadata": {},
   "source": [
    "### Entfernen der NaN-Werte"
   ]
  },
  {
   "cell_type": "code",
   "execution_count": 38,
   "id": "b6b7b3d8-a10b-4872-8ec2-d6d33ed8c106",
   "metadata": {},
   "outputs": [
    {
     "name": "stdout",
     "output_type": "stream",
     "text": [
      "Anzahl der verbleibenden Zeilen nach dem Entfernen der NaN-Werte: 72095\n"
     ]
    }
   ],
   "source": [
    "cleaned_intersections = intersections.dropna(subset=['highway'])\n",
    "\n",
    "print(f\"Anzahl der verbleibenden Zeilen nach dem Entfernen der NaN-Werte: {len(cleaned_intersections)}\")"
   ]
  },
  {
   "cell_type": "code",
   "execution_count": 39,
   "id": "be0b7af8-b4a4-4700-957d-91e38909e9c5",
   "metadata": {},
   "outputs": [
    {
     "name": "stdout",
     "output_type": "stream",
     "text": [
      "Anzahl der NaN-Werte nach der Bereinigung: 0\n"
     ]
    }
   ],
   "source": [
    "# Sicherstellen, dass keine NaN-Werte mehr in der Spalte 'index_right' vorhanden sind\n",
    "nan_values_after_cleaning = cleaned_intersections[cleaned_intersections['index_right'].isna()]\n",
    "\n",
    "print(f\"Anzahl der NaN-Werte nach der Bereinigung: {len(nan_values_after_cleaning)}\")"
   ]
  },
  {
   "cell_type": "code",
   "execution_count": 44,
   "id": "669d0809-c6e1-465b-a081-5bb503fc54d3",
   "metadata": {},
   "outputs": [
    {
     "data": {
      "text/html": [
       "<div>\n",
       "<style scoped>\n",
       "    .dataframe tbody tr th:only-of-type {\n",
       "        vertical-align: middle;\n",
       "    }\n",
       "\n",
       "    .dataframe tbody tr th {\n",
       "        vertical-align: top;\n",
       "    }\n",
       "\n",
       "    .dataframe thead th {\n",
       "        text-align: right;\n",
       "    }\n",
       "</style>\n",
       "<table border=\"1\" class=\"dataframe\">\n",
       "  <thead>\n",
       "    <tr style=\"text-align: right;\">\n",
       "      <th></th>\n",
       "      <th>id</th>\n",
       "      <th>type</th>\n",
       "      <th>score</th>\n",
       "      <th>incidents</th>\n",
       "      <th>rides</th>\n",
       "      <th>markers</th>\n",
       "      <th>geometry</th>\n",
       "      <th>index_right</th>\n",
       "      <th>highway</th>\n",
       "    </tr>\n",
       "  </thead>\n",
       "  <tbody>\n",
       "    <tr>\n",
       "      <th>0</th>\n",
       "      <td>[79310].0</td>\n",
       "      <td>Street</td>\n",
       "      <td>0.0</td>\n",
       "      <td>0</td>\n",
       "      <td>57</td>\n",
       "      <td>[ ]</td>\n",
       "      <td>POLYGON ((13.37410 52.53031, 13.37421 52.53020...</td>\n",
       "      <td>23564.0</td>\n",
       "      <td>residential</td>\n",
       "    </tr>\n",
       "    <tr>\n",
       "      <th>0</th>\n",
       "      <td>[79310].0</td>\n",
       "      <td>Street</td>\n",
       "      <td>0.0</td>\n",
       "      <td>0</td>\n",
       "      <td>57</td>\n",
       "      <td>[ ]</td>\n",
       "      <td>POLYGON ((13.37410 52.53031, 13.37421 52.53020...</td>\n",
       "      <td>68267.0</td>\n",
       "      <td>residential</td>\n",
       "    </tr>\n",
       "    <tr>\n",
       "      <th>0</th>\n",
       "      <td>[79310].0</td>\n",
       "      <td>Street</td>\n",
       "      <td>0.0</td>\n",
       "      <td>0</td>\n",
       "      <td>57</td>\n",
       "      <td>[ ]</td>\n",
       "      <td>POLYGON ((13.37410 52.53031, 13.37421 52.53020...</td>\n",
       "      <td>162.0</td>\n",
       "      <td>residential</td>\n",
       "    </tr>\n",
       "  </tbody>\n",
       "</table>\n",
       "</div>"
      ],
      "text/plain": [
       "          id    type  score  incidents  rides markers  \\\n",
       "0  [79310].0  Street    0.0          0     57     [ ]   \n",
       "0  [79310].0  Street    0.0          0     57     [ ]   \n",
       "0  [79310].0  Street    0.0          0     57     [ ]   \n",
       "\n",
       "                                            geometry  index_right      highway  \n",
       "0  POLYGON ((13.37410 52.53031, 13.37421 52.53020...      23564.0  residential  \n",
       "0  POLYGON ((13.37410 52.53031, 13.37421 52.53020...      68267.0  residential  \n",
       "0  POLYGON ((13.37410 52.53031, 13.37421 52.53020...        162.0  residential  "
      ]
     },
     "execution_count": 44,
     "metadata": {},
     "output_type": "execute_result"
    }
   ],
   "source": [
    "cleaned_intersections.head(3)"
   ]
  },
  {
   "cell_type": "markdown",
   "id": "4393fa9f-fc6a-4f59-aa5c-d6cd9e1e6776",
   "metadata": {},
   "source": [
    "### Gruppieren der Polygone und Zusammenfassen der `highway´-Werte"
   ]
  },
  {
   "cell_type": "code",
   "execution_count": 45,
   "id": "32208eea-66c6-47eb-8935-7c90e9ad72d8",
   "metadata": {},
   "outputs": [],
   "source": [
    "cleaned_intersections = gpd.GeoDataFrame(cleaned_intersections, geometry='geometry')"
   ]
  },
  {
   "cell_type": "code",
   "execution_count": 46,
   "id": "194832f2-441b-46d3-a840-1d76e680b344",
   "metadata": {},
   "outputs": [],
   "source": [
    "# Funktion zum Kombinieren der 'highway'-Werte \n",
    "def combine_highways(x):\n",
    "    return ', '.join(x)  # Doppelte Einträge bleiben erhalten und werden verbunden\n",
    "\n",
    "# Gruppieren nach 'id' und 'geometry' und Aggregation\n",
    "grouped_data = cleaned_intersections.groupby(['id', 'geometry']).agg({\n",
    "    'type': 'first',       # Erster Wert (da alle Werte gleich)\n",
    "    'score': 'first',      \n",
    "    'incidents': 'first',  \n",
    "    'rides': 'first',      \n",
    "    'markers': 'first',    \n",
    "    'index_right': 'first',\n",
    "    'highway': combine_highways  # Kombinieren der 'highway' Werte\n",
    "}).reset_index()"
   ]
  },
  {
   "cell_type": "code",
   "execution_count": 47,
   "id": "c891f06b-815b-4491-9edf-64b1e4911aa3",
   "metadata": {},
   "outputs": [],
   "source": [
    "# Umwandlung zurück in ein GeoDataFrame\n",
    "grouped_data = gpd.GeoDataFrame(grouped_data, geometry='geometry', crs=cleaned_intersections.crs)"
   ]
  },
  {
   "cell_type": "code",
   "execution_count": 61,
   "id": "60c40f02-fe74-416c-b1a1-9fffdc24d6d8",
   "metadata": {},
   "outputs": [
    {
     "data": {
      "text/html": [
       "<div>\n",
       "<style scoped>\n",
       "    .dataframe tbody tr th:only-of-type {\n",
       "        vertical-align: middle;\n",
       "    }\n",
       "\n",
       "    .dataframe tbody tr th {\n",
       "        vertical-align: top;\n",
       "    }\n",
       "\n",
       "    .dataframe thead th {\n",
       "        text-align: right;\n",
       "    }\n",
       "</style>\n",
       "<table border=\"1\" class=\"dataframe\">\n",
       "  <thead>\n",
       "    <tr style=\"text-align: right;\">\n",
       "      <th></th>\n",
       "      <th>id</th>\n",
       "      <th>geometry</th>\n",
       "      <th>type</th>\n",
       "      <th>score</th>\n",
       "      <th>incidents</th>\n",
       "      <th>rides</th>\n",
       "      <th>markers</th>\n",
       "      <th>index_right</th>\n",
       "      <th>highway</th>\n",
       "      <th>highway_list</th>\n",
       "    </tr>\n",
       "  </thead>\n",
       "  <tbody>\n",
       "    <tr>\n",
       "      <th>0</th>\n",
       "      <td>[100049].0</td>\n",
       "      <td>POLYGON ((13.45412 52.54035, 13.45320 52.53977...</td>\n",
       "      <td>Street</td>\n",
       "      <td>0.0</td>\n",
       "      <td>0</td>\n",
       "      <td>138</td>\n",
       "      <td>[ ]</td>\n",
       "      <td>35281.0</td>\n",
       "      <td>secondary, secondary, cycleway, secondary</td>\n",
       "      <td>[secondary, secondary, cycleway, secondary]</td>\n",
       "    </tr>\n",
       "    <tr>\n",
       "      <th>1</th>\n",
       "      <td>[100069498].0</td>\n",
       "      <td>POLYGON ((13.52273 52.50704, 13.52248 52.50690...</td>\n",
       "      <td>Junction</td>\n",
       "      <td>0.0</td>\n",
       "      <td>0</td>\n",
       "      <td>200</td>\n",
       "      <td>[ ]</td>\n",
       "      <td>44754.0</td>\n",
       "      <td>residential, residential, residential</td>\n",
       "      <td>[residential, residential, residential]</td>\n",
       "    </tr>\n",
       "    <tr>\n",
       "      <th>2</th>\n",
       "      <td>[100078509, 288268004, 3888645535].0</td>\n",
       "      <td>POLYGON ((13.47754 52.51457, 13.47782 52.51438...</td>\n",
       "      <td>Junction</td>\n",
       "      <td>0.0</td>\n",
       "      <td>0</td>\n",
       "      <td>54</td>\n",
       "      <td>[ ]</td>\n",
       "      <td>41983.0</td>\n",
       "      <td>secondary, secondary, cycleway, secondary, sec...</td>\n",
       "      <td>[secondary, secondary, cycleway, secondary, se...</td>\n",
       "    </tr>\n",
       "  </tbody>\n",
       "</table>\n",
       "</div>"
      ],
      "text/plain": [
       "                                     id  \\\n",
       "0                            [100049].0   \n",
       "1                         [100069498].0   \n",
       "2  [100078509, 288268004, 3888645535].0   \n",
       "\n",
       "                                            geometry      type  score  \\\n",
       "0  POLYGON ((13.45412 52.54035, 13.45320 52.53977...    Street    0.0   \n",
       "1  POLYGON ((13.52273 52.50704, 13.52248 52.50690...  Junction    0.0   \n",
       "2  POLYGON ((13.47754 52.51457, 13.47782 52.51438...  Junction    0.0   \n",
       "\n",
       "   incidents  rides markers  index_right  \\\n",
       "0          0    138     [ ]      35281.0   \n",
       "1          0    200     [ ]      44754.0   \n",
       "2          0     54     [ ]      41983.0   \n",
       "\n",
       "                                             highway  \\\n",
       "0          secondary, secondary, cycleway, secondary   \n",
       "1              residential, residential, residential   \n",
       "2  secondary, secondary, cycleway, secondary, sec...   \n",
       "\n",
       "                                        highway_list  \n",
       "0        [secondary, secondary, cycleway, secondary]  \n",
       "1            [residential, residential, residential]  \n",
       "2  [secondary, secondary, cycleway, secondary, se...  "
      ]
     },
     "execution_count": 61,
     "metadata": {},
     "output_type": "execute_result"
    }
   ],
   "source": [
    "grouped_data.head(3)"
   ]
  },
  {
   "cell_type": "code",
   "execution_count": 49,
   "id": "f7501eb2-c1cc-4a70-9543-f848233e53ec",
   "metadata": {},
   "outputs": [
    {
     "data": {
      "text/plain": [
       "(15722, 9)"
      ]
     },
     "execution_count": 49,
     "metadata": {},
     "output_type": "execute_result"
    }
   ],
   "source": [
    "grouped_data.shape"
   ]
  },
  {
   "cell_type": "markdown",
   "id": "c5f54a64-0613-4029-bc1d-eee636297eea",
   "metadata": {},
   "source": [
    "### Dummy-Variablen für die `highway`-Spalte erstellen"
   ]
  },
  {
   "cell_type": "code",
   "execution_count": 50,
   "id": "de99f1aa-fb86-4fa7-aa13-0cb1e41928fc",
   "metadata": {},
   "outputs": [],
   "source": [
    "# Funktion zum Zerlegen der 'highway'-Spalten in Listen\n",
    "grouped_data['highway_list'] = grouped_data['highway'].apply(lambda x: x.split(', '))"
   ]
  },
  {
   "cell_type": "code",
   "execution_count": 51,
   "id": "18f9feb6-6185-4e3e-9797-7b4dbcd5c1ec",
   "metadata": {},
   "outputs": [],
   "source": [
    "# Funktion zum Zerlegen der 'highway'-Spalten in Listen\n",
    "grouped_data['highway_list'] = grouped_data['highway'].apply(lambda x: x.split(', '))"
   ]
  },
  {
   "cell_type": "code",
   "execution_count": 52,
   "id": "7b26ee95-4f70-451f-961a-a6d311a9113e",
   "metadata": {},
   "outputs": [
    {
     "data": {
      "text/html": [
       "<div>\n",
       "<style scoped>\n",
       "    .dataframe tbody tr th:only-of-type {\n",
       "        vertical-align: middle;\n",
       "    }\n",
       "\n",
       "    .dataframe tbody tr th {\n",
       "        vertical-align: top;\n",
       "    }\n",
       "\n",
       "    .dataframe thead th {\n",
       "        text-align: right;\n",
       "    }\n",
       "</style>\n",
       "<table border=\"1\" class=\"dataframe\">\n",
       "  <thead>\n",
       "    <tr style=\"text-align: right;\">\n",
       "      <th></th>\n",
       "      <th>id</th>\n",
       "      <th>geometry</th>\n",
       "      <th>type</th>\n",
       "      <th>score</th>\n",
       "      <th>incidents</th>\n",
       "      <th>rides</th>\n",
       "      <th>markers</th>\n",
       "      <th>index_right</th>\n",
       "      <th>highway</th>\n",
       "      <th>highway_list</th>\n",
       "    </tr>\n",
       "  </thead>\n",
       "  <tbody>\n",
       "    <tr>\n",
       "      <th>0</th>\n",
       "      <td>[100049].0</td>\n",
       "      <td>POLYGON ((13.45412 52.54035, 13.45320 52.53977...</td>\n",
       "      <td>Street</td>\n",
       "      <td>0.0</td>\n",
       "      <td>0</td>\n",
       "      <td>138</td>\n",
       "      <td>[ ]</td>\n",
       "      <td>35281.0</td>\n",
       "      <td>secondary, secondary, cycleway, secondary</td>\n",
       "      <td>[secondary, secondary, cycleway, secondary]</td>\n",
       "    </tr>\n",
       "    <tr>\n",
       "      <th>1</th>\n",
       "      <td>[100069498].0</td>\n",
       "      <td>POLYGON ((13.52273 52.50704, 13.52248 52.50690...</td>\n",
       "      <td>Junction</td>\n",
       "      <td>0.0</td>\n",
       "      <td>0</td>\n",
       "      <td>200</td>\n",
       "      <td>[ ]</td>\n",
       "      <td>44754.0</td>\n",
       "      <td>residential, residential, residential</td>\n",
       "      <td>[residential, residential, residential]</td>\n",
       "    </tr>\n",
       "  </tbody>\n",
       "</table>\n",
       "</div>"
      ],
      "text/plain": [
       "              id                                           geometry      type  \\\n",
       "0     [100049].0  POLYGON ((13.45412 52.54035, 13.45320 52.53977...    Street   \n",
       "1  [100069498].0  POLYGON ((13.52273 52.50704, 13.52248 52.50690...  Junction   \n",
       "\n",
       "   score  incidents  rides markers  index_right  \\\n",
       "0    0.0          0    138     [ ]      35281.0   \n",
       "1    0.0          0    200     [ ]      44754.0   \n",
       "\n",
       "                                     highway  \\\n",
       "0  secondary, secondary, cycleway, secondary   \n",
       "1      residential, residential, residential   \n",
       "\n",
       "                                  highway_list  \n",
       "0  [secondary, secondary, cycleway, secondary]  \n",
       "1      [residential, residential, residential]  "
      ]
     },
     "execution_count": 52,
     "metadata": {},
     "output_type": "execute_result"
    }
   ],
   "source": [
    "grouped_data.head(2)"
   ]
  },
  {
   "cell_type": "code",
   "execution_count": 53,
   "id": "9a89eb7d-8d46-4508-8c9b-d93f68514e2f",
   "metadata": {},
   "outputs": [
    {
     "name": "stdout",
     "output_type": "stream",
     "text": [
      "['cycleway', 'footway', 'highway_rare', 'living_street', 'path', 'primary', 'residential', 'secondary', 'tertiary', 'track']\n"
     ]
    }
   ],
   "source": [
    "# Alle einzigartigen `highway`-Typen finden\n",
    "unique_highways = sorted(set(sum(grouped_data['highway_list'].tolist(), [])))\n",
    "\n",
    "print(unique_highways)"
   ]
  },
  {
   "cell_type": "markdown",
   "id": "85ce668f-bf40-407e-bb67-0dd82af8d66b",
   "metadata": {},
   "source": [
    "### Berechnen und Zuordnen der Anteile der jeweiligen highway-Typen pro Polygon"
   ]
  },
  {
   "cell_type": "code",
   "execution_count": 54,
   "id": "4e7ee5f7-23fa-4dc0-b3a6-5e0afbd347f4",
   "metadata": {},
   "outputs": [],
   "source": [
    "# Funktion zur Berechnung der Anteilswerte - berechnet die Anteile der jeweiligen `highway`-Typen pro Zeile\n",
    "def calculate_highway_ratios(row, highway_types):\n",
    "    total_count = len(row['highway_list'])\n",
    "    counts = pd.Series(row['highway_list']).value_counts()\n",
    "    return {highway: counts.get(highway, 0) / total_count for highway in highway_types}"
   ]
  },
  {
   "cell_type": "code",
   "execution_count": 55,
   "id": "02f8f2cc-cd65-4565-9d2d-878a3f33cbbf",
   "metadata": {},
   "outputs": [],
   "source": [
    "# Anwendung der Funktion auf den GeoDataFrame\n",
    "highway_ratios = grouped_data.apply(calculate_highway_ratios, axis=1, highway_types=unique_highways) # axis=1 --> Fkt. wird aus Zeilen angewendet\n",
    "ratios_df = pd.DataFrame(list(highway_ratios))"
   ]
  },
  {
   "cell_type": "code",
   "execution_count": 56,
   "id": "b11eb72c-357d-4c32-902f-d2e8e4d70b4c",
   "metadata": {},
   "outputs": [],
   "source": [
    "# Zusammenführen der Ergebnisse mit dem ursprünglichen GeoDataFrame\n",
    "gdf = pd.concat([grouped_data, ratios_df], axis=1)"
   ]
  },
  {
   "cell_type": "code",
   "execution_count": 57,
   "id": "87ffe84e-2570-4463-9f0c-773b602d13b6",
   "metadata": {},
   "outputs": [],
   "source": [
    "# Entfernen der temporären Spalte 'highway_list'\n",
    "gdf.drop(columns=['highway_list'], inplace=True)"
   ]
  },
  {
   "cell_type": "code",
   "execution_count": 58,
   "id": "a0ce5e03-6a8d-43bb-b8da-46dfd21c79f9",
   "metadata": {},
   "outputs": [
    {
     "data": {
      "text/html": [
       "<div>\n",
       "<style scoped>\n",
       "    .dataframe tbody tr th:only-of-type {\n",
       "        vertical-align: middle;\n",
       "    }\n",
       "\n",
       "    .dataframe tbody tr th {\n",
       "        vertical-align: top;\n",
       "    }\n",
       "\n",
       "    .dataframe thead th {\n",
       "        text-align: right;\n",
       "    }\n",
       "</style>\n",
       "<table border=\"1\" class=\"dataframe\">\n",
       "  <thead>\n",
       "    <tr style=\"text-align: right;\">\n",
       "      <th></th>\n",
       "      <th>id</th>\n",
       "      <th>geometry</th>\n",
       "      <th>type</th>\n",
       "      <th>score</th>\n",
       "      <th>incidents</th>\n",
       "      <th>rides</th>\n",
       "      <th>markers</th>\n",
       "      <th>index_right</th>\n",
       "      <th>highway</th>\n",
       "      <th>cycleway</th>\n",
       "      <th>footway</th>\n",
       "      <th>highway_rare</th>\n",
       "      <th>living_street</th>\n",
       "      <th>path</th>\n",
       "      <th>primary</th>\n",
       "      <th>residential</th>\n",
       "      <th>secondary</th>\n",
       "      <th>tertiary</th>\n",
       "      <th>track</th>\n",
       "    </tr>\n",
       "  </thead>\n",
       "  <tbody>\n",
       "    <tr>\n",
       "      <th>0</th>\n",
       "      <td>[100049].0</td>\n",
       "      <td>POLYGON ((13.45412 52.54035, 13.45320 52.53977...</td>\n",
       "      <td>Street</td>\n",
       "      <td>0.0</td>\n",
       "      <td>0</td>\n",
       "      <td>138</td>\n",
       "      <td>[ ]</td>\n",
       "      <td>35281.0</td>\n",
       "      <td>secondary, secondary, cycleway, secondary</td>\n",
       "      <td>0.250000</td>\n",
       "      <td>0.0</td>\n",
       "      <td>0.0</td>\n",
       "      <td>0.0</td>\n",
       "      <td>0.0</td>\n",
       "      <td>0.0</td>\n",
       "      <td>0.000000</td>\n",
       "      <td>0.750000</td>\n",
       "      <td>0.0</td>\n",
       "      <td>0.0</td>\n",
       "    </tr>\n",
       "    <tr>\n",
       "      <th>1</th>\n",
       "      <td>[100069498].0</td>\n",
       "      <td>POLYGON ((13.52273 52.50704, 13.52248 52.50690...</td>\n",
       "      <td>Junction</td>\n",
       "      <td>0.0</td>\n",
       "      <td>0</td>\n",
       "      <td>200</td>\n",
       "      <td>[ ]</td>\n",
       "      <td>44754.0</td>\n",
       "      <td>residential, residential, residential</td>\n",
       "      <td>0.000000</td>\n",
       "      <td>0.0</td>\n",
       "      <td>0.0</td>\n",
       "      <td>0.0</td>\n",
       "      <td>0.0</td>\n",
       "      <td>0.0</td>\n",
       "      <td>1.000000</td>\n",
       "      <td>0.000000</td>\n",
       "      <td>0.0</td>\n",
       "      <td>0.0</td>\n",
       "    </tr>\n",
       "    <tr>\n",
       "      <th>2</th>\n",
       "      <td>[100078509, 288268004, 3888645535].0</td>\n",
       "      <td>POLYGON ((13.47754 52.51457, 13.47782 52.51438...</td>\n",
       "      <td>Junction</td>\n",
       "      <td>0.0</td>\n",
       "      <td>0</td>\n",
       "      <td>54</td>\n",
       "      <td>[ ]</td>\n",
       "      <td>41983.0</td>\n",
       "      <td>secondary, secondary, cycleway, secondary, sec...</td>\n",
       "      <td>0.384615</td>\n",
       "      <td>0.0</td>\n",
       "      <td>0.0</td>\n",
       "      <td>0.0</td>\n",
       "      <td>0.0</td>\n",
       "      <td>0.0</td>\n",
       "      <td>0.153846</td>\n",
       "      <td>0.461538</td>\n",
       "      <td>0.0</td>\n",
       "      <td>0.0</td>\n",
       "    </tr>\n",
       "  </tbody>\n",
       "</table>\n",
       "</div>"
      ],
      "text/plain": [
       "                                     id  \\\n",
       "0                            [100049].0   \n",
       "1                         [100069498].0   \n",
       "2  [100078509, 288268004, 3888645535].0   \n",
       "\n",
       "                                            geometry      type  score  \\\n",
       "0  POLYGON ((13.45412 52.54035, 13.45320 52.53977...    Street    0.0   \n",
       "1  POLYGON ((13.52273 52.50704, 13.52248 52.50690...  Junction    0.0   \n",
       "2  POLYGON ((13.47754 52.51457, 13.47782 52.51438...  Junction    0.0   \n",
       "\n",
       "   incidents  rides markers  index_right  \\\n",
       "0          0    138     [ ]      35281.0   \n",
       "1          0    200     [ ]      44754.0   \n",
       "2          0     54     [ ]      41983.0   \n",
       "\n",
       "                                             highway  cycleway  footway  \\\n",
       "0          secondary, secondary, cycleway, secondary  0.250000      0.0   \n",
       "1              residential, residential, residential  0.000000      0.0   \n",
       "2  secondary, secondary, cycleway, secondary, sec...  0.384615      0.0   \n",
       "\n",
       "   highway_rare  living_street  path  primary  residential  secondary  \\\n",
       "0           0.0            0.0   0.0      0.0     0.000000   0.750000   \n",
       "1           0.0            0.0   0.0      0.0     1.000000   0.000000   \n",
       "2           0.0            0.0   0.0      0.0     0.153846   0.461538   \n",
       "\n",
       "   tertiary  track  \n",
       "0       0.0    0.0  \n",
       "1       0.0    0.0  \n",
       "2       0.0    0.0  "
      ]
     },
     "execution_count": 58,
     "metadata": {},
     "output_type": "execute_result"
    }
   ],
   "source": [
    "gdf.head(3)"
   ]
  },
  {
   "cell_type": "code",
   "execution_count": 59,
   "id": "7583801f-59d6-476b-b82e-5423e997ca41",
   "metadata": {},
   "outputs": [
    {
     "data": {
      "text/plain": [
       "(15722, 19)"
      ]
     },
     "execution_count": 59,
     "metadata": {},
     "output_type": "execute_result"
    }
   ],
   "source": [
    "gdf.shape"
   ]
  },
  {
   "cell_type": "code",
   "execution_count": 62,
   "id": "fcc8a6be-aa4a-4c2c-8bfa-cbbb6ada1223",
   "metadata": {},
   "outputs": [
    {
     "name": "stdout",
     "output_type": "stream",
     "text": [
      "Datei gespeichert.\n"
     ]
    }
   ],
   "source": [
    "# Speichern des gdf\n",
    "output_filename = \"../../data/processed_data/osm_highway_without_service_ratios.geojson\"\n",
    "gdf.to_file(output_filename, driver='GeoJSON')\n",
    "\n",
    "print(f\"Datei gespeichert.\")"
   ]
  },
  {
   "cell_type": "markdown",
   "id": "b7f094cd-c93a-49c7-ad35-15fe268e86ae",
   "metadata": {},
   "source": [
    "### Bemerkungen\n",
    "Vergleich zum Datenatz osm_highway_plus_simra (Datensatz, in dem `service`enthalten ist):\n",
    " - highway ohne `service` gemappt mit Simra hat 15721 Einträge\n",
    " - highway mit `service` gemappt mit Simra hat 15917 Einträge"
   ]
  },
  {
   "cell_type": "code",
   "execution_count": null,
   "id": "8e6e1740-f77b-473f-8f69-22ef19ccd075",
   "metadata": {},
   "outputs": [],
   "source": []
  }
 ],
 "metadata": {
  "kernelspec": {
   "display_name": "Python 3 (ipykernel)",
   "language": "python",
   "name": "python3"
  },
  "language_info": {
   "codemirror_mode": {
    "name": "ipython",
    "version": 3
   },
   "file_extension": ".py",
   "mimetype": "text/x-python",
   "name": "python",
   "nbconvert_exporter": "python",
   "pygments_lexer": "ipython3",
   "version": "3.12.2"
  }
 },
 "nbformat": 4,
 "nbformat_minor": 5
}
