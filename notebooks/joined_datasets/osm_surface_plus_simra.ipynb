{
 "cells": [
  {
   "cell_type": "markdown",
   "id": "dce98c49-0e3e-495e-8de6-aa0b6caea77e",
   "metadata": {},
   "source": [
    "# Zusammenbringen der Datensätze simRa und osm_surface\n",
    "\n",
    "Unser Vorhersage-Modell soll anhand von Features wie z.B. Straßentyp oder Oberflächenbeschaffenheit Vorhersagen zum Gefahrenpotentail einer Stecke machen.   \n",
    "Dazu müssen wir den SimRa-Datensatz und unsere Features aus OSM vereinen.\n",
    "\n",
    "#### Das Vorgehen entspricht dem dieses notebooks:  [osm_highway](osm_highway.ipynb)  \n",
    "genauere Erklärungen finden sich im angezeigten notebook"
   ]
  },
  {
   "cell_type": "code",
   "execution_count": 2,
   "id": "606c56e9-8497-49b8-862a-4e6f3164c396",
   "metadata": {},
   "outputs": [],
   "source": [
    "import geopandas as gpd\n",
    "\n",
    "\n",
    "# Lade die GeoJSON-Datei\n",
    "osm_surface = gpd.read_file(\"../../data/processed_data/cycle_net_berlin_cleaned_surface.geojson\")"
   ]
  },
  {
   "cell_type": "code",
   "execution_count": 3,
   "id": "0b5ef879-22b2-4204-93e3-7e7d2dbe24b0",
   "metadata": {},
   "outputs": [],
   "source": [
    "simra_data = gpd.read_file(\"../../data/processed_data/simra_within_berlin.geojson\")"
   ]
  },
  {
   "cell_type": "code",
   "execution_count": 4,
   "id": "9a037edb-1c87-4f43-903b-eedc91a5cb7b",
   "metadata": {},
   "outputs": [],
   "source": [
    "# Sicherstellen, dass die Geometriespalten korrekt gesetzt sind\n",
    "simra_data = simra_data.set_geometry('geometry')\n",
    "osm_surface = osm_surface.set_geometry('geometry')"
   ]
  },
  {
   "cell_type": "markdown",
   "id": "96d25dcc-1af9-43d9-8c25-6fad20114995",
   "metadata": {},
   "source": [
    "#### Überprüfung der Koordinatensysteme beider Datensätze"
   ]
  },
  {
   "cell_type": "code",
   "execution_count": 5,
   "id": "42c53923-3f3e-4038-952e-b30ba3b25055",
   "metadata": {},
   "outputs": [
    {
     "data": {
      "text/plain": [
       "<Geographic 2D CRS: EPSG:4326>\n",
       "Name: WGS 84\n",
       "Axis Info [ellipsoidal]:\n",
       "- Lat[north]: Geodetic latitude (degree)\n",
       "- Lon[east]: Geodetic longitude (degree)\n",
       "Area of Use:\n",
       "- name: World.\n",
       "- bounds: (-180.0, -90.0, 180.0, 90.0)\n",
       "Datum: World Geodetic System 1984 ensemble\n",
       "- Ellipsoid: WGS 84\n",
       "- Prime Meridian: Greenwich"
      ]
     },
     "execution_count": 5,
     "metadata": {},
     "output_type": "execute_result"
    }
   ],
   "source": [
    "simra_data.crs"
   ]
  },
  {
   "cell_type": "code",
   "execution_count": 6,
   "id": "8cefc434-7db2-40cf-b751-10417f6f71dd",
   "metadata": {},
   "outputs": [
    {
     "data": {
      "text/plain": [
       "<Geographic 2D CRS: EPSG:4326>\n",
       "Name: WGS 84\n",
       "Axis Info [ellipsoidal]:\n",
       "- Lat[north]: Geodetic latitude (degree)\n",
       "- Lon[east]: Geodetic longitude (degree)\n",
       "Area of Use:\n",
       "- name: World.\n",
       "- bounds: (-180.0, -90.0, 180.0, 90.0)\n",
       "Datum: World Geodetic System 1984 ensemble\n",
       "- Ellipsoid: WGS 84\n",
       "- Prime Meridian: Greenwich"
      ]
     },
     "execution_count": 6,
     "metadata": {},
     "output_type": "execute_result"
    }
   ],
   "source": [
    "osm_surface.crs"
   ]
  },
  {
   "cell_type": "markdown",
   "id": "00703085-e99f-432f-92a3-c4d740280308",
   "metadata": {},
   "source": [
    "#### Verknüpfen der Datensätze mit Join\n",
    "\n",
    "Verwenden des left Joins:\n",
    "\n",
    "Behalten aller Einträge aus dem ersten (linken) DataFrame (simra) und hinzufügen passender Einträge aus dem zweiten (rechten) DataFrame (osm_surface)Einträge im linken DataFrame ohne passende Einträge im rechten DataFrame erhalten NaN-Werte für die Spalten aus dem rechten DataFrame."
   ]
  },
  {
   "cell_type": "code",
   "execution_count": 7,
   "id": "9a1e01ea-51ab-4c78-8c9f-126e946077fd",
   "metadata": {},
   "outputs": [],
   "source": [
    "# Räumliche Verknüpfung zwischen Polygondaten und den osm/fahrradnetzwerk/highway-Daten\n",
    "#simRa_surface = gpd.sjoin(simra_data, osm_surface, how='left', op='intersects')\n",
    "# \"op\" Parameter bald nicht mehr gültig, sattdessen soll \"predicate\" benutzt werden\n",
    "\n",
    "# Räumliche Verknüpfung zwischen Polygondaten und den OSM/Fahrradnetzwerk/Highway-Daten\n",
    "simRa_surface = gpd.sjoin(simra_data, osm_surface, how='left', predicate='intersects')\n"
   ]
  },
  {
   "cell_type": "code",
   "execution_count": 8,
   "id": "2b0fe5a0-0584-48f5-b963-821a307e9987",
   "metadata": {},
   "outputs": [
    {
     "data": {
      "text/html": [
       "<div>\n",
       "<style scoped>\n",
       "    .dataframe tbody tr th:only-of-type {\n",
       "        vertical-align: middle;\n",
       "    }\n",
       "\n",
       "    .dataframe tbody tr th {\n",
       "        vertical-align: top;\n",
       "    }\n",
       "\n",
       "    .dataframe thead th {\n",
       "        text-align: right;\n",
       "    }\n",
       "</style>\n",
       "<table border=\"1\" class=\"dataframe\">\n",
       "  <thead>\n",
       "    <tr style=\"text-align: right;\">\n",
       "      <th></th>\n",
       "      <th>id</th>\n",
       "      <th>type</th>\n",
       "      <th>score</th>\n",
       "      <th>incidents</th>\n",
       "      <th>rides</th>\n",
       "      <th>markers</th>\n",
       "      <th>geometry</th>\n",
       "      <th>index_right</th>\n",
       "      <th>surface_category</th>\n",
       "    </tr>\n",
       "  </thead>\n",
       "  <tbody>\n",
       "    <tr>\n",
       "      <th>0</th>\n",
       "      <td>[79310].0</td>\n",
       "      <td>Street</td>\n",
       "      <td>0.000000</td>\n",
       "      <td>0</td>\n",
       "      <td>57</td>\n",
       "      <td>[ ]</td>\n",
       "      <td>POLYGON ((13.37410 52.53031, 13.37421 52.53020...</td>\n",
       "      <td>170.0</td>\n",
       "      <td>asphalt</td>\n",
       "    </tr>\n",
       "    <tr>\n",
       "      <th>0</th>\n",
       "      <td>[79310].0</td>\n",
       "      <td>Street</td>\n",
       "      <td>0.000000</td>\n",
       "      <td>0</td>\n",
       "      <td>57</td>\n",
       "      <td>[ ]</td>\n",
       "      <td>POLYGON ((13.37410 52.53031, 13.37421 52.53020...</td>\n",
       "      <td>33845.0</td>\n",
       "      <td>asphalt</td>\n",
       "    </tr>\n",
       "    <tr>\n",
       "      <th>0</th>\n",
       "      <td>[79310].0</td>\n",
       "      <td>Street</td>\n",
       "      <td>0.000000</td>\n",
       "      <td>0</td>\n",
       "      <td>57</td>\n",
       "      <td>[ ]</td>\n",
       "      <td>POLYGON ((13.37410 52.53031, 13.37421 52.53020...</td>\n",
       "      <td>145435.0</td>\n",
       "      <td>asphalt</td>\n",
       "    </tr>\n",
       "    <tr>\n",
       "      <th>1</th>\n",
       "      <td>[196724641, 196725586, 866264912].0</td>\n",
       "      <td>Junction</td>\n",
       "      <td>0.000649</td>\n",
       "      <td>1</td>\n",
       "      <td>1541</td>\n",
       "      <td>[ [ [ 13.417860660000001, 52.514469009999999 ]...</td>\n",
       "      <td>POLYGON ((13.41751 52.51461, 13.41779 52.51442...</td>\n",
       "      <td>13371.0</td>\n",
       "      <td>asphalt</td>\n",
       "    </tr>\n",
       "    <tr>\n",
       "      <th>1</th>\n",
       "      <td>[196724641, 196725586, 866264912].0</td>\n",
       "      <td>Junction</td>\n",
       "      <td>0.000649</td>\n",
       "      <td>1</td>\n",
       "      <td>1541</td>\n",
       "      <td>[ [ [ 13.417860660000001, 52.514469009999999 ]...</td>\n",
       "      <td>POLYGON ((13.41751 52.51461, 13.41779 52.51442...</td>\n",
       "      <td>13373.0</td>\n",
       "      <td>asphalt</td>\n",
       "    </tr>\n",
       "  </tbody>\n",
       "</table>\n",
       "</div>"
      ],
      "text/plain": [
       "                                    id      type     score  incidents  rides  \\\n",
       "0                            [79310].0    Street  0.000000          0     57   \n",
       "0                            [79310].0    Street  0.000000          0     57   \n",
       "0                            [79310].0    Street  0.000000          0     57   \n",
       "1  [196724641, 196725586, 866264912].0  Junction  0.000649          1   1541   \n",
       "1  [196724641, 196725586, 866264912].0  Junction  0.000649          1   1541   \n",
       "\n",
       "                                             markers  \\\n",
       "0                                                [ ]   \n",
       "0                                                [ ]   \n",
       "0                                                [ ]   \n",
       "1  [ [ [ 13.417860660000001, 52.514469009999999 ]...   \n",
       "1  [ [ [ 13.417860660000001, 52.514469009999999 ]...   \n",
       "\n",
       "                                            geometry  index_right  \\\n",
       "0  POLYGON ((13.37410 52.53031, 13.37421 52.53020...        170.0   \n",
       "0  POLYGON ((13.37410 52.53031, 13.37421 52.53020...      33845.0   \n",
       "0  POLYGON ((13.37410 52.53031, 13.37421 52.53020...     145435.0   \n",
       "1  POLYGON ((13.41751 52.51461, 13.41779 52.51442...      13371.0   \n",
       "1  POLYGON ((13.41751 52.51461, 13.41779 52.51442...      13373.0   \n",
       "\n",
       "  surface_category  \n",
       "0          asphalt  \n",
       "0          asphalt  \n",
       "0          asphalt  \n",
       "1          asphalt  \n",
       "1          asphalt  "
      ]
     },
     "execution_count": 8,
     "metadata": {},
     "output_type": "execute_result"
    }
   ],
   "source": [
    "simRa_surface.head()"
   ]
  },
  {
   "cell_type": "markdown",
   "id": "ab87de43-7ee0-486a-8d61-efc64fefa984",
   "metadata": {},
   "source": [
    "### Zuordnung mehrerer surface-Typen zu einem Polyglon/Segment \n",
    "\n",
    "Gründe für Mehrfachzuordung:  \n",
    "*(aus osm_highway notebook)*\n",
    "\n",
    "1. Wenn ein Polygon aus dem simra_data mehrere Straßenabschnitte im osm_surface überlappt oder einschließt, wird jedes dieser überlappenden Segmente in der räumlichen Verknüpfung berücksichtigt, was zur Mehrfachzuordnung führt.\n",
    "2. OSM-Daten enthalten detaillierte Informationen, bei denen Straßen in einzelne Segmente unterteilt werden können (z.B. bei Kreuzungen, Änderungen der Straßentypen oder Fahrspuren). Daher kann ein einzelnes Polygon mehrere dieser Segmente einschließen.Räumliche Beziehungen:\n",
    "3. Die räumliche Verknüpfung (predicate='intersects') berücksichtigt alle Geometrien, die im rechten DataFrame das Polygon im linken DataFrame schneiden. Das bedeutet, dass mehrere Straßenabschnitte demselben Polygon zugeordnet werden können, wenn sie sich schneiden bzw. überlappen.\n",
    "\n",
    "**TODO:** \n",
    "Es muss entschieden werden wie mit den mehrfachen Zuordnungen umgegangen werden soll"
   ]
  },
  {
   "cell_type": "markdown",
   "id": "5eb0e288-214c-463c-9f67-0b43889b9454",
   "metadata": {},
   "source": [
    "### Überprüfen der NaN Werte\n",
    "\n",
    "die Prüfung ergibt eine Übereinstimmung mit den Daten bezüglich der highways (siehe notebook [osm_highway](osm_highway.ipynb))  \n",
    "\n",
    "Im weiteren wird so verfahren wie beim joinen des SimRa Datensatzes und des osm_highway Datensatzes.   \n",
    "Nähere Erläuterungen sin d aus dem \"osm_highway notebook\" zu entnehmen.\n"
   ]
  },
  {
   "cell_type": "code",
   "execution_count": 9,
   "id": "8f008c01-8c1e-4ebb-8f5d-acf62f1915c8",
   "metadata": {},
   "outputs": [
    {
     "name": "stdout",
     "output_type": "stream",
     "text": [
      "Anzahl der Zeilen mit NaN in 'surface_category': 376\n"
     ]
    }
   ],
   "source": [
    "# Zeilen, die NaN in 'surface' (bzw. in 'index_right') enthalten\n",
    "nan_values = simRa_surface[simRa_surface['surface_category'].isna()]\n",
    "\n",
    "print(f\"Anzahl der Zeilen mit NaN in 'surface_category': {len(nan_values)}\")"
   ]
  },
  {
   "cell_type": "code",
   "execution_count": 10,
   "id": "710fb08c-801c-4c7b-aca0-22630dbec0e3",
   "metadata": {},
   "outputs": [],
   "source": [
    "nan_values_score = simRa_surface[(simRa_surface['surface_category'].isna()) & (simRa_surface['score'] != 0)]"
   ]
  },
  {
   "cell_type": "code",
   "execution_count": 11,
   "id": "466293b1-710b-4459-b35b-1ec5ccfae978",
   "metadata": {},
   "outputs": [
    {
     "data": {
      "text/plain": [
       "id                  63\n",
       "type                63\n",
       "score               63\n",
       "incidents           63\n",
       "rides               63\n",
       "markers             63\n",
       "geometry            63\n",
       "index_right          0\n",
       "surface_category     0\n",
       "dtype: int64"
      ]
     },
     "execution_count": 11,
     "metadata": {},
     "output_type": "execute_result"
    }
   ],
   "source": [
    "nan_values_score.count()"
   ]
  },
  {
   "cell_type": "code",
   "execution_count": 12,
   "id": "bc72924d-a733-41fa-abbb-ef6823880165",
   "metadata": {},
   "outputs": [
    {
     "data": {
      "text/html": [
       "<div style=\"width:100%;\"><div style=\"position:relative;width:100%;height:0;padding-bottom:60%;\"><span style=\"color:#565656\">Make this Notebook Trusted to load map: File -> Trust Notebook</span><iframe srcdoc=\"&lt;!DOCTYPE html&gt;\n",
       "&lt;html&gt;\n",
       "&lt;head&gt;\n",
       "    \n",
       "    &lt;meta http-equiv=&quot;content-type&quot; content=&quot;text/html; charset=UTF-8&quot; /&gt;\n",
       "    \n",
       "        &lt;script&gt;\n",
       "            L_NO_TOUCH = false;\n",
       "            L_DISABLE_3D = false;\n",
       "        &lt;/script&gt;\n",
       "    \n",
       "    &lt;style&gt;html, body {width: 100%;height: 100%;margin: 0;padding: 0;}&lt;/style&gt;\n",
       "    &lt;style&gt;#map {position:absolute;top:0;bottom:0;right:0;left:0;}&lt;/style&gt;\n",
       "    &lt;script src=&quot;https://cdn.jsdelivr.net/npm/leaflet@1.9.3/dist/leaflet.js&quot;&gt;&lt;/script&gt;\n",
       "    &lt;script src=&quot;https://code.jquery.com/jquery-3.7.1.min.js&quot;&gt;&lt;/script&gt;\n",
       "    &lt;script src=&quot;https://cdn.jsdelivr.net/npm/bootstrap@5.2.2/dist/js/bootstrap.bundle.min.js&quot;&gt;&lt;/script&gt;\n",
       "    &lt;script src=&quot;https://cdnjs.cloudflare.com/ajax/libs/Leaflet.awesome-markers/2.0.2/leaflet.awesome-markers.js&quot;&gt;&lt;/script&gt;\n",
       "    &lt;link rel=&quot;stylesheet&quot; href=&quot;https://cdn.jsdelivr.net/npm/leaflet@1.9.3/dist/leaflet.css&quot;/&gt;\n",
       "    &lt;link rel=&quot;stylesheet&quot; href=&quot;https://cdn.jsdelivr.net/npm/bootstrap@5.2.2/dist/css/bootstrap.min.css&quot;/&gt;\n",
       "    &lt;link rel=&quot;stylesheet&quot; href=&quot;https://netdna.bootstrapcdn.com/bootstrap/3.0.0/css/bootstrap.min.css&quot;/&gt;\n",
       "    &lt;link rel=&quot;stylesheet&quot; href=&quot;https://cdn.jsdelivr.net/npm/@fortawesome/fontawesome-free@6.2.0/css/all.min.css&quot;/&gt;\n",
       "    &lt;link rel=&quot;stylesheet&quot; href=&quot;https://cdnjs.cloudflare.com/ajax/libs/Leaflet.awesome-markers/2.0.2/leaflet.awesome-markers.css&quot;/&gt;\n",
       "    &lt;link rel=&quot;stylesheet&quot; href=&quot;https://cdn.jsdelivr.net/gh/python-visualization/folium/folium/templates/leaflet.awesome.rotate.min.css&quot;/&gt;\n",
       "    \n",
       "            &lt;meta name=&quot;viewport&quot; content=&quot;width=device-width,\n",
       "                initial-scale=1.0, maximum-scale=1.0, user-scalable=no&quot; /&gt;\n",
       "            &lt;style&gt;\n",
       "                #map_6bcbf80df59a99ba2909f3b6c59d28f9 {\n",
       "                    position: relative;\n",
       "                    width: 100.0%;\n",
       "                    height: 100.0%;\n",
       "                    left: 0.0%;\n",
       "                    top: 0.0%;\n",
       "                }\n",
       "                .leaflet-container { font-size: 1rem; }\n",
       "            &lt;/style&gt;\n",
       "        \n",
       "    \n",
       "                    &lt;style&gt;\n",
       "                        .foliumtooltip {\n",
       "                            \n",
       "                        }\n",
       "                       .foliumtooltip table{\n",
       "                            margin: auto;\n",
       "                        }\n",
       "                        .foliumtooltip tr{\n",
       "                            text-align: left;\n",
       "                        }\n",
       "                        .foliumtooltip th{\n",
       "                            padding: 2px; padding-right: 8px;\n",
       "                        }\n",
       "                    &lt;/style&gt;\n",
       "            \n",
       "&lt;/head&gt;\n",
       "&lt;body&gt;\n",
       "    \n",
       "    \n",
       "            &lt;div class=&quot;folium-map&quot; id=&quot;map_6bcbf80df59a99ba2909f3b6c59d28f9&quot; &gt;&lt;/div&gt;\n",
       "        \n",
       "&lt;/body&gt;\n",
       "&lt;script&gt;\n",
       "    \n",
       "    \n",
       "            var map_6bcbf80df59a99ba2909f3b6c59d28f9 = L.map(\n",
       "                &quot;map_6bcbf80df59a99ba2909f3b6c59d28f9&quot;,\n",
       "                {\n",
       "                    center: [52.490957328523315, 13.384050875572038],\n",
       "                    crs: L.CRS.EPSG3857,\n",
       "                    zoom: 10,\n",
       "                    zoomControl: true,\n",
       "                    preferCanvas: false,\n",
       "                }\n",
       "            );\n",
       "            L.control.scale().addTo(map_6bcbf80df59a99ba2909f3b6c59d28f9);\n",
       "\n",
       "            \n",
       "\n",
       "        \n",
       "    \n",
       "            var tile_layer_fbdf8a0b63b10336632f085df4083a79 = L.tileLayer(\n",
       "                &quot;https://tile.openstreetmap.org/{z}/{x}/{y}.png&quot;,\n",
       "                {&quot;attribution&quot;: &quot;\\u0026copy; \\u003ca href=\\&quot;https://www.openstreetmap.org/copyright\\&quot;\\u003eOpenStreetMap\\u003c/a\\u003e contributors&quot;, &quot;detectRetina&quot;: false, &quot;maxNativeZoom&quot;: 19, &quot;maxZoom&quot;: 19, &quot;minZoom&quot;: 0, &quot;noWrap&quot;: false, &quot;opacity&quot;: 1, &quot;subdomains&quot;: &quot;abc&quot;, &quot;tms&quot;: false}\n",
       "            );\n",
       "        \n",
       "    \n",
       "            tile_layer_fbdf8a0b63b10336632f085df4083a79.addTo(map_6bcbf80df59a99ba2909f3b6c59d28f9);\n",
       "        \n",
       "    \n",
       "            map_6bcbf80df59a99ba2909f3b6c59d28f9.fitBounds(\n",
       "                [[52.43211098094202, 13.258827498198048], [52.54980367610461, 13.509274252946028]],\n",
       "                {}\n",
       "            );\n",
       "        \n",
       "    \n",
       "        function geo_json_ce4e4ac0096030a723aed2a7db01a39b_styler(feature) {\n",
       "            switch(feature.id) {\n",
       "                default:\n",
       "                    return {&quot;fillOpacity&quot;: 0.5, &quot;weight&quot;: 2};\n",
       "            }\n",
       "        }\n",
       "        function geo_json_ce4e4ac0096030a723aed2a7db01a39b_highlighter(feature) {\n",
       "            switch(feature.id) {\n",
       "                default:\n",
       "                    return {&quot;fillOpacity&quot;: 0.75};\n",
       "            }\n",
       "        }\n",
       "        function geo_json_ce4e4ac0096030a723aed2a7db01a39b_pointToLayer(feature, latlng) {\n",
       "            var opts = {&quot;bubblingMouseEvents&quot;: true, &quot;color&quot;: &quot;#3388ff&quot;, &quot;dashArray&quot;: null, &quot;dashOffset&quot;: null, &quot;fill&quot;: true, &quot;fillColor&quot;: &quot;#3388ff&quot;, &quot;fillOpacity&quot;: 0.2, &quot;fillRule&quot;: &quot;evenodd&quot;, &quot;lineCap&quot;: &quot;round&quot;, &quot;lineJoin&quot;: &quot;round&quot;, &quot;opacity&quot;: 1.0, &quot;radius&quot;: 2, &quot;stroke&quot;: true, &quot;weight&quot;: 3};\n",
       "            \n",
       "            let style = geo_json_ce4e4ac0096030a723aed2a7db01a39b_styler(feature)\n",
       "            Object.assign(opts, style)\n",
       "            \n",
       "            return new L.CircleMarker(latlng, opts)\n",
       "        }\n",
       "\n",
       "        function geo_json_ce4e4ac0096030a723aed2a7db01a39b_onEachFeature(feature, layer) {\n",
       "            layer.on({\n",
       "                mouseout: function(e) {\n",
       "                    if(typeof e.target.setStyle === &quot;function&quot;){\n",
       "                            geo_json_ce4e4ac0096030a723aed2a7db01a39b.resetStyle(e.target);\n",
       "                    }\n",
       "                },\n",
       "                mouseover: function(e) {\n",
       "                    if(typeof e.target.setStyle === &quot;function&quot;){\n",
       "                        const highlightStyle = geo_json_ce4e4ac0096030a723aed2a7db01a39b_highlighter(e.target.feature)\n",
       "                        e.target.setStyle(highlightStyle);\n",
       "                    }\n",
       "                },\n",
       "            });\n",
       "        };\n",
       "        var geo_json_ce4e4ac0096030a723aed2a7db01a39b = L.geoJson(null, {\n",
       "                onEachFeature: geo_json_ce4e4ac0096030a723aed2a7db01a39b_onEachFeature,\n",
       "            \n",
       "                style: geo_json_ce4e4ac0096030a723aed2a7db01a39b_styler,\n",
       "                pointToLayer: geo_json_ce4e4ac0096030a723aed2a7db01a39b_pointToLayer,\n",
       "        });\n",
       "\n",
       "        function geo_json_ce4e4ac0096030a723aed2a7db01a39b_add (data) {\n",
       "            geo_json_ce4e4ac0096030a723aed2a7db01a39b\n",
       "                .addData(data);\n",
       "        }\n",
       "            geo_json_ce4e4ac0096030a723aed2a7db01a39b_add({&quot;bbox&quot;: [13.258827498198048, 52.43211098094202, 13.509274252946028, 52.54980367610461], &quot;features&quot;: [{&quot;bbox&quot;: [13.367380908531619, 52.5154367410779, 13.368513665975627, 52.51552325906577], &quot;geometry&quot;: {&quot;coordinates&quot;: [[[13.368509138304892, 52.515504900845364], [13.368513665975627, 52.51552325906577], [13.367380908531619, 52.51545453926593], [13.367385609525709, 52.5154367410779], [13.368509138304892, 52.515504900845364]]], &quot;type&quot;: &quot;Polygon&quot;}, &quot;id&quot;: &quot;45&quot;, &quot;properties&quot;: {&quot;id&quot;: &quot;[290746].0&quot;, &quot;incidents&quot;: 1, &quot;index_right&quot;: null, &quot;markers&quot;: &quot;[ [ [ 13.368005419999999, 52.51545711 ], \\&quot;Datum: 12\\\\/09\\\\/2022 19:52:40\\u003cbr \\\\/\\u003eTyp: Einem Hindernis ausweichen (z.B. Hund)\\u003cbr \\\\/\\u003eBeschreibung: \\u003cbr \\\\/\\u003eBe\\u00e4ngstigend: true\\u003cbr \\\\/\\u003eBeteiligte: Fu\\u00dfg\\u00e4nger\\u003cbr \\\\/\\u003eFahrt: VM2_-307038139\\&quot;, true ] ]&quot;, &quot;rides&quot;: 143, &quot;score&quot;: 0.03076923076923077, &quot;surface_category&quot;: null, &quot;type&quot;: &quot;Street&quot;}, &quot;type&quot;: &quot;Feature&quot;}, {&quot;bbox&quot;: [13.349046129538964, 52.54170895050818, 13.349501945717432, 52.5419597023241], &quot;geometry&quot;: {&quot;coordinates&quot;: [[[13.349046129538964, 52.54175023072892], [13.349091626357994, 52.54170895050818], [13.349501945717432, 52.5419299288894], [13.349464258537916, 52.5419597023241], [13.349046129538964, 52.54175023072892]]], &quot;type&quot;: &quot;Polygon&quot;}, &quot;id&quot;: &quot;85&quot;, &quot;properties&quot;: {&quot;id&quot;: &quot;[247909].0&quot;, &quot;incidents&quot;: 1, &quot;index_right&quot;: null, &quot;markers&quot;: &quot;[ [ [ 13.34922181, 52.541840720000003 ], \\&quot;Datum: 21\\\\/04\\\\/2022 16:11:46\\u003cbr \\\\/\\u003eTyp: Zu dichtes \\u00dcberholen\\u003cbr \\\\/\\u003eBeschreibung: \\u003cbr \\\\/\\u003eBe\\u00e4ngstigend: false\\u003cbr \\\\/\\u003eBeteiligte: Fahrrad,Fu\\u00dfg\\u00e4nger\\u003cbr \\\\/\\u003eFahrt: VM2_541857122\\&quot;, false ] ]&quot;, &quot;rides&quot;: 145, &quot;score&quot;: 0.006896551724137931, &quot;surface_category&quot;: null, &quot;type&quot;: &quot;Street&quot;}, &quot;type&quot;: &quot;Feature&quot;}, {&quot;bbox&quot;: [13.415136793627005, 52.52115564779443, 13.416011002375074, 52.52196895230113], &quot;geometry&quot;: {&quot;coordinates&quot;: [[[13.415136793627005, 52.52117510005337], [13.415145261352533, 52.52115564779443], [13.416011002375074, 52.52195515225191], [13.415996413998133, 52.52196895230113], [13.415136793627005, 52.52117510005337]]], &quot;type&quot;: &quot;Polygon&quot;}, &quot;id&quot;: &quot;123&quot;, &quot;properties&quot;: {&quot;id&quot;: &quot;[254291].0&quot;, &quot;incidents&quot;: 3, &quot;index_right&quot;: null, &quot;markers&quot;: &quot;[ [ [ 13.415521223372453, 52.52151084136414 ], \\&quot;Datum: 12\\\\/05\\\\/2022 08:47:40\\u003cbr \\\\/\\u003eTyp: Sonstiges\\u003cbr \\\\/\\u003eBeschreibung: Ampel \\u003cbr \\\\/\\u003eBe\\u00e4ngstigend: false\\u003cbr \\\\/\\u003eBeteiligte: \\u003cbr \\\\/\\u003eFahrt: VM2_770564270\\&quot;, false ], [ [ 13.415238899621011, 52.521434766769296 ], \\&quot;Datum: 13\\\\/05\\\\/2022 08:36:40\\u003cbr \\\\/\\u003eTyp: Sonstiges\\u003cbr \\\\/\\u003eBeschreibung: Ampel\\u003cbr \\\\/\\u003eBe\\u00e4ngstigend: false\\u003cbr \\\\/\\u003eBeteiligte: \\u003cbr \\\\/\\u003eFahrt: VM2_-155423274\\&quot;, false ], [ [ 13.415166047332351, 52.521222411861487 ], \\&quot;Datum: 25\\\\/04\\\\/2022 08:19:00\\u003cbr \\\\/\\u003eTyp: Sonstiges\\u003cbr \\\\/\\u003eBeschreibung: Ampel\\u003cbr \\\\/\\u003eBe\\u00e4ngstigend: false\\u003cbr \\\\/\\u003eBeteiligte: \\u003cbr \\\\/\\u003eFahrt: VM2_1712943460\\&quot;, false ] ]&quot;, &quot;rides&quot;: 407, &quot;score&quot;: 0.007371007371007371, &quot;surface_category&quot;: null, &quot;type&quot;: &quot;Street&quot;}, &quot;type&quot;: &quot;Feature&quot;}, {&quot;bbox&quot;: [13.321855619394242, 52.51150824159627, 13.322170856219085, 52.51173728507528], &quot;geometry&quot;: {&quot;coordinates&quot;: [[[13.322152886242753, 52.51150824159627], [13.322170856219085, 52.51151563171288], [13.321865422501476, 52.51173728507528], [13.321855619394242, 52.511723968294646], [13.322152886242753, 52.51150824159627]]], &quot;type&quot;: &quot;Polygon&quot;}, &quot;id&quot;: &quot;187&quot;, &quot;properties&quot;: {&quot;id&quot;: &quot;[297689].0&quot;, &quot;incidents&quot;: 1, &quot;index_right&quot;: null, &quot;markers&quot;: &quot;[ [ [ 13.32194411, 52.511639639999999 ], \\&quot;Datum: 23\\\\/07\\\\/2019 17:39:34\\u003cbr \\\\/\\u003eTyp: Entgegenkommender Verkehrsteilnehmer\\u003cbr \\\\/\\u003eBeschreibung: \\u003cbr \\\\/\\u003eBe\\u00e4ngstigend: false\\u003cbr \\\\/\\u003eBeteiligte: Fu\\u00dfg\\u00e4nger\\u003cbr \\\\/\\u003eFahrt: VM2_-1587513696\\&quot;, false ] ]&quot;, &quot;rides&quot;: 147, &quot;score&quot;: 0.006802721088435374, &quot;surface_category&quot;: null, &quot;type&quot;: &quot;Street&quot;}, &quot;type&quot;: &quot;Feature&quot;}, {&quot;bbox&quot;: [13.426362381677965, 52.47698745155275, 13.426589593790208, 52.477473362778824], &quot;geometry&quot;: {&quot;coordinates&quot;: [[[13.42638363653997, 52.47746854283844], [13.426362381677965, 52.477473362778824], [13.426572096184163, 52.47698745155275], [13.426589593790208, 52.47699133718974], [13.42638363653997, 52.47746854283844]]], &quot;type&quot;: &quot;Polygon&quot;}, &quot;id&quot;: &quot;486&quot;, &quot;properties&quot;: {&quot;id&quot;: &quot;[312142].0&quot;, &quot;incidents&quot;: 8, &quot;index_right&quot;: null, &quot;markers&quot;: &quot;[ [ [ 13.426516880302904, 52.477071106616734 ], \\&quot;Datum: 22\\\\/09\\\\/2019 12:16:31\\u003cbr \\\\/\\u003eTyp: Zu dichtes Auffahren\\u003cbr \\\\/\\u003eBeschreibung: \\u003cbr \\\\/\\u003eBe\\u00e4ngstigend: false\\u003cbr \\\\/\\u003eBeteiligte: PKW\\u003cbr \\\\/\\u003eFahrt: VM2_874834563\\&quot;, false ], [ [ 13.426364312077137, 52.477354739568717 ], \\&quot;Datum: 05\\\\/06\\\\/2020 08:23:28\\u003cbr \\\\/\\u003eTyp: Zu dichtes \\u00dcberholen\\u003cbr \\\\/\\u003eBeschreibung: \\u003cbr \\\\/\\u003eBe\\u00e4ngstigend: false\\u003cbr \\\\/\\u003eBeteiligte: PKW\\u003cbr \\\\/\\u003eFahrt: VM2_-1751180204\\&quot;, false ], [ [ 13.426468809844023, 52.47736110336632 ], \\&quot;Datum: 03\\\\/06\\\\/2020 08:52:26\\u003cbr \\\\/\\u003eTyp: Zu dichtes \\u00dcberholen\\u003cbr \\\\/\\u003eBeschreibung: \\u003cbr \\\\/\\u003eBe\\u00e4ngstigend: false\\u003cbr \\\\/\\u003eBeteiligte: PKW\\u003cbr \\\\/\\u003eFahrt: VM2_-924122926\\&quot;, false ], [ [ 13.426464070639016, 52.47719106011025 ], \\&quot;Datum: 25\\\\/08\\\\/2020 07:46:02\\u003cbr \\\\/\\u003eTyp: Zu dichtes \\u00dcberholen\\u003cbr \\\\/\\u003eBeschreibung: \\u003cbr \\\\/\\u003eBe\\u00e4ngstigend: false\\u003cbr \\\\/\\u003eBeteiligte: PKW\\u003cbr \\\\/\\u003eFahrt: VM2_-1736531633\\&quot;, false ], [ [ 13.426487332179075, 52.477085288270771 ], \\&quot;Datum: 07\\\\/10\\\\/2021 07:52:25\\u003cbr \\\\/\\u003eTyp: Zu dichtes \\u00dcberholen\\u003cbr \\\\/\\u003eBeschreibung: \\u003cbr \\\\/\\u003eBe\\u00e4ngstigend: false\\u003cbr \\\\/\\u003eBeteiligte: PKW\\u003cbr \\\\/\\u003eFahrt: VM2_909176012\\&quot;, false ], [ [ 13.426402072835995, 52.477303163819954 ], \\&quot;Datum: 25\\\\/09\\\\/2021 09:20:17\\u003cbr \\\\/\\u003eTyp: Zu dichtes \\u00dcberholen\\u003cbr \\\\/\\u003eBeschreibung: \\u003cbr \\\\/\\u003eBe\\u00e4ngstigend: false\\u003cbr \\\\/\\u003eBeteiligte: PKW\\u003cbr \\\\/\\u003eFahrt: VM2_-2054900288\\&quot;, false ], [ [ 13.426502448916755, 52.477272608019156 ], \\&quot;Datum: 11\\\\/09\\\\/2021 09:50:27\\u003cbr \\\\/\\u003eTyp: Zu dichtes \\u00dcberholen\\u003cbr \\\\/\\u003eBeschreibung: \\u003cbr \\\\/\\u003eBe\\u00e4ngstigend: false\\u003cbr \\\\/\\u003eBeteiligte: PKW\\u003cbr \\\\/\\u003eFahrt: VM2_753155471\\&quot;, false ], [ [ 13.426528505094822, 52.477338902498857 ], \\&quot;Datum: 01\\\\/09\\\\/2021 07:46:06\\u003cbr \\\\/\\u003eTyp: Zu dichtes \\u00dcberholen\\u003cbr \\\\/\\u003eBeschreibung: \\u003cbr \\\\/\\u003eBe\\u00e4ngstigend: false\\u003cbr \\\\/\\u003eBeteiligte: PKW\\u003cbr \\\\/\\u003eFahrt: VM2_-1475393250\\&quot;, false ] ]&quot;, &quot;rides&quot;: 348, &quot;score&quot;: 0.022988505747126436, &quot;surface_category&quot;: null, &quot;type&quot;: &quot;Street&quot;}, &quot;type&quot;: &quot;Feature&quot;}, {&quot;bbox&quot;: [13.35454535951093, 52.51735599024367, 13.354765132106355, 52.517960109754036], &quot;geometry&quot;: {&quot;coordinates&quot;: [[[13.35454535951093, 52.517372084302856], [13.354560899977734, 52.51735599024367], [13.354765132106355, 52.51795194123353], [13.354746875511191, 52.517960109754036], [13.35454535951093, 52.517372084302856]]], &quot;type&quot;: &quot;Polygon&quot;}, &quot;id&quot;: &quot;831&quot;, &quot;properties&quot;: {&quot;id&quot;: &quot;[318382].0&quot;, &quot;incidents&quot;: 1, &quot;index_right&quot;: null, &quot;markers&quot;: &quot;[ [ [ 13.354611970000001, 52.517418190000001 ], \\&quot;Datum: 20\\\\/12\\\\/2023 18:09:05\\u003cbr \\\\/\\u003eTyp: Zu dichtes \\u00dcberholen\\u003cbr \\\\/\\u003eBeschreibung: \\u003cbr \\\\/\\u003eBe\\u00e4ngstigend: false\\u003cbr \\\\/\\u003eBeteiligte: PKW\\u003cbr \\\\/\\u003eFahrt: VM2_1032586213\\&quot;, false ] ]&quot;, &quot;rides&quot;: 179, &quot;score&quot;: 0.00558659217877095, &quot;surface_category&quot;: null, &quot;type&quot;: &quot;Street&quot;}, &quot;type&quot;: &quot;Feature&quot;}, {&quot;bbox&quot;: [13.418556293520092, 52.52430672855949, 13.419322680985546, 52.52504847152234], &quot;geometry&quot;: {&quot;coordinates&quot;: [[[13.418556293520092, 52.524326105833524], [13.418565082952359, 52.52430672855949], [13.419322680985546, 52.52503485991145], [13.419307892411322, 52.52504847152234], [13.418556293520092, 52.524326105833524]]], &quot;type&quot;: &quot;Polygon&quot;}, &quot;id&quot;: &quot;1161&quot;, &quot;properties&quot;: {&quot;id&quot;: &quot;[254253].0&quot;, &quot;incidents&quot;: 1, &quot;index_right&quot;: null, &quot;markers&quot;: &quot;[ [ [ 13.419087409999999, 52.524852250000002 ], \\&quot;Datum: 23\\\\/10\\\\/2019 18:23:23\\u003cbr \\\\/\\u003eTyp: Sonstiges\\u003cbr \\\\/\\u003eBeschreibung: Zusammensto\\u00df mit Inline-skater auf dem Radfahrer-schutzstreifen\\u003cbr \\\\/\\u003eBe\\u00e4ngstigend: false\\u003cbr \\\\/\\u003eBeteiligte: Sonstiges\\u003cbr \\\\/\\u003eFahrt: VM2_-30391663\\&quot;, false ] ]&quot;, &quot;rides&quot;: 77, &quot;score&quot;: 0.012987012987012988, &quot;surface_category&quot;: null, &quot;type&quot;: &quot;Street&quot;}, &quot;type&quot;: &quot;Feature&quot;}, {&quot;bbox&quot;: [13.375873857901126, 52.528674605979916, 13.377237669163735, 52.52925129507102], &quot;geometry&quot;: {&quot;coordinates&quot;: [[[13.377237669163735, 52.5291327036562], [13.377230754663401, 52.52925129507102], [13.375873857901126, 52.5287757982187], [13.375930420037912, 52.528674605979916], [13.377237669163735, 52.5291327036562]]], &quot;type&quot;: &quot;Polygon&quot;}, &quot;id&quot;: &quot;1227&quot;, &quot;properties&quot;: {&quot;id&quot;: &quot;[182563].0&quot;, &quot;incidents&quot;: 1, &quot;index_right&quot;: null, &quot;markers&quot;: &quot;[ [ [ 13.376303999999999, 52.528874000000002 ], \\&quot;Datum: 14\\\\/02\\\\/2020 08:08:51\\u003cbr \\\\/\\u003eTyp: Zu dichtes \\u00dcberholen\\u003cbr \\\\/\\u003eBeschreibung: \\u003cbr \\\\/\\u003eBe\\u00e4ngstigend: false\\u003cbr \\\\/\\u003eBeteiligte: LKW\\u003cbr \\\\/\\u003eFahrt: VM2_786449801\\&quot;, false ] ]&quot;, &quot;rides&quot;: 53, &quot;score&quot;: 0.018867924528301886, &quot;surface_category&quot;: null, &quot;type&quot;: &quot;Street&quot;}, &quot;type&quot;: &quot;Feature&quot;}, {&quot;bbox&quot;: [13.37861867459053, 52.5445481065434, 13.37879070096451, 52.54465167946634], &quot;geometry&quot;: {&quot;coordinates&quot;: [[[13.378774420946478, 52.5445481065434], [13.37879070096451, 52.54455790743827], [13.378626208244205, 52.54465167946634], [13.37861867459053, 52.54463689257022], [13.378774420946478, 52.5445481065434]]], &quot;type&quot;: &quot;Polygon&quot;}, &quot;id&quot;: &quot;1309&quot;, &quot;properties&quot;: {&quot;id&quot;: &quot;[294495].0&quot;, &quot;incidents&quot;: 2, &quot;index_right&quot;: null, &quot;markers&quot;: &quot;[ [ [ 13.37874779, 52.54460083 ], \\&quot;Datum: 30\\\\/06\\\\/2020 23:03:07\\u003cbr \\\\/\\u003eTyp: Zu dichtes \\u00dcberholen\\u003cbr \\\\/\\u003eBeschreibung: \\u003cbr \\\\/\\u003eBe\\u00e4ngstigend: true\\u003cbr \\\\/\\u003eBeteiligte: PKW\\u003cbr \\\\/\\u003eFahrt: VM2_1677721392\\&quot;, true ], [ [ 13.37866548, 52.544553919999998 ], \\&quot;Datum: 27\\\\/05\\\\/2022 14:07:58\\u003cbr \\\\/\\u003eTyp: Zu dichtes \\u00dcberholen\\u003cbr \\\\/\\u003eBeschreibung: \\u003cbr \\\\/\\u003eBe\\u00e4ngstigend: true\\u003cbr \\\\/\\u003eBeteiligte: Lieferwagen\\u003cbr \\\\/\\u003eFahrt: VM2_-572005769\\&quot;, true ] ]&quot;, &quot;rides&quot;: 11, &quot;score&quot;: 0.8, &quot;surface_category&quot;: null, &quot;type&quot;: &quot;Street&quot;}, &quot;type&quot;: &quot;Feature&quot;}, {&quot;bbox&quot;: [13.418199911721212, 52.49948747072075, 13.418353733200584, 52.499807826205284], &quot;geometry&quot;: {&quot;coordinates&quot;: [[[13.41824369322396, 52.4995362225333], [13.41821882832258, 52.49959479093699], [13.418353733200584, 52.499807826205284], [13.418199911721212, 52.49960115372236], [13.418231098821538, 52.49952507763141], [13.4183025484803, 52.49948747072075], [13.41824369322396, 52.4995362225333]]], &quot;type&quot;: &quot;Polygon&quot;}, &quot;id&quot;: &quot;2252&quot;, &quot;properties&quot;: {&quot;id&quot;: &quot;[285251].0&quot;, &quot;incidents&quot;: 1, &quot;index_right&quot;: null, &quot;markers&quot;: &quot;[ [ [ 13.418322913348675, 52.499767122790217 ], \\&quot;Datum: 17\\\\/11\\\\/2021 18:41:41\\u003cbr \\\\/\\u003eTyp: Einem Hindernis ausweichen (z.B. Hund)\\u003cbr \\\\/\\u003eBeschreibung: Baustelle \\u003cbr \\\\/\\u003eBe\\u00e4ngstigend: false\\u003cbr \\\\/\\u003eBeteiligte: Sonstiges\\u003cbr \\\\/\\u003eFahrt: VM2_-1714344946\\&quot;, false ] ]&quot;, &quot;rides&quot;: 53, &quot;score&quot;: 0.018867924528301886, &quot;surface_category&quot;: null, &quot;type&quot;: &quot;Street&quot;}, &quot;type&quot;: &quot;Feature&quot;}, {&quot;bbox&quot;: [13.393854749993412, 52.489054606689834, 13.395849772954454, 52.48933270181418], &quot;geometry&quot;: {&quot;coordinates&quot;: [[[13.39393570920086, 52.48923195900967], [13.395487143556283, 52.489054606689834], [13.395564037788994, 52.48931567397235], [13.395849772954454, 52.48930596539609], [13.395549844095969, 52.48933270181418], [13.395477069925349, 52.489073143359256], [13.393854749993412, 52.48925940349538], [13.39393570920086, 52.48923195900967]]], &quot;type&quot;: &quot;Polygon&quot;}, &quot;id&quot;: &quot;2392&quot;, &quot;properties&quot;: {&quot;id&quot;: &quot;[106277].0&quot;, &quot;incidents&quot;: 1, &quot;index_right&quot;: null, &quot;markers&quot;: &quot;[ [ [ 13.393956666666668, 52.48930166666667 ], \\&quot;Datum: 16\\\\/12\\\\/2020 15:16:39\\u003cbr \\\\/\\u003eTyp: Einem Hindernis ausweichen (z.B. Hund)\\u003cbr \\\\/\\u003eBeschreibung: Hier nehmen t\\u00e4glich die flanierenden Zufu\\u00dfgehenden den Zweirichtungsradweg nicht als solchen wahr, so dass man oft gef\\u00e4hrlichen Slalom fahren muss. Au\\u00dferdem ist die Oberfl\\u00e4chenqualit\\u00e4t von Radweg und Fahrradstra\\u00dfe ziemlich bis sehr schlecht\\u003cbr \\\\/\\u003eBe\\u00e4ngstigend: false\\u003cbr \\\\/\\u003eBeteiligte: Fu\\u00dfg\\u00e4nger\\u003cbr \\\\/\\u003eFahrt: VM2_-1596872707\\&quot;, false ] ]&quot;, &quot;rides&quot;: 54, &quot;score&quot;: 0.018518518518518517, &quot;surface_category&quot;: null, &quot;type&quot;: &quot;Street&quot;}, &quot;type&quot;: &quot;Feature&quot;}, {&quot;bbox&quot;: [13.375955102044722, 52.52862122074322, 13.37741110990597, 52.5291579803893], &quot;geometry&quot;: {&quot;coordinates&quot;: [[[13.375955102044722, 52.528739007686845], [13.375956436899544, 52.52862122074322], [13.37741110990597, 52.529055364446435], [13.377358937810598, 52.5291579803893], [13.375955102044722, 52.528739007686845]]], &quot;type&quot;: &quot;Polygon&quot;}, &quot;id&quot;: &quot;2456&quot;, &quot;properties&quot;: {&quot;id&quot;: &quot;[182566].0&quot;, &quot;incidents&quot;: 3, &quot;index_right&quot;: null, &quot;markers&quot;: &quot;[ [ [ 13.376785999999999, 52.528927000000003 ], \\&quot;Datum: 13\\\\/06\\\\/2019 08:52:50\\u003cbr \\\\/\\u003eTyp: Zu dichtes \\u00dcberholen\\u003cbr \\\\/\\u003eBeschreibung: Busse stauen sich auf dem Radweg an der Haltestelle \\u003cbr \\\\/\\u003eBe\\u00e4ngstigend: false\\u003cbr \\\\/\\u003eBeteiligte: Bus\\u003cbr \\\\/\\u003eFahrt: VM2_1671077829\\&quot;, false ], [ [ 13.37617685, 52.528742440000002 ], \\&quot;Datum: 15\\\\/08\\\\/2019 19:11:10\\u003cbr \\\\/\\u003eTyp: Sonstiges\\u003cbr \\\\/\\u003eBeschreibung: halt an roter Ampel \\u003cbr \\\\/\\u003eBe\\u00e4ngstigend: false\\u003cbr \\\\/\\u003eBeteiligte: \\u003cbr \\\\/\\u003eFahrt: VM2_210187307\\&quot;, false ], [ [ 13.37725489, 52.529044849999998 ], \\&quot;Datum: 20\\\\/08\\\\/2019 18:13:02\\u003cbr \\\\/\\u003eTyp: Sonstiges\\u003cbr \\\\/\\u003eBeschreibung: Wechsel von Rad- auf Fu\\u00dfweg, um radfahrerstau durch Bus an kommender Ampel zu umgehen \\u003cbr \\\\/\\u003eBe\\u00e4ngstigend: false\\u003cbr \\\\/\\u003eBeteiligte: \\u003cbr \\\\/\\u003eFahrt: VM2_-1807801772\\&quot;, false ] ]&quot;, &quot;rides&quot;: 150, &quot;score&quot;: 0.02, &quot;surface_category&quot;: null, &quot;type&quot;: &quot;Street&quot;}, &quot;type&quot;: &quot;Feature&quot;}, {&quot;bbox&quot;: [13.394978659920993, 52.532359127845965, 13.395449379633718, 52.5324352722147], &quot;geometry&quot;: {&quot;coordinates&quot;: [[[13.394981855758237, 52.532377947198384], [13.394978659920993, 52.532359127845965], [13.395449379633718, 52.53241757777237], [13.395443515586301, 52.5324352722147], [13.394981855758237, 52.532377947198384]]], &quot;type&quot;: &quot;Polygon&quot;}, &quot;id&quot;: &quot;2755&quot;, &quot;properties&quot;: {&quot;id&quot;: &quot;[285040].0&quot;, &quot;incidents&quot;: 1, &quot;index_right&quot;: null, &quot;markers&quot;: &quot;[ [ [ 13.395198690000001, 52.53240521 ], \\&quot;Datum: 15\\\\/01\\\\/2020 17:38:10\\u003cbr \\\\/\\u003eTyp: Ein- oder ausparkendes Fahrzeug\\u003cbr \\\\/\\u003eBeschreibung: Ohne zu blinken vom Stra\\u00dfenrand los w\\u00e4hrend ich \\u00fcberholt habe. Das war knapp. \\u003cbr \\\\/\\u003eBe\\u00e4ngstigend: true\\u003cbr \\\\/\\u003eBeteiligte: PKW\\u003cbr \\\\/\\u003eFahrt: VM2_1041621209\\&quot;, true ] ]&quot;, &quot;rides&quot;: 93, &quot;score&quot;: 0.04731182795698925, &quot;surface_category&quot;: null, &quot;type&quot;: &quot;Street&quot;}, &quot;type&quot;: &quot;Feature&quot;}, {&quot;bbox&quot;: [13.451829888864587, 52.510804332390876, 13.452531570662456, 52.512358767629294], &quot;geometry&quot;: {&quot;coordinates&quot;: [[[13.451829888864587, 52.51082125954673], [13.451844302414369, 52.510804332390876], [13.452531570662456, 52.512349448750534], [13.45251377280326, 52.512358767629294], [13.451829888864587, 52.51082125954673]]], &quot;type&quot;: &quot;Polygon&quot;}, &quot;id&quot;: &quot;3677&quot;, &quot;properties&quot;: {&quot;id&quot;: &quot;[219105].0&quot;, &quot;incidents&quot;: 1, &quot;index_right&quot;: null, &quot;markers&quot;: &quot;[ [ [ 13.452504649758339, 52.512226025573909 ], \\&quot;Datum: 11\\\\/10\\\\/2023 17:15:08\\u003cbr \\\\/\\u003eTyp: Beinahe-Abbiegeunfall\\u003cbr \\\\/\\u003eBeschreibung: \\u003cbr \\\\/\\u003eBe\\u00e4ngstigend: false\\u003cbr \\\\/\\u003eBeteiligte: Lieferwagen\\u003cbr \\\\/\\u003eFahrt: VM2_-542324793\\&quot;, false ] ]&quot;, &quot;rides&quot;: 101, &quot;score&quot;: 0.009900990099009901, &quot;surface_category&quot;: null, &quot;type&quot;: &quot;Street&quot;}, &quot;type&quot;: &quot;Feature&quot;}, {&quot;bbox&quot;: [13.385631953955723, 52.50771428027568, 13.385775151854714, 52.507980379643996], &quot;geometry&quot;: {&quot;coordinates&quot;: [[[13.385631953955723, 52.507931819679875], [13.38566604968032, 52.50781727175623], [13.385775151854714, 52.50771428027568], [13.385672190791238, 52.507980379643996], [13.385631953955723, 52.507931819679875]]], &quot;type&quot;: &quot;Polygon&quot;}, &quot;id&quot;: &quot;4449&quot;, &quot;properties&quot;: {&quot;id&quot;: &quot;[319205].0&quot;, &quot;incidents&quot;: 1, &quot;index_right&quot;: null, &quot;markers&quot;: &quot;[ [ [ 13.385719999999999, 52.507689999999997 ], \\&quot;Datum: 04\\\\/07\\\\/2019 09:58:45\\u003cbr \\\\/\\u003eTyp: Sonstiges\\u003cbr \\\\/\\u003eBeschreibung: Mietwagen parkt auf Radspur\\u003cbr \\\\/\\u003eBe\\u00e4ngstigend: true\\u003cbr \\\\/\\u003eBeteiligte: PKW,Sonstiges\\u003cbr \\\\/\\u003eFahrt: VM2_1435959212\\&quot;, true ] ]&quot;, &quot;rides&quot;: 15, &quot;score&quot;: 0.29333333333333333, &quot;surface_category&quot;: null, &quot;type&quot;: &quot;Street&quot;}, &quot;type&quot;: &quot;Feature&quot;}, {&quot;bbox&quot;: [13.412411331884242, 52.51379218572337, 13.417491251601295, 52.5144193093055], &quot;geometry&quot;: {&quot;coordinates&quot;: [[[13.412848408071927, 52.513895710669686], [13.41416858354172, 52.51430894430479], [13.414831947980101, 52.514401470179706], [13.416732202063262, 52.51427138055304], [13.417302946896887, 52.51406245479218], [13.417491251601295, 52.5140409270445], [13.416731143721922, 52.51428907712909], [13.41482798023533, 52.5144193093055], [13.414160282378008, 52.51432616494639], [13.412411331884242, 52.51379218572337], [13.412848408071927, 52.513895710669686]]], &quot;type&quot;: &quot;Polygon&quot;}, &quot;id&quot;: &quot;4550&quot;, &quot;properties&quot;: {&quot;id&quot;: &quot;[218736].0&quot;, &quot;incidents&quot;: 1, &quot;index_right&quot;: null, &quot;markers&quot;: &quot;[ [ [ 13.412610311061144, 52.513672616332769 ], \\&quot;Datum: 27\\\\/08\\\\/2019 19:45:21\\u003cbr \\\\/\\u003eTyp: Einem Hindernis ausweichen (z.B. Hund)\\u003cbr \\\\/\\u003eBeschreibung: \\u003cbr \\\\/\\u003eBe\\u00e4ngstigend: false\\u003cbr \\\\/\\u003eBeteiligte: Fu\\u00dfg\\u00e4nger\\u003cbr \\\\/\\u003eFahrt: VM2_1260093515\\&quot;, false ] ]&quot;, &quot;rides&quot;: 71, &quot;score&quot;: 0.014084507042253521, &quot;surface_category&quot;: null, &quot;type&quot;: &quot;Street&quot;}, &quot;type&quot;: &quot;Feature&quot;}, {&quot;bbox&quot;: [13.326559011586065, 52.52223617578253, 13.32784862278351, 52.52253009414303], &quot;geometry&quot;: {&quot;coordinates&quot;: [[[13.327748646287324, 52.522281211489215], [13.327054274932673, 52.52253009414303], [13.326874677287607, 52.52247453974812], [13.326834238646079, 52.52240976672318], [13.326559011586065, 52.522427709698135], [13.326844044904712, 52.522391659530115], [13.327054170690669, 52.52251247910571], [13.32784862278351, 52.52223617578253], [13.327748646287324, 52.522281211489215]]], &quot;type&quot;: &quot;Polygon&quot;}, &quot;id&quot;: &quot;5092&quot;, &quot;properties&quot;: {&quot;id&quot;: &quot;[231225].0&quot;, &quot;incidents&quot;: 1, &quot;index_right&quot;: null, &quot;markers&quot;: &quot;[ [ [ 13.327546012646513, 52.522263597830523 ], \\&quot;Datum: 30\\\\/10\\\\/2019 10:27:52\\u003cbr \\\\/\\u003eTyp: Ein- oder ausparkendes Fahrzeug\\u003cbr \\\\/\\u003eBeschreibung: \\u003cbr \\\\/\\u003eBe\\u00e4ngstigend: false\\u003cbr \\\\/\\u003eBeteiligte: Bus\\u003cbr \\\\/\\u003eFahrt: VM2_-1544776498\\&quot;, false ] ]&quot;, &quot;rides&quot;: 62, &quot;score&quot;: 0.016129032258064516, &quot;surface_category&quot;: null, &quot;type&quot;: &quot;Street&quot;}, &quot;type&quot;: &quot;Feature&quot;}, {&quot;bbox&quot;: [13.344677207162462, 52.514291673214785, 13.347261925643963, 52.51448742711505], &quot;geometry&quot;: {&quot;coordinates&quot;: [[[13.344681559167665, 52.51431009279063], [13.344677207162462, 52.514291673214785], [13.347261925643963, 52.51446964125927], [13.3472570682728, 52.51448742711505], [13.344681559167665, 52.51431009279063]]], &quot;type&quot;: &quot;Polygon&quot;}, &quot;id&quot;: &quot;5733&quot;, &quot;properties&quot;: {&quot;id&quot;: &quot;[295935].0&quot;, &quot;incidents&quot;: 2, &quot;index_right&quot;: null, &quot;markers&quot;: &quot;[ [ [ 13.34591627, 52.514429700000001 ], \\&quot;Datum: 12\\\\/08\\\\/2022 09:56:58\\u003cbr \\\\/\\u003eTyp: Einem Hindernis ausweichen (z.B. Hund)\\u003cbr \\\\/\\u003eBeschreibung: cars on the door zone\\u003cbr \\\\/\\u003eBe\\u00e4ngstigend: false\\u003cbr \\\\/\\u003eBeteiligte: PKW\\u003cbr \\\\/\\u003eFahrt: VM2_1509435439\\&quot;, false ], [ [ 13.345210420000001, 52.514329940000003 ], \\&quot;Datum: 22\\\\/08\\\\/2022 09:39:14\\u003cbr \\\\/\\u003eTyp: Einem Hindernis ausweichen (z.B. Hund)\\u003cbr \\\\/\\u003eBeschreibung: many cars and trucks parked on the door zone -\\u003e can\\u0027t overtake other cyclists\\u003cbr \\\\/\\u003eBe\\u00e4ngstigend: false\\u003cbr \\\\/\\u003eBeteiligte: Lieferwagen,LKW,PKW\\u003cbr \\\\/\\u003eFahrt: VM2_-1170983166\\&quot;, false ] ]&quot;, &quot;rides&quot;: 811, &quot;score&quot;: 0.002466091245376079, &quot;surface_category&quot;: null, &quot;type&quot;: &quot;Street&quot;}, &quot;type&quot;: &quot;Feature&quot;}, {&quot;bbox&quot;: [13.42154823513256, 52.52385602711545, 13.423978968961258, 52.524821872342585], &quot;geometry&quot;: {&quot;coordinates&quot;: [[[13.423350073750164, 52.524119752094364], [13.421552605367076, 52.524821872342585], [13.42154823513256, 52.52480556772862], [13.423978968961258, 52.52385602711545], [13.423350073750164, 52.524119752094364]]], &quot;type&quot;: &quot;Polygon&quot;}, &quot;id&quot;: &quot;5988&quot;, &quot;properties&quot;: {&quot;id&quot;: &quot;[255271].0&quot;, &quot;incidents&quot;: 2, &quot;index_right&quot;: null, &quot;markers&quot;: &quot;[ [ [ 13.423172087183385, 52.524187071341352 ], \\&quot;Datum: 21\\\\/10\\\\/2019 07:40:04\\u003cbr \\\\/\\u003eTyp: Sonstiges\\u003cbr \\\\/\\u003eBeschreibung: Pkw h\\u00e4lt auf Schutzstreifen, ausweichen in den flie\\u00dfenden Verkehr\\u003cbr \\\\/\\u003eBe\\u00e4ngstigend: false\\u003cbr \\\\/\\u003eBeteiligte: PKW\\u003cbr \\\\/\\u003eFahrt: VM2_414564607\\&quot;, false ], [ [ 13.42280341, 52.524302550000002 ], \\&quot;Datum: 16\\\\/08\\\\/2019 06:06:47\\u003cbr \\\\/\\u003eTyp: Einem Hindernis ausweichen (z.B. Hund)\\u003cbr \\\\/\\u003eBeschreibung: Halten auf Radweg\\u003cbr \\\\/\\u003eBe\\u00e4ngstigend: false\\u003cbr \\\\/\\u003eBeteiligte: PKW\\u003cbr \\\\/\\u003eFahrt: VM2_1115969539\\&quot;, false ] ]&quot;, &quot;rides&quot;: 65, &quot;score&quot;: 0.03076923076923077, &quot;surface_category&quot;: null, &quot;type&quot;: &quot;Street&quot;}, &quot;type&quot;: &quot;Feature&quot;}, {&quot;bbox&quot;: [13.390348867349585, 52.535447995460736, 13.390923226854007, 52.535827517152256], &quot;geometry&quot;: {&quot;coordinates&quot;: [[[13.390424015943271, 52.53551848370588], [13.390348867349585, 52.535447995460736], [13.390923226854007, 52.53581216779033], [13.390910654720704, 52.535827517152256], [13.390424015943271, 52.53551848370588]]], &quot;type&quot;: &quot;Polygon&quot;}, &quot;id&quot;: &quot;6176&quot;, &quot;properties&quot;: {&quot;id&quot;: &quot;[230973].0&quot;, &quot;incidents&quot;: 2, &quot;index_right&quot;: null, &quot;markers&quot;: &quot;[ [ [ 13.390721706258136, 52.535695538992663 ], \\&quot;Datum: 07\\\\/11\\\\/2019 18:08:05\\u003cbr \\\\/\\u003eTyp: Einem Hindernis ausweichen (z.B. Hund)\\u003cbr \\\\/\\u003eBeschreibung: \\u003cbr \\\\/\\u003eBe\\u00e4ngstigend: false\\u003cbr \\\\/\\u003eBeteiligte: Fahrrad,Fu\\u00dfg\\u00e4nger,E-Scooter\\u003cbr \\\\/\\u003eFahrt: VM2_-1366242438\\&quot;, false ], [ [ 13.390509959999999, 52.535491639999996 ], \\&quot;Datum: 03\\\\/10\\\\/2020 13:36:46\\u003cbr \\\\/\\u003eTyp: Einem Hindernis ausweichen (z.B. Hund)\\u003cbr \\\\/\\u003eBeschreibung: \\u003cbr \\\\/\\u003eBe\\u00e4ngstigend: false\\u003cbr \\\\/\\u003eBeteiligte: Fu\\u00dfg\\u00e4nger\\u003cbr \\\\/\\u003eFahrt: VM2_1985387780\\&quot;, false ] ]&quot;, &quot;rides&quot;: 64, &quot;score&quot;: 0.03125, &quot;surface_category&quot;: null, &quot;type&quot;: &quot;Street&quot;}, &quot;type&quot;: &quot;Feature&quot;}, {&quot;bbox&quot;: [13.317012870962841, 52.50139140691878, 13.317735217354443, 52.501771126813935], &quot;geometry&quot;: {&quot;coordinates&quot;: [[[13.317053227870458, 52.50176566566142], [13.317012870962841, 52.50139140691878], [13.317735217354443, 52.50149693187353], [13.317064920305112, 52.501771126813935], [13.317053227870458, 52.50176566566142]]], &quot;type&quot;: &quot;Polygon&quot;}, &quot;id&quot;: &quot;6260&quot;, &quot;properties&quot;: {&quot;id&quot;: &quot;[49362].0&quot;, &quot;incidents&quot;: 2, &quot;index_right&quot;: null, &quot;markers&quot;: &quot;[ [ [ 13.317163333333333, 52.501436666666663 ], \\&quot;Datum: 13\\\\/10\\\\/2023 08:19:35\\u003cbr \\\\/\\u003eTyp: Zu dichtes \\u00dcberholen\\u003cbr \\\\/\\u003eBeschreibung: uber Fahrer\\u003cbr \\\\/\\u003eBe\\u00e4ngstigend: false\\u003cbr \\\\/\\u003eBeteiligte: PKW,Taxi,Sonstiges\\u003cbr \\\\/\\u003eFahrt: VM2_461315672\\&quot;, false ], [ [ 13.31702037406232, 52.50195399333488 ], \\&quot;Datum: 27\\\\/07\\\\/2021 09:07:55\\u003cbr \\\\/\\u003eTyp: Ein- oder ausparkendes Fahrzeug\\u003cbr \\\\/\\u003eBeschreibung: 2 Parkende auf dem Radschutzstreifen \\u003cbr \\\\/\\u003eBe\\u00e4ngstigend: false\\u003cbr \\\\/\\u003eBeteiligte: PKW\\u003cbr \\\\/\\u003eFahrt: VM2_1250756831\\&quot;, false ] ]&quot;, &quot;rides&quot;: 247, &quot;score&quot;: 0.008097165991902834, &quot;surface_category&quot;: null, &quot;type&quot;: &quot;Street&quot;}, &quot;type&quot;: &quot;Feature&quot;}, {&quot;bbox&quot;: [13.38919955263751, 52.51485842425284, 13.389307932905249, 52.51529413200615], &quot;geometry&quot;: {&quot;coordinates&quot;: [[[13.389269290013187, 52.514889716715594], [13.389307932905249, 52.51485842425284], [13.38921834814588, 52.515293698626095], [13.38919955263751, 52.51529413200615], [13.389269290013187, 52.514889716715594]]], &quot;type&quot;: &quot;Polygon&quot;}, &quot;id&quot;: &quot;6483&quot;, &quot;properties&quot;: {&quot;id&quot;: &quot;[226571].0&quot;, &quot;incidents&quot;: 3, &quot;index_right&quot;: null, &quot;markers&quot;: &quot;[ [ [ 13.3892951, 52.514956840000004 ], \\&quot;Datum: 15\\\\/07\\\\/2019 09:52:28\\u003cbr \\\\/\\u003eTyp: Zu dichtes \\u00dcberholen\\u003cbr \\\\/\\u003eBeschreibung: \\u003cbr \\\\/\\u003eBe\\u00e4ngstigend: true\\u003cbr \\\\/\\u003eBeteiligte: PKW\\u003cbr \\\\/\\u003eFahrt: VM2_-693605283\\&quot;, true ], [ [ 13.389226239999999, 52.515189550000002 ], \\&quot;Datum: 29\\\\/05\\\\/2020 20:37:10\\u003cbr \\\\/\\u003eTyp: Zu dichtes \\u00dcberholen\\u003cbr \\\\/\\u003eBeschreibung: \\u003cbr \\\\/\\u003eBe\\u00e4ngstigend: false\\u003cbr \\\\/\\u003eBeteiligte: PKW\\u003cbr \\\\/\\u003eFahrt: VM2_173034348\\&quot;, false ], [ [ 13.38924995, 52.515268040000002 ], \\&quot;Datum: 07\\\\/06\\\\/2020 19:44:47\\u003cbr \\\\/\\u003eTyp: Zu dichtes \\u00dcberholen\\u003cbr \\\\/\\u003eBeschreibung: \\u003cbr \\\\/\\u003eBe\\u00e4ngstigend: false\\u003cbr \\\\/\\u003eBeteiligte: Taxi\\u003cbr \\\\/\\u003eFahrt: VM2_2120989547\\&quot;, false ] ]&quot;, &quot;rides&quot;: 148, &quot;score&quot;: 0.043243243243243246, &quot;surface_category&quot;: null, &quot;type&quot;: &quot;Street&quot;}, &quot;type&quot;: &quot;Feature&quot;}, {&quot;bbox&quot;: [13.405864249692275, 52.48865066632167, 13.407577308818615, 52.488689517931356], &quot;geometry&quot;: {&quot;coordinates&quot;: [[[13.405870346254265, 52.488689517931356], [13.405864249692275, 52.48867179782479], [13.407577308818615, 52.48865066632167], [13.407574025748946, 52.4886685023846], [13.405870346254265, 52.488689517931356]]], &quot;type&quot;: &quot;Polygon&quot;}, &quot;id&quot;: &quot;6761&quot;, &quot;properties&quot;: {&quot;id&quot;: &quot;[326407].0&quot;, &quot;incidents&quot;: 1, &quot;index_right&quot;: null, &quot;markers&quot;: &quot;[ [ [ 13.40654294, 52.488678819999997 ], \\&quot;Datum: 14\\\\/03\\\\/2024 12:38:58\\u003cbr \\\\/\\u003eTyp: Zu dichtes Auffahren\\u003cbr \\\\/\\u003eBeschreibung: \\u003cbr \\\\/\\u003eBe\\u00e4ngstigend: false\\u003cbr \\\\/\\u003eBeteiligte: Fahrrad\\u003cbr \\\\/\\u003eFahrt: VM2_-1725750323\\&quot;, false ] ]&quot;, &quot;rides&quot;: 445, &quot;score&quot;: 0.0022471910112359553, &quot;surface_category&quot;: null, &quot;type&quot;: &quot;Street&quot;}, &quot;type&quot;: &quot;Feature&quot;}, {&quot;bbox&quot;: [13.37891233192785, 52.52383811908894, 13.379214982402415, 52.5241242411977], &quot;geometry&quot;: {&quot;coordinates&quot;: [[[13.379214982402415, 52.52383811908894], [13.379152589437641, 52.5241242411977], [13.37891233192785, 52.52411387126626], [13.379134682566983, 52.52410856998504], [13.379104262263926, 52.52395957965042], [13.379214982402415, 52.52383811908894]]], &quot;type&quot;: &quot;Polygon&quot;}, &quot;id&quot;: &quot;6857&quot;, &quot;properties&quot;: {&quot;id&quot;: &quot;[302451].0&quot;, &quot;incidents&quot;: 1, &quot;index_right&quot;: null, &quot;markers&quot;: &quot;[ [ [ 13.37921965, 52.523960039999999 ], \\&quot;Datum: 09\\\\/04\\\\/2021 19:55:48\\u003cbr \\\\/\\u003eTyp: Zu dichtes \\u00dcberholen\\u003cbr \\\\/\\u003eBeschreibung: \\u003cbr \\\\/\\u003eBe\\u00e4ngstigend: false\\u003cbr \\\\/\\u003eBeteiligte: \\u003cbr \\\\/\\u003eFahrt: VM2_-1242928355\\&quot;, false ] ]&quot;, &quot;rides&quot;: 115, &quot;score&quot;: 0.008695652173913044, &quot;surface_category&quot;: null, &quot;type&quot;: &quot;Street&quot;}, &quot;type&quot;: &quot;Feature&quot;}, {&quot;bbox&quot;: [13.379206551823874, 52.52635549207561, 13.37952533734284, 52.52639070796417], &quot;geometry&quot;: {&quot;coordinates&quot;: [[[13.37952068097016, 52.52637239681379], [13.37952533734284, 52.52639070796417], [13.379206551823874, 52.52637329841428], [13.379211138195135, 52.52635549207561], [13.37952068097016, 52.52637239681379]]], &quot;type&quot;: &quot;Polygon&quot;}, &quot;id&quot;: &quot;7660&quot;, &quot;properties&quot;: {&quot;id&quot;: &quot;[309288].0&quot;, &quot;incidents&quot;: 5, &quot;index_right&quot;: null, &quot;markers&quot;: &quot;[ [ [ 13.379543959999999, 52.526683609999999 ], \\&quot;Datum: 14\\\\/03\\\\/2024 09:05:05\\u003cbr \\\\/\\u003eTyp: Zu dichtes \\u00dcberholen\\u003cbr \\\\/\\u003eBeschreibung: \\u003cbr \\\\/\\u003eBe\\u00e4ngstigend: true\\u003cbr \\\\/\\u003eBeteiligte: PKW\\u003cbr \\\\/\\u003eFahrt: VM2_-741717310\\&quot;, true ], [ [ 13.37931025, 52.526594240000001 ], \\&quot;Datum: 14\\\\/08\\\\/2023 16:21:28\\u003cbr \\\\/\\u003eTyp: Zu dichtes \\u00dcberholen\\u003cbr \\\\/\\u003eBeschreibung: \\u003cbr \\\\/\\u003eBe\\u00e4ngstigend: true\\u003cbr \\\\/\\u003eBeteiligte: PKW\\u003cbr \\\\/\\u003eFahrt: VM2_-2069949754\\&quot;, true ], [ [ 13.37921922, 52.526568679999997 ], \\&quot;Datum: 08\\\\/11\\\\/2021 20:18:14\\u003cbr \\\\/\\u003eTyp: Entgegenkommender Verkehrsteilnehmer\\u003cbr \\\\/\\u003eBeschreibung: 2 Autos nehmen mir in Engstelle die Vorfahrt\\u003cbr \\\\/\\u003eBe\\u00e4ngstigend: false\\u003cbr \\\\/\\u003eBeteiligte: PKW\\u003cbr \\\\/\\u003eFahrt: VM2_-1264478141\\&quot;, false ], [ [ 13.37928711, 52.526436529999998 ], \\&quot;Datum: 30\\\\/11\\\\/2022 19:13:04\\u003cbr \\\\/\\u003eTyp: Zu dichtes \\u00dcberholen\\u003cbr \\\\/\\u003eBeschreibung: \\u003cbr \\\\/\\u003eBe\\u00e4ngstigend: false\\u003cbr \\\\/\\u003eBeteiligte: Taxi\\u003cbr \\\\/\\u003eFahrt: VM2_-1739858422\\&quot;, false ], [ [ 13.37922419, 52.526577420000002 ], \\&quot;Datum: 13\\\\/11\\\\/2022 20:38:46\\u003cbr \\\\/\\u003eTyp: Zu dichtes \\u00dcberholen\\u003cbr \\\\/\\u003eBeschreibung: \\u003cbr \\\\/\\u003eBe\\u00e4ngstigend: true\\u003cbr \\\\/\\u003eBeteiligte: Taxi\\u003cbr \\\\/\\u003eFahrt: VM2_132246769\\&quot;, true ] ]&quot;, &quot;rides&quot;: 122, &quot;score&quot;: 0.12459016393442623, &quot;surface_category&quot;: null, &quot;type&quot;: &quot;Street&quot;}, &quot;type&quot;: &quot;Feature&quot;}, {&quot;bbox&quot;: [13.330413190941217, 52.51292795330467, 13.330588384663047, 52.51297536838819], &quot;geometry&quot;: {&quot;coordinates&quot;: [[[13.330578715242337, 52.51292795330467], [13.330588384663047, 52.51294372499935], [13.330413336065835, 52.51297536838819], [13.330413190941217, 52.512957875018955], [13.330578715242337, 52.51292795330467]]], &quot;type&quot;: &quot;Polygon&quot;}, &quot;id&quot;: &quot;7850&quot;, &quot;properties&quot;: {&quot;id&quot;: &quot;[311828].0&quot;, &quot;incidents&quot;: 1, &quot;index_right&quot;: null, &quot;markers&quot;: &quot;[ [ [ 13.330478333333334, 52.512898333333332 ], \\&quot;Datum: 04\\\\/08\\\\/2020 08:34:08\\u003cbr \\\\/\\u003eTyp: Einem Hindernis ausweichen (z.B. Hund)\\u003cbr \\\\/\\u003eBeschreibung: ung\\u00fcnstige Baustelle\\u003cbr \\\\/\\u003eBe\\u00e4ngstigend: false\\u003cbr \\\\/\\u003eBeteiligte: Fahrrad\\u003cbr \\\\/\\u003eFahrt: VM2_1103502996\\&quot;, false ] ]&quot;, &quot;rides&quot;: 106, &quot;score&quot;: 0.009433962264150943, &quot;surface_category&quot;: null, &quot;type&quot;: &quot;Street&quot;}, &quot;type&quot;: &quot;Feature&quot;}, {&quot;bbox&quot;: [13.415777515830701, 52.51067528768186, 13.416162796132227, 52.51100790051808], &quot;geometry&quot;: {&quot;coordinates&quot;: [[[13.416070924572239, 52.51100790051808], [13.415777515830701, 52.51068810646597], [13.415793065003847, 52.51067528768186], [13.416162796132227, 52.511004151318126], [13.416070924572239, 52.51100790051808]]], &quot;type&quot;: &quot;Polygon&quot;}, &quot;id&quot;: &quot;7938&quot;, &quot;properties&quot;: {&quot;id&quot;: &quot;[149084].0&quot;, &quot;incidents&quot;: 1, &quot;index_right&quot;: null, &quot;markers&quot;: &quot;[ [ [ 13.415848333333335, 52.510815000000001 ], \\&quot;Datum: 23\\\\/09\\\\/2019 07:06:22\\u003cbr \\\\/\\u003eTyp: Einem Hindernis ausweichen (z.B. Hund)\\u003cbr \\\\/\\u003eBeschreibung: mehrere auf Radweg parkende Taxen vor dem Sage - Club\\u003cbr \\\\/\\u003eBe\\u00e4ngstigend: false\\u003cbr \\\\/\\u003eBeteiligte: Taxi\\u003cbr \\\\/\\u003eFahrt: VM2_-104300786\\&quot;, false ] ]&quot;, &quot;rides&quot;: 88, &quot;score&quot;: 0.011363636363636364, &quot;surface_category&quot;: null, &quot;type&quot;: &quot;Street&quot;}, &quot;type&quot;: &quot;Feature&quot;}, {&quot;bbox&quot;: [13.328127831154974, 52.5135483410643, 13.329912604761228, 52.51436856043127], &quot;geometry&quot;: {&quot;coordinates&quot;: [[[13.328759682913528, 52.5140753271757], [13.329646362959046, 52.513749822739015], [13.329912604761228, 52.5135483410643], [13.329652197081261, 52.513765535327394], [13.328127831154974, 52.51436856043127], [13.328759682913528, 52.5140753271757]]], &quot;type&quot;: &quot;Polygon&quot;}, &quot;id&quot;: &quot;8275&quot;, &quot;properties&quot;: {&quot;id&quot;: &quot;[202738].0&quot;, &quot;incidents&quot;: 2, &quot;index_right&quot;: null, &quot;markers&quot;: &quot;[ [ [ 13.328398333333332, 52.514303333333331 ], \\&quot;Datum: 10\\\\/03\\\\/2020 18:24:45\\u003cbr \\\\/\\u003eTyp: Ein- oder ausparkendes Fahrzeug\\u003cbr \\\\/\\u003eBeschreibung: \\u003cbr \\\\/\\u003eBe\\u00e4ngstigend: false\\u003cbr \\\\/\\u003eBeteiligte: PKW\\u003cbr \\\\/\\u003eFahrt: VM2_-1812278717\\&quot;, false ], [ [ 13.328283900000001, 52.514348750000003 ], \\&quot;Datum: 05\\\\/07\\\\/2023 09:46:29\\u003cbr \\\\/\\u003eTyp: Entgegenkommender Verkehrsteilnehmer\\u003cbr \\\\/\\u003eBeschreibung: \\u003cbr \\\\/\\u003eBe\\u00e4ngstigend: true\\u003cbr \\\\/\\u003eBeteiligte: PKW\\u003cbr \\\\/\\u003eFahrt: VM2_-551359826\\&quot;, true ] ]&quot;, &quot;rides&quot;: 301, &quot;score&quot;: 0.017940199335548173, &quot;surface_category&quot;: null, &quot;type&quot;: &quot;Street&quot;}, &quot;type&quot;: &quot;Feature&quot;}, {&quot;bbox&quot;: [13.41667012858255, 52.52268145310334, 13.417528614987917, 52.52339849785441], &quot;geometry&quot;: {&quot;coordinates&quot;: [[[13.417482693772953, 52.52339849785441], [13.416713521868237, 52.52274930179692], [13.41667012858255, 52.52268145310334], [13.417528614987917, 52.523389778927445], [13.417482693772953, 52.52339849785441]]], &quot;type&quot;: &quot;Polygon&quot;}, &quot;id&quot;: &quot;8357&quot;, &quot;properties&quot;: {&quot;id&quot;: &quot;[254325].0&quot;, &quot;incidents&quot;: 1, &quot;index_right&quot;: null, &quot;markers&quot;: &quot;[ [ [ 13.416747628946794, 52.522741634818935 ], \\&quot;Datum: 12\\\\/05\\\\/2022 08:46:09\\u003cbr \\\\/\\u003eTyp: Sonstiges\\u003cbr \\\\/\\u003eBeschreibung: Ampel\\u003cbr \\\\/\\u003eBe\\u00e4ngstigend: false\\u003cbr \\\\/\\u003eBeteiligte: \\u003cbr \\\\/\\u003eFahrt: VM2_770564270\\&quot;, false ] ]&quot;, &quot;rides&quot;: 100, &quot;score&quot;: 0.01, &quot;surface_category&quot;: null, &quot;type&quot;: &quot;Street&quot;}, &quot;type&quot;: &quot;Feature&quot;}, {&quot;bbox&quot;: [13.403746265611836, 52.52058754506703, 13.404492309903036, 52.5211459029622], &quot;geometry&quot;: {&quot;coordinates&quot;: [[[13.404474139418483, 52.52058754506703], [13.404492309903036, 52.52059460685316], [13.403756362238404, 52.5211459029622], [13.403746265611836, 52.52113279316068], [13.404474139418483, 52.52058754506703]]], &quot;type&quot;: &quot;Polygon&quot;}, &quot;id&quot;: &quot;8425&quot;, &quot;properties&quot;: {&quot;id&quot;: &quot;[300183].0&quot;, &quot;incidents&quot;: 1, &quot;index_right&quot;: null, &quot;markers&quot;: &quot;[ [ [ 13.404176440000001, 52.520835239999997 ], \\&quot;Datum: 02\\\\/12\\\\/2022 19:44:18\\u003cbr \\\\/\\u003eTyp: Einem Hindernis ausweichen (z.B. Hund)\\u003cbr \\\\/\\u003eBeschreibung: \\u003cbr \\\\/\\u003eBe\\u00e4ngstigend: false\\u003cbr \\\\/\\u003eBeteiligte: Fu\\u00dfg\\u00e4nger\\u003cbr \\\\/\\u003eFahrt: VM2_1486795899\\&quot;, false ] ]&quot;, &quot;rides&quot;: 65, &quot;score&quot;: 0.015384615384615385, &quot;surface_category&quot;: null, &quot;type&quot;: &quot;Street&quot;}, &quot;type&quot;: &quot;Feature&quot;}, {&quot;bbox&quot;: [13.369508379239306, 52.52668087771015, 13.370183737772871, 52.5269050223794], &quot;geometry&quot;: {&quot;coordinates&quot;: [[[13.369508379239306, 52.52670053255584], [13.3695087548707, 52.52668087771015], [13.370183737772871, 52.5268879572243], [13.370174920631387, 52.5269050223794], [13.369508379239306, 52.52670053255584]]], &quot;type&quot;: &quot;Polygon&quot;}, &quot;id&quot;: &quot;8500&quot;, &quot;properties&quot;: {&quot;id&quot;: &quot;[284963].0&quot;, &quot;incidents&quot;: 1, &quot;index_right&quot;: null, &quot;markers&quot;: &quot;[ [ [ 13.370001800000001, 52.526851460000003 ], \\&quot;Datum: 14\\\\/10\\\\/2019 08:45:57\\u003cbr \\\\/\\u003eTyp: Einem Hindernis ausweichen (z.B. Hund)\\u003cbr \\\\/\\u003eBeschreibung: \\u003cbr \\\\/\\u003eBe\\u00e4ngstigend: false\\u003cbr \\\\/\\u003eBeteiligte: Fu\\u00dfg\\u00e4nger\\u003cbr \\\\/\\u003eFahrt: VM2_1000080903\\&quot;, false ] ]&quot;, &quot;rides&quot;: 496, &quot;score&quot;: 0.0020161290322580645, &quot;surface_category&quot;: null, &quot;type&quot;: &quot;Street&quot;}, &quot;type&quot;: &quot;Feature&quot;}, {&quot;bbox&quot;: [13.339969551647659, 52.51364097602556, 13.3417064717427, 52.51377782419578], &quot;geometry&quot;: {&quot;coordinates&quot;: [[[13.341702113887495, 52.513759407202144], [13.3417064717427, 52.51377782419578], [13.339969551647659, 52.513658761437085], [13.339974403749975, 52.51364097602556], [13.341702113887495, 52.513759407202144]]], &quot;type&quot;: &quot;Polygon&quot;}, &quot;id&quot;: &quot;8591&quot;, &quot;properties&quot;: {&quot;id&quot;: &quot;[295950].0&quot;, &quot;incidents&quot;: 1, &quot;index_right&quot;: null, &quot;markers&quot;: &quot;[ [ [ 13.34135339, 52.51373744 ], \\&quot;Datum: 22\\\\/08\\\\/2022 17:37:41\\u003cbr \\\\/\\u003eTyp: Einem Hindernis ausweichen (z.B. Hund)\\u003cbr \\\\/\\u003eBeschreibung: impossible to overtake slow cyclists without going through door zones; lots of vehicles parked too close to the bike lane\\u003cbr \\\\/\\u003eBe\\u00e4ngstigend: true\\u003cbr \\\\/\\u003eBeteiligte: LKW,PKW,Taxi\\u003cbr \\\\/\\u003eFahrt: VM2_-1762933525\\&quot;, true ] ]&quot;, &quot;rides&quot;: 405, &quot;score&quot;: 0.010864197530864199, &quot;surface_category&quot;: null, &quot;type&quot;: &quot;Street&quot;}, &quot;type&quot;: &quot;Feature&quot;}, {&quot;bbox&quot;: [13.382947310123452, 52.511580820030574, 13.383199024584364, 52.512056765754345], &quot;geometry&quot;: {&quot;coordinates&quot;: [[[13.383198126338362, 52.51161085866445], [13.382964129401675, 52.512056765754345], [13.382947310123452, 52.51205146273239], [13.383199024584364, 52.511580820030574], [13.383198126338362, 52.51161085866445]]], &quot;type&quot;: &quot;Polygon&quot;}, &quot;id&quot;: &quot;8826&quot;, &quot;properties&quot;: {&quot;id&quot;: &quot;[285125].0&quot;, &quot;incidents&quot;: 1, &quot;index_right&quot;: null, &quot;markers&quot;: &quot;[ [ [ 13.38305525, 52.511890649999998 ], \\&quot;Datum: 30\\\\/11\\\\/2022 21:29:52\\u003cbr \\\\/\\u003eTyp: Zu dichtes \\u00dcberholen\\u003cbr \\\\/\\u003eBeschreibung: \\u003cbr \\\\/\\u003eBe\\u00e4ngstigend: false\\u003cbr \\\\/\\u003eBeteiligte: PKW\\u003cbr \\\\/\\u003eFahrt: VM2_-769400810\\&quot;, false ] ]&quot;, &quot;rides&quot;: 204, &quot;score&quot;: 0.004901960784313725, &quot;surface_category&quot;: null, &quot;type&quot;: &quot;Street&quot;}, &quot;type&quot;: &quot;Feature&quot;}, {&quot;bbox&quot;: [13.420094733443927, 52.52577174794266, 13.42094455151226, 52.526407155351926], &quot;geometry&quot;: {&quot;coordinates&quot;: [[[13.420226668646146, 52.525902149889], [13.420094733443927, 52.52577174794266], [13.42094455151226, 52.526392255589776], [13.420931313208076, 52.526407155351926], [13.420226668646146, 52.525902149889]]], &quot;type&quot;: &quot;Polygon&quot;}, &quot;id&quot;: &quot;9210&quot;, &quot;properties&quot;: {&quot;id&quot;: &quot;[254442].0&quot;, &quot;incidents&quot;: 1, &quot;index_right&quot;: null, &quot;markers&quot;: &quot;[ [ [ 13.420293333333332, 52.525910000000003 ], \\&quot;Datum: 28\\\\/03\\\\/2022 09:11:06\\u003cbr \\\\/\\u003eTyp: Einem Hindernis ausweichen (z.B. Hund)\\u003cbr \\\\/\\u003eBeschreibung: \\u003cbr \\\\/\\u003eBe\\u00e4ngstigend: false\\u003cbr \\\\/\\u003eBeteiligte: Fahrrad\\u003cbr \\\\/\\u003eFahrt: VM2_-596063390\\&quot;, false ] ]&quot;, &quot;rides&quot;: 90, &quot;score&quot;: 0.011111111111111112, &quot;surface_category&quot;: null, &quot;type&quot;: &quot;Street&quot;}, &quot;type&quot;: &quot;Feature&quot;}, {&quot;bbox&quot;: [13.329506693004058, 52.51278571948923, 13.330067514043494, 52.512963019150796], &quot;geometry&quot;: {&quot;coordinates&quot;: [[[13.330052057504384, 52.51280170414967], [13.330067514043494, 52.512963019150796], [13.330041285439918, 52.512819118937095], [13.329506693004058, 52.51278571948923], [13.330052057504384, 52.51280170414967]]], &quot;type&quot;: &quot;Polygon&quot;}, &quot;id&quot;: &quot;9348&quot;, &quot;properties&quot;: {&quot;id&quot;: &quot;[254904].0&quot;, &quot;incidents&quot;: 1, &quot;index_right&quot;: null, &quot;markers&quot;: &quot;[ [ [ 13.329846666666667, 52.512836666666665 ], \\&quot;Datum: 04\\\\/03\\\\/2020 16:02:45\\u003cbr \\\\/\\u003eTyp: Sonstiges\\u003cbr \\\\/\\u003eBeschreibung: ung\\u00fcnstige Radweg Situation\\u003cbr \\\\/\\u003eBe\\u00e4ngstigend: false\\u003cbr \\\\/\\u003eBeteiligte: \\u003cbr \\\\/\\u003eFahrt: VM2_-1118528341\\&quot;, false ] ]&quot;, &quot;rides&quot;: 141, &quot;score&quot;: 0.0070921985815602835, &quot;surface_category&quot;: null, &quot;type&quot;: &quot;Street&quot;}, &quot;type&quot;: &quot;Feature&quot;}, {&quot;bbox&quot;: [13.383101573813803, 52.53017534561631, 13.383417401732107, 52.5304233111943], &quot;geometry&quot;: {&quot;coordinates&quot;: [[[13.383398880908869, 52.53017534561631], [13.383417401732107, 52.53018179755364], [13.383112187520071, 52.5304233111943], [13.383101573813803, 52.53041060245069], [13.383398880908869, 52.53017534561631]]], &quot;type&quot;: &quot;Polygon&quot;}, &quot;id&quot;: &quot;9368&quot;, &quot;properties&quot;: {&quot;id&quot;: &quot;[282142].0&quot;, &quot;incidents&quot;: 6, &quot;index_right&quot;: null, &quot;markers&quot;: &quot;[ [ [ 13.38326707, 52.530308900000001 ], \\&quot;Datum: 12\\\\/06\\\\/2023 21:16:32\\u003cbr \\\\/\\u003eTyp: Zu dichtes Auffahren\\u003cbr \\\\/\\u003eBeschreibung: \\u003cbr \\\\/\\u003eBe\\u00e4ngstigend: false\\u003cbr \\\\/\\u003eBeteiligte: PKW\\u003cbr \\\\/\\u003eFahrt: VM2_-1027431236\\&quot;, false ], [ [ 13.38312801, 52.530293710000002 ], \\&quot;Datum: 08\\\\/02\\\\/2023 23:48:26\\u003cbr \\\\/\\u003eTyp: Zu dichtes \\u00dcberholen\\u003cbr \\\\/\\u003eBeschreibung: \\u003cbr \\\\/\\u003eBe\\u00e4ngstigend: false\\u003cbr \\\\/\\u003eBeteiligte: PKW\\u003cbr \\\\/\\u003eFahrt: VM2_1415348552\\&quot;, false ], [ [ 13.383267460000001, 52.530280660000003 ], \\&quot;Datum: 11\\\\/08\\\\/2023 07:55:46\\u003cbr \\\\/\\u003eTyp: Zu dichtes \\u00dcberholen\\u003cbr \\\\/\\u003eBeschreibung: \\u003cbr \\\\/\\u003eBe\\u00e4ngstigend: false\\u003cbr \\\\/\\u003eBeteiligte: PKW\\u003cbr \\\\/\\u003eFahrt: VM2_1166045414\\&quot;, false ], [ [ 13.38316135, 52.530387820000001 ], \\&quot;Datum: 28\\\\/12\\\\/2021 12:43:29\\u003cbr \\\\/\\u003eTyp: Zu dichtes \\u00dcberholen\\u003cbr \\\\/\\u003eBeschreibung: \\u003cbr \\\\/\\u003eBe\\u00e4ngstigend: false\\u003cbr \\\\/\\u003eBeteiligte: Lieferwagen\\u003cbr \\\\/\\u003eFahrt: VM2_-1919567481\\&quot;, false ], [ [ 13.38321547, 52.530234870000001 ], \\&quot;Datum: 09\\\\/10\\\\/2021 19:48:42\\u003cbr \\\\/\\u003eTyp: Zu dichtes \\u00dcberholen\\u003cbr \\\\/\\u003eBeschreibung: \\u003cbr \\\\/\\u003eBe\\u00e4ngstigend: false\\u003cbr \\\\/\\u003eBeteiligte: Fahrrad\\u003cbr \\\\/\\u003eFahrt: VM2_-1171155856\\&quot;, false ], [ [ 13.38314233, 52.530354729999999 ], \\&quot;Datum: 29\\\\/06\\\\/2022 20:47:35\\u003cbr \\\\/\\u003eTyp: Zu dichtes \\u00dcberholen\\u003cbr \\\\/\\u003eBeschreibung: \\u003cbr \\\\/\\u003eBe\\u00e4ngstigend: true\\u003cbr \\\\/\\u003eBeteiligte: Lieferwagen\\u003cbr \\\\/\\u003eFahrt: VM2_361651071\\&quot;, true ] ]&quot;, &quot;rides&quot;: 166, &quot;score&quot;: 0.056626506024096385, &quot;surface_category&quot;: null, &quot;type&quot;: &quot;Street&quot;}, &quot;type&quot;: &quot;Feature&quot;}, {&quot;bbox&quot;: [13.386654328812122, 52.54951824040874, 13.387087130828325, 52.54980367610461], &quot;geometry&quot;: {&quot;coordinates&quot;: [[[13.386655386863112, 52.54959808158998], [13.386654328812122, 52.54956128739165], [13.386764125772805, 52.54951824040874], [13.387087130828325, 52.54976005532464], [13.387012161782755, 52.54980367610461], [13.386655386863112, 52.54959808158998]]], &quot;type&quot;: &quot;Polygon&quot;}, &quot;id&quot;: &quot;9413&quot;, &quot;properties&quot;: {&quot;id&quot;: &quot;[317084].0&quot;, &quot;incidents&quot;: 1, &quot;index_right&quot;: null, &quot;markers&quot;: &quot;[ [ [ 13.387009000000001, 52.549742999999999 ], \\&quot;Datum: 26\\\\/03\\\\/2022 12:34:08\\u003cbr \\\\/\\u003eTyp: Zu dichtes \\u00dcberholen\\u003cbr \\\\/\\u003eBeschreibung: \\u003cbr \\\\/\\u003eBe\\u00e4ngstigend: false\\u003cbr \\\\/\\u003eBeteiligte: PKW\\u003cbr \\\\/\\u003eFahrt: VM2_1991064724\\&quot;, false ] ]&quot;, &quot;rides&quot;: 54, &quot;score&quot;: 0.018518518518518517, &quot;surface_category&quot;: null, &quot;type&quot;: &quot;Street&quot;}, &quot;type&quot;: &quot;Feature&quot;}, {&quot;bbox&quot;: [13.378348103950913, 52.52622743423819, 13.378803157317913, 52.52627316581909], &quot;geometry&quot;: {&quot;coordinates&quot;: [[[13.378798644918776, 52.52625480056339], [13.378803157317913, 52.52627316581909], [13.378348103950913, 52.526245233063236], [13.378352818212461, 52.52622743423819], [13.378798644918776, 52.52625480056339]]], &quot;type&quot;: &quot;Polygon&quot;}, &quot;id&quot;: &quot;9472&quot;, &quot;properties&quot;: {&quot;id&quot;: &quot;[284331].0&quot;, &quot;incidents&quot;: 2, &quot;index_right&quot;: null, &quot;markers&quot;: &quot;[ [ [ 13.378759629999999, 52.526337419999997 ], \\&quot;Datum: 27\\\\/02\\\\/2024 17:30:07\\u003cbr \\\\/\\u003eTyp: Zu dichtes \\u00dcberholen\\u003cbr \\\\/\\u003eBeschreibung: \\u003cbr \\\\/\\u003eBe\\u00e4ngstigend: true\\u003cbr \\\\/\\u003eBeteiligte: PKW\\u003cbr \\\\/\\u003eFahrt: VM2_1000975601\\&quot;, true ], [ [ 13.3787386, 52.526310840000001 ], \\&quot;Datum: 13\\\\/02\\\\/2024 17:50:56\\u003cbr \\\\/\\u003eTyp: Zu dichtes \\u00dcberholen\\u003cbr \\\\/\\u003eBeschreibung: \\u003cbr \\\\/\\u003eBe\\u00e4ngstigend: false\\u003cbr \\\\/\\u003eBeteiligte: PKW\\u003cbr \\\\/\\u003eFahrt: VM2_307648887\\&quot;, false ] ]&quot;, &quot;rides&quot;: 52, &quot;score&quot;: 0.10384615384615385, &quot;surface_category&quot;: null, &quot;type&quot;: &quot;Street&quot;}, &quot;type&quot;: &quot;Feature&quot;}, {&quot;bbox&quot;: [13.396157646850856, 52.53236740418063, 13.397260391186549, 52.53243109595807], &quot;geometry&quot;: {&quot;coordinates&quot;: [[[13.397255456508677, 52.532412889780645], [13.397260391186549, 52.53243109595807], [13.396157646850856, 52.53238522449828], [13.39616198428837, 52.53236740418063], [13.397255456508677, 52.532412889780645]]], &quot;type&quot;: &quot;Polygon&quot;}, &quot;id&quot;: &quot;9570&quot;, &quot;properties&quot;: {&quot;id&quot;: &quot;[285032].0&quot;, &quot;incidents&quot;: 2, &quot;index_right&quot;: null, &quot;markers&quot;: &quot;[ [ [ 13.396362999999999, 52.532364770000001 ], \\&quot;Datum: 31\\\\/10\\\\/2019 16:25:39\\u003cbr \\\\/\\u003eTyp: Zu dichtes \\u00dcberholen\\u003cbr \\\\/\\u003eBeschreibung: \\u003cbr \\\\/\\u003eBe\\u00e4ngstigend: true\\u003cbr \\\\/\\u003eBeteiligte: Fahrrad\\u003cbr \\\\/\\u003eFahrt: VM2_-222490756\\&quot;, true ], [ [ 13.397207379999999, 52.532399030000001 ], \\&quot;Datum: 23\\\\/09\\\\/2020 08:18:27\\u003cbr \\\\/\\u003eTyp: Zu dichtes \\u00dcberholen\\u003cbr \\\\/\\u003eBeschreibung: \\u003cbr \\\\/\\u003eBe\\u00e4ngstigend: false\\u003cbr \\\\/\\u003eBeteiligte: PKW\\u003cbr \\\\/\\u003eFahrt: VM2_-1585982285\\&quot;, false ] ]&quot;, &quot;rides&quot;: 156, &quot;score&quot;: 0.03461538461538462, &quot;surface_category&quot;: null, &quot;type&quot;: &quot;Street&quot;}, &quot;type&quot;: &quot;Feature&quot;}, {&quot;bbox&quot;: [13.416889317034437, 52.49950790950933, 13.417124076776428, 52.49957937314139], &quot;geometry&quot;: {&quot;coordinates&quot;: [[[13.4169216407068, 52.49956158058083], [13.417121806471547, 52.49950790950933], [13.417124076776428, 52.49952492111595], [13.4169316858055, 52.49957937314139], [13.416889317034437, 52.49955178634208], [13.4169216407068, 52.49956158058083]]], &quot;type&quot;: &quot;Polygon&quot;}, &quot;id&quot;: &quot;9763&quot;, &quot;properties&quot;: {&quot;id&quot;: &quot;[285256].0&quot;, &quot;incidents&quot;: 1, &quot;index_right&quot;: null, &quot;markers&quot;: &quot;[ [ [ 13.41703311, 52.499561100000001 ], \\&quot;Datum: 30\\\\/09\\\\/2022 17:32:41\\u003cbr \\\\/\\u003eTyp: Entgegenkommender Verkehrsteilnehmer\\u003cbr \\\\/\\u003eBeschreibung: \\u003cbr \\\\/\\u003eBe\\u00e4ngstigend: false\\u003cbr \\\\/\\u003eBeteiligte: PKW\\u003cbr \\\\/\\u003eFahrt: VM2_1595304519\\&quot;, false ] ]&quot;, &quot;rides&quot;: 114, &quot;score&quot;: 0.008771929824561403, &quot;surface_category&quot;: null, &quot;type&quot;: &quot;Street&quot;}, &quot;type&quot;: &quot;Feature&quot;}, {&quot;bbox&quot;: [13.328662724173226, 52.53285046107514, 13.330027968224988, 52.53287650615607], &quot;geometry&quot;: {&quot;coordinates&quot;: [[[13.329733609595834, 52.53287650615607], [13.328662724173226, 52.532868289634514], [13.328666104491397, 52.53285046107514], [13.330027968224988, 52.53287212464962], [13.329733609595834, 52.53287650615607]]], &quot;type&quot;: &quot;Polygon&quot;}, &quot;id&quot;: &quot;9922&quot;, &quot;properties&quot;: {&quot;id&quot;: &quot;[281244].0&quot;, &quot;incidents&quot;: 1, &quot;index_right&quot;: null, &quot;markers&quot;: &quot;[ [ [ 13.32886957, 52.532829589999999 ], \\&quot;Datum: 14\\\\/12\\\\/2020 14:17:02\\u003cbr \\\\/\\u003eTyp: Zu dichtes \\u00dcberholen\\u003cbr \\\\/\\u003eBeschreibung: \\u003cbr \\\\/\\u003eBe\\u00e4ngstigend: true\\u003cbr \\\\/\\u003eBeteiligte: \\u003cbr \\\\/\\u003eFahrt: VM2_-7107254\\&quot;, true ] ]&quot;, &quot;rides&quot;: 67, &quot;score&quot;: 0.06567164179104479, &quot;surface_category&quot;: null, &quot;type&quot;: &quot;Street&quot;}, &quot;type&quot;: &quot;Feature&quot;}, {&quot;bbox&quot;: [13.426912270482724, 52.51805137100798, 13.427657799182471, 52.518612997905045], &quot;geometry&quot;: {&quot;coordinates&quot;: [[[13.427657799182471, 52.518171348023365], [13.427545601487376, 52.51830223026545], [13.427297464299574, 52.518460189902974], [13.426912270482724, 52.518612997905045], [13.427534646706563, 52.518289641979635], [13.427632540009453, 52.51805137100798], [13.427657799182471, 52.518171348023365]]], &quot;type&quot;: &quot;Polygon&quot;}, &quot;id&quot;: &quot;10193&quot;, &quot;properties&quot;: {&quot;id&quot;: &quot;[323294].0&quot;, &quot;incidents&quot;: 2, &quot;index_right&quot;: null, &quot;markers&quot;: &quot;[ [ [ 13.427566990000001, 52.518198560000002 ], \\&quot;Datum: 05\\\\/10\\\\/2022 12:50:11\\u003cbr \\\\/\\u003eTyp: Beinahe-Abbiegeunfall\\u003cbr \\\\/\\u003eBeschreibung: Autos \\u00fcberqueren bei Rot den Radweg\\u003cbr \\\\/\\u003eBe\\u00e4ngstigend: true\\u003cbr \\\\/\\u003eBeteiligte: PKW\\u003cbr \\\\/\\u003eFahrt: VM2_-1660840795\\&quot;, true ], [ [ 13.427536529999999, 52.518236440000003 ], \\&quot;Datum: 19\\\\/06\\\\/2019 14:54:47\\u003cbr \\\\/\\u003eTyp: Beinahe-Abbiegeunfall\\u003cbr \\\\/\\u003eBeschreibung: \\u003cbr \\\\/\\u003eBe\\u00e4ngstigend: false\\u003cbr \\\\/\\u003eBeteiligte: Bus\\u003cbr \\\\/\\u003eFahrt: VM2_-421413174\\&quot;, false ] ]&quot;, &quot;rides&quot;: 291, &quot;score&quot;: 0.018556701030927835, &quot;surface_category&quot;: null, &quot;type&quot;: &quot;Street&quot;}, &quot;type&quot;: &quot;Feature&quot;}, {&quot;bbox&quot;: [13.38721275249886, 52.52085174751676, 13.387965023036069, 52.52117508479032], &quot;geometry&quot;: {&quot;coordinates&quot;: [[[13.387950960749153, 52.52085174751676], [13.387965023036069, 52.52086402013652], [13.387217606515588, 52.52117508479032], [13.38721275249886, 52.521158979917836], [13.387950960749153, 52.52085174751676]]], &quot;type&quot;: &quot;Polygon&quot;}, &quot;id&quot;: &quot;10218&quot;, &quot;properties&quot;: {&quot;id&quot;: &quot;[171740].0&quot;, &quot;incidents&quot;: 2, &quot;index_right&quot;: null, &quot;markers&quot;: &quot;[ [ [ 13.387737769999999, 52.521148449999998 ], \\&quot;Datum: 07\\\\/10\\\\/2021 22:44:33\\u003cbr \\\\/\\u003eTyp: Zu dichtes \\u00dcberholen\\u003cbr \\\\/\\u003eBeschreibung: \\u003cbr \\\\/\\u003eBe\\u00e4ngstigend: false\\u003cbr \\\\/\\u003eBeteiligte: PKW\\u003cbr \\\\/\\u003eFahrt: VM2_-1676317700\\&quot;, false ], [ [ 13.38771554, 52.521043489999997 ], \\&quot;Datum: 09\\\\/04\\\\/2022 16:53:04\\u003cbr \\\\/\\u003eTyp: Zu dichtes \\u00dcberholen\\u003cbr \\\\/\\u003eBeschreibung: \\u003cbr \\\\/\\u003eBe\\u00e4ngstigend: true\\u003cbr \\\\/\\u003eBeteiligte: PKW\\u003cbr \\\\/\\u003eFahrt: VM2_1808170753\\&quot;, true ] ]&quot;, &quot;rides&quot;: 53, &quot;score&quot;: 0.1018867924528302, &quot;surface_category&quot;: null, &quot;type&quot;: &quot;Street&quot;}, &quot;type&quot;: &quot;Feature&quot;}, {&quot;bbox&quot;: [13.416707276692225, 52.51123806114263, 13.417230861838377, 52.51236141244867], &quot;geometry&quot;: {&quot;coordinates&quot;: [[[13.416724562491366, 52.51131992223365], [13.416707276692225, 52.51123806114263], [13.417230861838377, 52.512351842312476], [13.417213176420978, 52.51236141244867], [13.416724562491366, 52.51131992223365]]], &quot;type&quot;: &quot;Polygon&quot;}, &quot;id&quot;: &quot;10301&quot;, &quot;properties&quot;: {&quot;id&quot;: &quot;[293460].0&quot;, &quot;incidents&quot;: 4, &quot;index_right&quot;: null, &quot;markers&quot;: &quot;[ [ [ 13.417165000000001, 52.511760000000002 ], \\&quot;Datum: 20\\\\/09\\\\/2019 08:30:21\\u003cbr \\\\/\\u003eTyp: Zu dichtes \\u00dcberholen\\u003cbr \\\\/\\u003eBeschreibung: \\u003cbr \\\\/\\u003eBe\\u00e4ngstigend: false\\u003cbr \\\\/\\u003eBeteiligte: PKW\\u003cbr \\\\/\\u003eFahrt: VM2_-673427413\\&quot;, false ], [ [ 13.417119420000001, 52.51210176 ], \\&quot;Datum: 30\\\\/03\\\\/2021 18:25:52\\u003cbr \\\\/\\u003eTyp: Zu dichtes \\u00dcberholen\\u003cbr \\\\/\\u003eBeschreibung: \\u003cbr \\\\/\\u003eBe\\u00e4ngstigend: false\\u003cbr \\\\/\\u003eBeteiligte: \\u003cbr \\\\/\\u003eFahrt: VM2_892543806\\&quot;, false ], [ [ 13.41685097, 52.511485569999998 ], \\&quot;Datum: 07\\\\/10\\\\/2022 15:27:03\\u003cbr \\\\/\\u003eTyp: Zu dichtes \\u00dcberholen\\u003cbr \\\\/\\u003eBeschreibung: \\u003cbr \\\\/\\u003eBe\\u00e4ngstigend: false\\u003cbr \\\\/\\u003eBeteiligte: PKW\\u003cbr \\\\/\\u003eFahrt: VM2_756210179\\&quot;, false ], [ [ 13.41690238, 52.511704479999999 ], \\&quot;Datum: 20\\\\/10\\\\/2020 13:33:57\\u003cbr \\\\/\\u003eTyp: Sonstiges\\u003cbr \\\\/\\u003eBeschreibung: Radweg zugeparkt \\u003cbr \\\\/\\u003eBe\\u00e4ngstigend: false\\u003cbr \\\\/\\u003eBeteiligte: PKW\\u003cbr \\\\/\\u003eFahrt: VM2_-128534419\\&quot;, false ] ]&quot;, &quot;rides&quot;: 373, &quot;score&quot;: 0.010723860589812333, &quot;surface_category&quot;: null, &quot;type&quot;: &quot;Street&quot;}, &quot;type&quot;: &quot;Feature&quot;}, {&quot;bbox&quot;: [13.348849493473756, 52.515137287711916, 13.349303737161, 52.51523046582463], &quot;geometry&quot;: {&quot;coordinates&quot;: [[[13.34917477441769, 52.51516791019589], [13.349097148985312, 52.515155277978494], [13.348849493473756, 52.51523046582463], [13.349100198517746, 52.515137287711916], [13.349303737161, 52.51520617039872], [13.34917477441769, 52.51516791019589]]], &quot;type&quot;: &quot;Polygon&quot;}, &quot;id&quot;: &quot;10663&quot;, &quot;properties&quot;: {&quot;id&quot;: &quot;[290714].0&quot;, &quot;incidents&quot;: 1, &quot;index_right&quot;: null, &quot;markers&quot;: &quot;[ [ [ 13.34892396, 52.515210369999998 ], \\&quot;Datum: 03\\\\/10\\\\/2020 14:36:17\\u003cbr \\\\/\\u003eTyp: Sonstiges\\u003cbr \\\\/\\u003eBeschreibung: Radweg blockiert durch r\\u00fccksichtslose Radfahrer\\u003cbr \\\\/\\u003eBe\\u00e4ngstigend: false\\u003cbr \\\\/\\u003eBeteiligte: Fahrrad\\u003cbr \\\\/\\u003eFahrt: VM2_328202182\\&quot;, false ] ]&quot;, &quot;rides&quot;: 117, &quot;score&quot;: 0.008547008547008548, &quot;surface_category&quot;: null, &quot;type&quot;: &quot;Street&quot;}, &quot;type&quot;: &quot;Feature&quot;}, {&quot;bbox&quot;: [13.344752653828705, 52.513969077971346, 13.34731327499882, 52.514161722355325], &quot;geometry&quot;: {&quot;coordinates&quot;: [[[13.347308911155856, 52.51414330670819], [13.34731327499882, 52.514161722355325], [13.344752653828705, 52.51398686428276], [13.344757500438043, 52.513969077971346], [13.347308911155856, 52.51414330670819]]], &quot;type&quot;: &quot;Polygon&quot;}, &quot;id&quot;: &quot;11428&quot;, &quot;properties&quot;: {&quot;id&quot;: &quot;[295953].0&quot;, &quot;incidents&quot;: 1, &quot;index_right&quot;: null, &quot;markers&quot;: &quot;[ [ [ 13.346377090000001, 52.514107879999997 ], \\&quot;Datum: 19\\\\/10\\\\/2022 20:33:50\\u003cbr \\\\/\\u003eTyp: Einem Hindernis ausweichen (z.B. Hund)\\u003cbr \\\\/\\u003eBeschreibung: car driver blocking the bike lane\\u003cbr \\\\/\\u003eBe\\u00e4ngstigend: false\\u003cbr \\\\/\\u003eBeteiligte: PKW\\u003cbr \\\\/\\u003eFahrt: VM2_1533065791\\&quot;, false ] ]&quot;, &quot;rides&quot;: 419, &quot;score&quot;: 0.002386634844868735, &quot;surface_category&quot;: null, &quot;type&quot;: &quot;Street&quot;}, &quot;type&quot;: &quot;Feature&quot;}, {&quot;bbox&quot;: [13.39263099118897, 52.51738398178766, 13.396196740194624, 52.517737952288094], &quot;geometry&quot;: {&quot;coordinates&quot;: [[[13.39263099118897, 52.51749911049745], [13.392644440027707, 52.51745583012206], [13.39268974223699, 52.51743068092984], [13.393439252928355, 52.51738398178766], [13.396150069024566, 52.517557701233855], [13.396196740194624, 52.517583698248], [13.396168662976828, 52.517737952288094], [13.39263099118897, 52.51749911049745]]], &quot;type&quot;: &quot;Polygon&quot;}, &quot;id&quot;: &quot;11480&quot;, &quot;properties&quot;: {&quot;id&quot;: &quot;[279285].0&quot;, &quot;incidents&quot;: 4, &quot;index_right&quot;: null, &quot;markers&quot;: &quot;[ [ [ 13.394698760000001, 52.517479459999997 ], \\&quot;Datum: 05\\\\/02\\\\/2020 08:30:35\\u003cbr \\\\/\\u003eTyp: Zu dichtes \\u00dcberholen\\u003cbr \\\\/\\u003eBeschreibung: \\u003cbr \\\\/\\u003eBe\\u00e4ngstigend: true\\u003cbr \\\\/\\u003eBeteiligte: Taxi\\u003cbr \\\\/\\u003eFahrt: VM2_-1647570658\\&quot;, true ], [ [ 13.39332804, 52.517408400000001 ], \\&quot;Datum: 28\\\\/06\\\\/2021 20:48:46\\u003cbr \\\\/\\u003eTyp: Zu dichtes \\u00dcberholen\\u003cbr \\\\/\\u003eBeschreibung: \\u003cbr \\\\/\\u003eBe\\u00e4ngstigend: true\\u003cbr \\\\/\\u003eBeteiligte: PKW\\u003cbr \\\\/\\u003eFahrt: VM2_372681593\\&quot;, true ], [ [ 13.39333384, 52.517419650000001 ], \\&quot;Datum: 26\\\\/11\\\\/2022 23:17:45\\u003cbr \\\\/\\u003eTyp: Zu dichtes Auffahren\\u003cbr \\\\/\\u003eBeschreibung: \\u003cbr \\\\/\\u003eBe\\u00e4ngstigend: true\\u003cbr \\\\/\\u003eBeteiligte: PKW\\u003cbr \\\\/\\u003eFahrt: VM2_-1049788879\\&quot;, true ], [ [ 13.39407623, 52.517457759999999 ], \\&quot;Datum: 17\\\\/06\\\\/2019 11:49:53\\u003cbr \\\\/\\u003eTyp: Beinahe-Abbiegeunfall\\u003cbr \\\\/\\u003eBeschreibung: \\u003cbr \\\\/\\u003eBe\\u00e4ngstigend: false\\u003cbr \\\\/\\u003eBeteiligte: Bus\\u003cbr \\\\/\\u003eFahrt: VM2_1718785556\\&quot;, false ] ]&quot;, &quot;rides&quot;: 628, &quot;score&quot;: 0.022611464968152868, &quot;surface_category&quot;: null, &quot;type&quot;: &quot;Street&quot;}, &quot;type&quot;: &quot;Feature&quot;}, {&quot;bbox&quot;: [13.389306497240495, 52.51425544214226, 13.38938760709111, 52.51467648526939], &quot;geometry&quot;: {&quot;coordinates&quot;: [[[13.389306497240495, 52.51465838808966], [13.389368768745099, 52.51425613543885], [13.38938760709111, 52.51425544214226], [13.38933421440624, 52.51467648526939], [13.389306497240495, 52.51465838808966]]], &quot;type&quot;: &quot;Polygon&quot;}, &quot;id&quot;: &quot;11662&quot;, &quot;properties&quot;: {&quot;id&quot;: &quot;[226560].0&quot;, &quot;incidents&quot;: 2, &quot;index_right&quot;: null, &quot;markers&quot;: &quot;[ [ [ 13.38946271, 52.514328800000001 ], \\&quot;Datum: 26\\\\/08\\\\/2019 09:04:43\\u003cbr \\\\/\\u003eTyp: Zu dichtes \\u00dcberholen\\u003cbr \\\\/\\u003eBeschreibung: \\u003cbr \\\\/\\u003eBe\\u00e4ngstigend: false\\u003cbr \\\\/\\u003eBeteiligte: PKW\\u003cbr \\\\/\\u003eFahrt: VM2_-1319297215\\&quot;, false ], [ [ 13.389308850000001, 52.514637630000003 ], \\&quot;Datum: 15\\\\/06\\\\/2023 18:14:56\\u003cbr \\\\/\\u003eTyp: Beinahe-Abbiegeunfall\\u003cbr \\\\/\\u003eBeschreibung: \\u003cbr \\\\/\\u003eBe\\u00e4ngstigend: false\\u003cbr \\\\/\\u003eBeteiligte: Taxi\\u003cbr \\\\/\\u003eFahrt: VM2_-237166703\\&quot;, false ] ]&quot;, &quot;rides&quot;: 103, &quot;score&quot;: 0.019417475728155338, &quot;surface_category&quot;: null, &quot;type&quot;: &quot;Street&quot;}, &quot;type&quot;: &quot;Feature&quot;}, {&quot;bbox&quot;: [13.37831016925577, 52.51624419191004, 13.379456112383725, 52.51647811607921], &quot;geometry&quot;: {&quot;coordinates&quot;: [[[13.378318382624279, 52.51638455921931], [13.37831016925577, 52.516296638011816], [13.378424177781298, 52.51624419191004], [13.379354932414259, 52.51630548277558], [13.379429360432875, 52.51633617180495], [13.379456112383725, 52.51640216019635], [13.379418714484142, 52.516450672666444], [13.379323882395605, 52.51647811607921], [13.378419647388206, 52.51642420031533], [13.378318382624279, 52.51638455921931]]], &quot;type&quot;: &quot;Polygon&quot;}, &quot;id&quot;: &quot;11776&quot;, &quot;properties&quot;: {&quot;id&quot;: &quot;[140573].0&quot;, &quot;incidents&quot;: 3, &quot;index_right&quot;: null, &quot;markers&quot;: &quot;[ [ [ 13.378806000000001, 52.516458 ], \\&quot;Datum: 15\\\\/06\\\\/2019 10:51:42\\u003cbr \\\\/\\u003eTyp: Einem Hindernis ausweichen (z.B. Hund)\\u003cbr \\\\/\\u003eBeschreibung: \\u003cbr \\\\/\\u003eBe\\u00e4ngstigend: false\\u003cbr \\\\/\\u003eBeteiligte: Fu\\u00dfg\\u00e4nger\\u003cbr \\\\/\\u003eFahrt: VM2_2088187266\\&quot;, false ], [ [ 13.378122343394296, 52.516475977511497 ], \\&quot;Datum: 26\\\\/07\\\\/2019 07:51:44\\u003cbr \\\\/\\u003eTyp: Sonstiges\\u003cbr \\\\/\\u003eBeschreibung: Sperrung, keine Fahr-M\\u00f6glichkeit f\\u00fcr Radfahrer \\u003cbr \\\\/\\u003eBe\\u00e4ngstigend: false\\u003cbr \\\\/\\u003eBeteiligte: \\u003cbr \\\\/\\u003eFahrt: VM2_727792865\\&quot;, false ], [ [ 13.378556, 52.516191999999997 ], \\&quot;Datum: 29\\\\/07\\\\/2019 18:07:46\\u003cbr \\\\/\\u003eTyp: Beinahe-Abbiegeunfall\\u003cbr \\\\/\\u003eBeschreibung: \\u003cbr \\\\/\\u003eBe\\u00e4ngstigend: false\\u003cbr \\\\/\\u003eBeteiligte: PKW\\u003cbr \\\\/\\u003eFahrt: VM2_1780800482\\&quot;, false ] ]&quot;, &quot;rides&quot;: 1439, &quot;score&quot;: 0.0020847810979847115, &quot;surface_category&quot;: null, &quot;type&quot;: &quot;Street&quot;}, &quot;type&quot;: &quot;Feature&quot;}, {&quot;bbox&quot;: [13.389873007444232, 52.53124578487276, 13.39072011865865, 52.53182731835097], &quot;geometry&quot;: {&quot;coordinates&quot;: [[[13.390565036649567, 52.53141275827432], [13.39072011865865, 52.531459591194306], [13.390585742039802, 52.53182731835097], [13.389873007444232, 52.53171279263309], [13.390386755957335, 52.53124578487276], [13.390565036649567, 52.53141275827432]]], &quot;type&quot;: &quot;Polygon&quot;}, &quot;id&quot;: &quot;12406&quot;, &quot;properties&quot;: {&quot;id&quot;: &quot;[311176].0&quot;, &quot;incidents&quot;: 9, &quot;index_right&quot;: null, &quot;markers&quot;: &quot;[ [ [ 13.390587999999999, 52.531302519999997 ], \\&quot;Datum: 17\\\\/07\\\\/2020 20:23:26\\u003cbr \\\\/\\u003eTyp: Zu dichtes \\u00dcberholen\\u003cbr \\\\/\\u003eBeschreibung: \\u003cbr \\\\/\\u003eBe\\u00e4ngstigend: false\\u003cbr \\\\/\\u003eBeteiligte: PKW\\u003cbr \\\\/\\u003eFahrt: VM2_-1853105565\\&quot;, false ], [ [ 13.3900557, 52.531560159999998 ], \\&quot;Datum: 12\\\\/05\\\\/2023 16:02:38\\u003cbr \\\\/\\u003eTyp: Zu dichtes \\u00dcberholen\\u003cbr \\\\/\\u003eBeschreibung: \\u003cbr \\\\/\\u003eBe\\u00e4ngstigend: true\\u003cbr \\\\/\\u003eBeteiligte: PKW\\u003cbr \\\\/\\u003eFahrt: VM2_-2122767154\\&quot;, true ], [ [ 13.39018534, 52.531669239999999 ], \\&quot;Datum: 28\\\\/11\\\\/2021 12:29:12\\u003cbr \\\\/\\u003eTyp: Zu dichtes Auffahren\\u003cbr \\\\/\\u003eBeschreibung: \\u003cbr \\\\/\\u003eBe\\u00e4ngstigend: false\\u003cbr \\\\/\\u003eBeteiligte: PKW\\u003cbr \\\\/\\u003eFahrt: VM2_-1276262999\\&quot;, false ], [ [ 13.39005019, 52.531714809999997 ], \\&quot;Datum: 18\\\\/10\\\\/2021 18:40:13\\u003cbr \\\\/\\u003eTyp: Zu dichtes \\u00dcberholen\\u003cbr \\\\/\\u003eBeschreibung: \\u003cbr \\\\/\\u003eBe\\u00e4ngstigend: true\\u003cbr \\\\/\\u003eBeteiligte: PKW\\u003cbr \\\\/\\u003eFahrt: VM2_-1058091494\\&quot;, true ], [ [ 13.39029584, 52.531391040000003 ], \\&quot;Datum: 17\\\\/01\\\\/2022 12:54:45\\u003cbr \\\\/\\u003eTyp: Zu dichtes \\u00dcberholen\\u003cbr \\\\/\\u003eBeschreibung: \\u003cbr \\\\/\\u003eBe\\u00e4ngstigend: false\\u003cbr \\\\/\\u003eBeteiligte: PKW\\u003cbr \\\\/\\u003eFahrt: VM2_400341263\\&quot;, false ], [ [ 13.390049339999999, 52.531631930000003 ], \\&quot;Datum: 03\\\\/01\\\\/2022 19:45:52\\u003cbr \\\\/\\u003eTyp: Zu dichtes Auffahren\\u003cbr \\\\/\\u003eBeschreibung: \\u003cbr \\\\/\\u003eBe\\u00e4ngstigend: true\\u003cbr \\\\/\\u003eBeteiligte: PKW\\u003cbr \\\\/\\u003eFahrt: VM2_790636071\\&quot;, true ], [ [ 13.389982140000001, 52.53169493 ], \\&quot;Datum: 12\\\\/03\\\\/2022 19:18:54\\u003cbr \\\\/\\u003eTyp: Zu dichtes Auffahren\\u003cbr \\\\/\\u003eBeschreibung: \\u003cbr \\\\/\\u003eBe\\u00e4ngstigend: false\\u003cbr \\\\/\\u003eBeteiligte: Fahrrad\\u003cbr \\\\/\\u003eFahrt: VM2_-2077097374\\&quot;, false ], [ [ 13.39039183, 52.53131484 ], \\&quot;Datum: 14\\\\/06\\\\/2022 11:45:41\\u003cbr \\\\/\\u003eTyp: Zu dichtes \\u00dcberholen\\u003cbr \\\\/\\u003eBeschreibung: \\u003cbr \\\\/\\u003eBe\\u00e4ngstigend: false\\u003cbr \\\\/\\u003eBeteiligte: LKW\\u003cbr \\\\/\\u003eFahrt: VM2_-211626264\\&quot;, false ], [ [ 13.390126349999999, 52.5316379 ], \\&quot;Datum: 17\\\\/11\\\\/2020 10:18:54\\u003cbr \\\\/\\u003eTyp: Einem Hindernis ausweichen (z.B. Hund)\\u003cbr \\\\/\\u003eBeschreibung: Baustelle direkt an der Ampel, pkw versperrt komplette breite\\u003cbr \\\\/\\u003eBe\\u00e4ngstigend: false\\u003cbr \\\\/\\u003eBeteiligte: Sonstiges\\u003cbr \\\\/\\u003eFahrt: VM2_-1676512097\\&quot;, false ] ]&quot;, &quot;rides&quot;: 398, &quot;score&quot;: 0.04824120603015076, &quot;surface_category&quot;: null, &quot;type&quot;: &quot;Street&quot;}, &quot;type&quot;: &quot;Feature&quot;}, {&quot;bbox&quot;: [13.408887122671528, 52.511225835887316, 13.40940325069097, 52.51177256417104], &quot;geometry&quot;: {&quot;coordinates&quot;: [[[13.409153368987754, 52.511465065563875], [13.40940325069097, 52.511225835887316], [13.408900760188018, 52.51177256417104], [13.408887122671528, 52.511762695304554], [13.409153368987754, 52.511465065563875]]], &quot;type&quot;: &quot;Polygon&quot;}, &quot;id&quot;: &quot;12701&quot;, &quot;properties&quot;: {&quot;id&quot;: &quot;[293555].0&quot;, &quot;incidents&quot;: 1, &quot;index_right&quot;: null, &quot;markers&quot;: &quot;[ [ [ 13.409381829999999, 52.511224740000003 ], \\&quot;Datum: 28\\\\/11\\\\/2021 11:53:58\\u003cbr \\\\/\\u003eTyp: Zu dichtes \\u00dcberholen\\u003cbr \\\\/\\u003eBeschreibung: \\u003cbr \\\\/\\u003eBe\\u00e4ngstigend: true\\u003cbr \\\\/\\u003eBeteiligte: PKW\\u003cbr \\\\/\\u003eFahrt: VM2_904121494\\&quot;, true ] ]&quot;, &quot;rides&quot;: 156, &quot;score&quot;: 0.02820512820512821, &quot;surface_category&quot;: null, &quot;type&quot;: &quot;Street&quot;}, &quot;type&quot;: &quot;Feature&quot;}, {&quot;bbox&quot;: [13.258827498198048, 52.43211098094202, 13.258904040519262, 52.43228642240841], &quot;geometry&quot;: {&quot;coordinates&quot;: [[[13.258855659919531, 52.43222560497228], [13.258827498198048, 52.4321173935025], [13.258846239214854, 52.43211098094202], [13.258904040519262, 52.43228642240841], [13.258855659919531, 52.43222560497228]]], &quot;type&quot;: &quot;Polygon&quot;}, &quot;id&quot;: &quot;13206&quot;, &quot;properties&quot;: {&quot;id&quot;: &quot;[285615].0&quot;, &quot;incidents&quot;: 1, &quot;index_right&quot;: null, &quot;markers&quot;: &quot;[ [ [ 13.258806666666665, 52.432178333333333 ], \\&quot;Datum: 22\\\\/03\\\\/2023 19:03:23\\u003cbr \\\\/\\u003eTyp: Einem Hindernis ausweichen (z.B. Hund)\\u003cbr \\\\/\\u003eBeschreibung: \\u003cbr \\\\/\\u003eBe\\u00e4ngstigend: false\\u003cbr \\\\/\\u003eBeteiligte: Fu\\u00dfg\\u00e4nger\\u003cbr \\\\/\\u003eFahrt: VM2_683898623\\&quot;, false ] ]&quot;, &quot;rides&quot;: 95, &quot;score&quot;: 0.010526315789473684, &quot;surface_category&quot;: null, &quot;type&quot;: &quot;Street&quot;}, &quot;type&quot;: &quot;Feature&quot;}, {&quot;bbox&quot;: [13.328140166162658, 52.533041509386, 13.328174048678704, 52.53359449058907], &quot;geometry&quot;: {&quot;coordinates&quot;: [[[13.328140166162658, 52.533053975583954], [13.328158970153469, 52.533041509386], [13.328174048678704, 52.53359073949893], [13.328155005388613, 52.53359449058907], [13.328140166162658, 52.533053975583954]]], &quot;type&quot;: &quot;Polygon&quot;}, &quot;id&quot;: &quot;13387&quot;, &quot;properties&quot;: {&quot;id&quot;: &quot;[286130].0&quot;, &quot;incidents&quot;: 1, &quot;index_right&quot;: null, &quot;markers&quot;: &quot;[ [ [ 13.32819018, 52.533294140000002 ], \\&quot;Datum: 14\\\\/01\\\\/2020 08:23:46\\u003cbr \\\\/\\u003eTyp: Einem Hindernis ausweichen (z.B. Hund)\\u003cbr \\\\/\\u003eBeschreibung: \\u003cbr \\\\/\\u003eBe\\u00e4ngstigend: false\\u003cbr \\\\/\\u003eBeteiligte: PKW\\u003cbr \\\\/\\u003eFahrt: VM2_1237030346\\&quot;, false ] ]&quot;, &quot;rides&quot;: 62, &quot;score&quot;: 0.016129032258064516, &quot;surface_category&quot;: null, &quot;type&quot;: &quot;Street&quot;}, &quot;type&quot;: &quot;Feature&quot;}, {&quot;bbox&quot;: [13.383967266649226, 52.51670217066346, 13.385625240542664, 52.5168146295469], &quot;geometry&quot;: {&quot;coordinates&quot;: [[[13.383971871940362, 52.51672050205557], [13.383967266649226, 52.51670217066346], [13.385625240542664, 52.516796825256854], [13.385620608803222, 52.5168146295469], [13.383971871940362, 52.51672050205557]]], &quot;type&quot;: &quot;Polygon&quot;}, &quot;id&quot;: &quot;13651&quot;, &quot;properties&quot;: {&quot;id&quot;: &quot;[255554].0&quot;, &quot;incidents&quot;: 2, &quot;index_right&quot;: null, &quot;markers&quot;: &quot;[ [ [ 13.385094390000001, 52.516749109999999 ], \\&quot;Datum: 08\\\\/10\\\\/2021 15:12:40\\u003cbr \\\\/\\u003eTyp: Zu dichtes \\u00dcberholen\\u003cbr \\\\/\\u003eBeschreibung: \\u003cbr \\\\/\\u003eBe\\u00e4ngstigend: false\\u003cbr \\\\/\\u003eBeteiligte: Bus\\u003cbr \\\\/\\u003eFahrt: VM2_114640195\\&quot;, false ], [ [ 13.384578680000001, 52.516752230000002 ], \\&quot;Datum: 10\\\\/03\\\\/2021 11:56:13\\u003cbr \\\\/\\u003eTyp: Zu dichtes \\u00dcberholen\\u003cbr \\\\/\\u003eBeschreibung: \\u003cbr \\\\/\\u003eBe\\u00e4ngstigend: true\\u003cbr \\\\/\\u003eBeteiligte: \\u003cbr \\\\/\\u003eFahrt: VM2_-269843420\\&quot;, true ] ]&quot;, &quot;rides&quot;: 86, &quot;score&quot;: 0.06279069767441861, &quot;surface_category&quot;: null, &quot;type&quot;: &quot;Street&quot;}, &quot;type&quot;: &quot;Feature&quot;}, {&quot;bbox&quot;: [13.364905979133082, 52.51560940577114, 13.366110316459293, 52.515705294381945], &quot;geometry&quot;: {&quot;coordinates&quot;: [[[13.366105877764387, 52.515686903450266], [13.366110316459293, 52.515705294381945], [13.364905979133082, 52.51562719874235], [13.364910759039688, 52.51560940577114], [13.366105877764387, 52.515686903450266]]], &quot;type&quot;: &quot;Polygon&quot;}, &quot;id&quot;: &quot;14177&quot;, &quot;properties&quot;: {&quot;id&quot;: &quot;[290757].0&quot;, &quot;incidents&quot;: 1, &quot;index_right&quot;: null, &quot;markers&quot;: &quot;[ [ [ 13.365200740000001, 52.515710259999999 ], \\&quot;Datum: 27\\\\/02\\\\/2023 09:44:58\\u003cbr \\\\/\\u003eTyp: Sonstiges\\u003cbr \\\\/\\u003eBeschreibung: bumpy bike lane, no alternative \\u003cbr \\\\/\\u003eBe\\u00e4ngstigend: false\\u003cbr \\\\/\\u003eBeteiligte: Sonstiges\\u003cbr \\\\/\\u003eFahrt: VM2_-802822494\\&quot;, false ] ]&quot;, &quot;rides&quot;: 177, &quot;score&quot;: 0.005649717514124294, &quot;surface_category&quot;: null, &quot;type&quot;: &quot;Street&quot;}, &quot;type&quot;: &quot;Feature&quot;}, {&quot;bbox&quot;: [13.508691972908982, 52.4526905819606, 13.509274252946028, 52.45311391976036], &quot;geometry&quot;: {&quot;coordinates&quot;: [[[13.508801643843213, 52.452852832647075], [13.508691972908982, 52.45278255176116], [13.508767585392967, 52.4526905819606], [13.509274252946028, 52.453022564615694], [13.509197694506392, 52.45311391976036], [13.508801643843213, 52.452852832647075]]], &quot;type&quot;: &quot;Polygon&quot;}, &quot;id&quot;: &quot;14204&quot;, &quot;properties&quot;: {&quot;id&quot;: &quot;[116782].0&quot;, &quot;incidents&quot;: 1, &quot;index_right&quot;: null, &quot;markers&quot;: &quot;[ [ [ 13.508789317123616, 52.452854873955857 ], \\&quot;Datum: 23\\\\/05\\\\/2019 22:33:48\\u003cbr \\\\/\\u003eTyp: Sonstiges\\u003cbr \\\\/\\u003eBeschreibung: abgedr\\u00e4ngt vom Radweg und geschnitten dabei bewusst\\u003cbr \\\\/\\u003eBe\\u00e4ngstigend: false\\u003cbr \\\\/\\u003eBeteiligte: Lieferwagen\\u003cbr \\\\/\\u003eFahrt: VM2_833650863\\&quot;, false ] ]&quot;, &quot;rides&quot;: 60, &quot;score&quot;: 0.016666666666666666, &quot;surface_category&quot;: null, &quot;type&quot;: &quot;Street&quot;}, &quot;type&quot;: &quot;Feature&quot;}, {&quot;bbox&quot;: [13.301564537882436, 52.529471569117064, 13.301940582931262, 52.5297503244944], &quot;geometry&quot;: {&quot;coordinates&quot;: [[[13.301564537882436, 52.529532944592205], [13.301928342955534, 52.529471569117064], [13.301940582931262, 52.529744198948706], [13.301913423865798, 52.52948970628422], [13.301584840296433, 52.52953738715823], [13.301595235364177, 52.5297503244944], [13.301564537882436, 52.529532944592205]]], &quot;type&quot;: &quot;Polygon&quot;}, &quot;id&quot;: &quot;14640&quot;, &quot;properties&quot;: {&quot;id&quot;: &quot;[270314].0&quot;, &quot;incidents&quot;: 1, &quot;index_right&quot;: null, &quot;markers&quot;: &quot;[ [ [ 13.301615, 52.529503333333331 ], \\&quot;Datum: 02\\\\/05\\\\/2024 08:37:37\\u003cbr \\\\/\\u003eTyp: Zu dichtes \\u00dcberholen\\u003cbr \\\\/\\u003eBeschreibung: Gallesteig zu eng durch parkende Fahrzeuge auf beiden Seiten.\\u003cbr \\\\/\\u003eBe\\u00e4ngstigend: false\\u003cbr \\\\/\\u003eBeteiligte: PKW\\u003cbr \\\\/\\u003eFahrt: VM2_-1843086795\\&quot;, false ] ]&quot;, &quot;rides&quot;: 51, &quot;score&quot;: 0.0196078431372549, &quot;surface_category&quot;: null, &quot;type&quot;: &quot;Street&quot;}, &quot;type&quot;: &quot;Feature&quot;}, {&quot;bbox&quot;: [13.405869655433602, 52.49778898518903, 13.406171802957768, 52.49798091718418], &quot;geometry&quot;: {&quot;coordinates&quot;: [[[13.405961821080766, 52.49785719845591], [13.40616877448316, 52.49778898518903], [13.406171802957768, 52.497805765756894], [13.405869655433602, 52.49798091718418], [13.405961821080766, 52.49785719845591]]], &quot;type&quot;: &quot;Polygon&quot;}, &quot;id&quot;: &quot;14870&quot;, &quot;properties&quot;: {&quot;id&quot;: &quot;[218298].0&quot;, &quot;incidents&quot;: 1, &quot;index_right&quot;: null, &quot;markers&quot;: &quot;[ [ [ 13.406105297021009, 52.497828120617633 ], \\&quot;Datum: 30\\\\/09\\\\/2020 14:18:49\\u003cbr \\\\/\\u003eTyp: Zu dichtes \\u00dcberholen\\u003cbr \\\\/\\u003eBeschreibung: ich stehe auf der linksabbiegerspur vor der roten Ampel, ein PKW f\\u00e4hrt erst sehr dicht auf, f\\u00e4hrt dann rechts an mir vorbei im Abstand von weniger als 50 cm, um dann vor mir auch links abzubiegen\\u003cbr \\\\/\\u003eBe\\u00e4ngstigend: false\\u003cbr \\\\/\\u003eBeteiligte: PKW\\u003cbr \\\\/\\u003eFahrt: VM2_1958151464\\&quot;, false ] ]&quot;, &quot;rides&quot;: 55, &quot;score&quot;: 0.01818181818181818, &quot;surface_category&quot;: null, &quot;type&quot;: &quot;Street&quot;}, &quot;type&quot;: &quot;Feature&quot;}, {&quot;bbox&quot;: [13.277974563627206, 52.54954347858663, 13.279211661711539, 52.54974062157479], &quot;geometry&quot;: {&quot;coordinates&quot;: [[[13.279208912986704, 52.54972168430414], [13.279211661711539, 52.54974062157479], [13.277974563627206, 52.54956110986251], [13.277980813866131, 52.54954347858663], [13.279208912986704, 52.54972168430414]]], &quot;type&quot;: &quot;Polygon&quot;}, &quot;id&quot;: &quot;15033&quot;, &quot;properties&quot;: {&quot;id&quot;: &quot;[120359].0&quot;, &quot;incidents&quot;: 1, &quot;index_right&quot;: null, &quot;markers&quot;: &quot;[ [ [ 13.27803806711211, 52.549163041792809 ], \\&quot;Datum: 11\\\\/11\\\\/2019 17:56:21\\u003cbr \\\\/\\u003eTyp: Einem Hindernis ausweichen (z.B. Hund)\\u003cbr \\\\/\\u003eBeschreibung: \\u003cbr \\\\/\\u003eBe\\u00e4ngstigend: false\\u003cbr \\\\/\\u003eBeteiligte: PKW\\u003cbr \\\\/\\u003eFahrt: VM2_-1746079048\\&quot;, false ] ]&quot;, &quot;rides&quot;: 100, &quot;score&quot;: 0.01, &quot;surface_category&quot;: null, &quot;type&quot;: &quot;Street&quot;}, &quot;type&quot;: &quot;Feature&quot;}, {&quot;bbox&quot;: [13.411311151715486, 52.52324565966827, 13.412095623776054, 52.52373311173341], &quot;geometry&quot;: {&quot;coordinates&quot;: [[[13.411655656338276, 52.52343991434227], [13.412095623776054, 52.523717740387234], [13.412083086623948, 52.52373311173341], [13.411311151715486, 52.52324565966827], [13.411655656338276, 52.52343991434227]]], &quot;type&quot;: &quot;Polygon&quot;}, &quot;id&quot;: &quot;15560&quot;, &quot;properties&quot;: {&quot;id&quot;: &quot;[321136].0&quot;, &quot;incidents&quot;: 2, &quot;index_right&quot;: null, &quot;markers&quot;: &quot;[ [ [ 13.411568000000001, 52.523392000000001 ], \\&quot;Datum: 20\\\\/06\\\\/2019 19:45:46\\u003cbr \\\\/\\u003eTyp: Zu dichtes \\u00dcberholen\\u003cbr \\\\/\\u003eBeschreibung: \\u003cbr \\\\/\\u003eBe\\u00e4ngstigend: false\\u003cbr \\\\/\\u003eBeteiligte: Bus\\u003cbr \\\\/\\u003eFahrt: VM2_921244740\\&quot;, false ], [ [ 13.411478000000001, 52.523342999999997 ], \\&quot;Datum: 23\\\\/08\\\\/2019 17:57:29\\u003cbr \\\\/\\u003eTyp: Zu dichtes \\u00dcberholen\\u003cbr \\\\/\\u003eBeschreibung: Keine Radinfrastruktur vorhanden\\u003cbr \\\\/\\u003eBe\\u00e4ngstigend: false\\u003cbr \\\\/\\u003eBeteiligte: PKW\\u003cbr \\\\/\\u003eFahrt: VM2_753235058\\&quot;, false ] ]&quot;, &quot;rides&quot;: 79, &quot;score&quot;: 0.02531645569620253, &quot;surface_category&quot;: null, &quot;type&quot;: &quot;Street&quot;}, &quot;type&quot;: &quot;Feature&quot;}, {&quot;bbox&quot;: [13.381921581745592, 52.513050618513056, 13.38217569377822, 52.51349580797707], &quot;geometry&quot;: {&quot;coordinates&quot;: [[[13.38215441081742, 52.5130536867551], [13.38217569377822, 52.513050618513056], [13.381938335629773, 52.51349580797707], [13.381921581745592, 52.51349038145997], [13.38215441081742, 52.5130536867551]]], &quot;type&quot;: &quot;Polygon&quot;}, &quot;id&quot;: &quot;15618&quot;, &quot;properties&quot;: {&quot;id&quot;: &quot;[307025].0&quot;, &quot;incidents&quot;: 2, &quot;index_right&quot;: null, &quot;markers&quot;: &quot;[ [ [ 13.381872230000001, 52.513503790000001 ], \\&quot;Datum: 07\\\\/11\\\\/2023 16:27:23\\u003cbr \\\\/\\u003eTyp: Einem Hindernis ausweichen (z.B. Hund)\\u003cbr \\\\/\\u003eBeschreibung: Radstreifen zugeparkt \\u003cbr \\\\/\\u003eBe\\u00e4ngstigend: true\\u003cbr \\\\/\\u003eBeteiligte: Lieferwagen\\u003cbr \\\\/\\u003eFahrt: VM2_141625680\\&quot;, true ], [ [ 13.381998299999999, 52.513443520000003 ], \\&quot;Datum: 11\\\\/05\\\\/2021 21:00:23\\u003cbr \\\\/\\u003eTyp: Zu dichtes \\u00dcberholen\\u003cbr \\\\/\\u003eBeschreibung: \\u003cbr \\\\/\\u003eBe\\u00e4ngstigend: false\\u003cbr \\\\/\\u003eBeteiligte: \\u003cbr \\\\/\\u003eFahrt: VM2_-1578381714\\&quot;, false ] ]&quot;, &quot;rides&quot;: 78, &quot;score&quot;: 0.06923076923076923, &quot;surface_category&quot;: null, &quot;type&quot;: &quot;Street&quot;}, &quot;type&quot;: &quot;Feature&quot;}, {&quot;bbox&quot;: [13.405949271726048, 52.48957862268942, 13.406530580749589, 52.48962413947769], &quot;geometry&quot;: {&quot;coordinates&quot;: [[[13.406283482810705, 52.489619772722016], [13.405949271726048, 52.48962413947769], [13.40595254250785, 52.48960630374536], [13.406530580749589, 52.48957862268942], [13.406283482810705, 52.489619772722016]]], &quot;type&quot;: &quot;Polygon&quot;}, &quot;id&quot;: &quot;15890&quot;, &quot;properties&quot;: {&quot;id&quot;: &quot;[272200].0&quot;, &quot;incidents&quot;: 1, &quot;index_right&quot;: null, &quot;markers&quot;: &quot;[ [ [ 13.40600347, 52.489642289999999 ], \\&quot;Datum: 19\\\\/11\\\\/2020 09:03:14\\u003cbr \\\\/\\u003eTyp: Beinahe-Abbiegeunfall\\u003cbr \\\\/\\u003eBeschreibung: Two delivery vans turning right fast, even though view on the intersection and bike lane was blocked by parked vans\\u003cbr \\\\/\\u003eBe\\u00e4ngstigend: true\\u003cbr \\\\/\\u003eBeteiligte: Lieferwagen,PKW\\u003cbr \\\\/\\u003eFahrt: VM2_-951214577\\&quot;, true ] ]&quot;, &quot;rides&quot;: 514, &quot;score&quot;: 0.008560311284046693, &quot;surface_category&quot;: null, &quot;type&quot;: &quot;Street&quot;}, &quot;type&quot;: &quot;Feature&quot;}, {&quot;bbox&quot;: [13.416769150625258, 52.510887218214805, 13.41716662488075, 52.511003413026984], &quot;geometry&quot;: {&quot;coordinates&quot;: [[[13.417155434058051, 52.510887218214805], [13.41716662488075, 52.510901950530446], [13.416770858018841, 52.511003413026984], [13.416769150625258, 52.51098624950758], [13.417155434058051, 52.510887218214805]]], &quot;type&quot;: &quot;Polygon&quot;}, &quot;id&quot;: &quot;16081&quot;, &quot;properties&quot;: {&quot;id&quot;: &quot;[293463].0&quot;, &quot;incidents&quot;: 1, &quot;index_right&quot;: null, &quot;markers&quot;: &quot;[ [ [ 13.4168102, 52.510976550000002 ], \\&quot;Datum: 11\\\\/09\\\\/2019 09:34:03\\u003cbr \\\\/\\u003eTyp: Sonstiges\\u003cbr \\\\/\\u003eBeschreibung: Parkender LKW hat zwar Fahhradstreifen frei gelassen, Situation aber aufgrund schlecher Sicht gef\\u00e4hrlich\\u003cbr \\\\/\\u003eBe\\u00e4ngstigend: false\\u003cbr \\\\/\\u003eBeteiligte: LKW\\u003cbr \\\\/\\u003eFahrt: VM2_-1984012955\\&quot;, false ] ]&quot;, &quot;rides&quot;: 90, &quot;score&quot;: 0.011111111111111112, &quot;surface_category&quot;: null, &quot;type&quot;: &quot;Street&quot;}, &quot;type&quot;: &quot;Feature&quot;}], &quot;type&quot;: &quot;FeatureCollection&quot;});\n",
       "\n",
       "        \n",
       "    \n",
       "    geo_json_ce4e4ac0096030a723aed2a7db01a39b.bindTooltip(\n",
       "    function(layer){\n",
       "    let div = L.DomUtil.create(&#x27;div&#x27;);\n",
       "    \n",
       "    let handleObject = feature=&gt;typeof(feature)==&#x27;object&#x27; ? JSON.stringify(feature) : feature;\n",
       "    let fields = [&quot;id&quot;, &quot;type&quot;, &quot;score&quot;, &quot;incidents&quot;, &quot;rides&quot;, &quot;markers&quot;, &quot;index_right&quot;, &quot;surface_category&quot;];\n",
       "    let aliases = [&quot;id&quot;, &quot;type&quot;, &quot;score&quot;, &quot;incidents&quot;, &quot;rides&quot;, &quot;markers&quot;, &quot;index_right&quot;, &quot;surface_category&quot;];\n",
       "    let table = &#x27;&lt;table&gt;&#x27; +\n",
       "        String(\n",
       "        fields.map(\n",
       "        (v,i)=&gt;\n",
       "        `&lt;tr&gt;\n",
       "            &lt;th&gt;${aliases[i]}&lt;/th&gt;\n",
       "            \n",
       "            &lt;td&gt;${handleObject(layer.feature.properties[v])}&lt;/td&gt;\n",
       "        &lt;/tr&gt;`).join(&#x27;&#x27;))\n",
       "    +&#x27;&lt;/table&gt;&#x27;;\n",
       "    div.innerHTML=table;\n",
       "    \n",
       "    return div\n",
       "    }\n",
       "    ,{&quot;className&quot;: &quot;foliumtooltip&quot;, &quot;sticky&quot;: true});\n",
       "                     \n",
       "    \n",
       "            geo_json_ce4e4ac0096030a723aed2a7db01a39b.addTo(map_6bcbf80df59a99ba2909f3b6c59d28f9);\n",
       "        \n",
       "&lt;/script&gt;\n",
       "&lt;/html&gt;\" style=\"position:absolute;width:100%;height:100%;left:0;top:0;border:none !important;\" allowfullscreen webkitallowfullscreen mozallowfullscreen></iframe></div></div>"
      ],
      "text/plain": [
       "<folium.folium.Map at 0x2877ad640>"
      ]
     },
     "execution_count": 12,
     "metadata": {},
     "output_type": "execute_result"
    }
   ],
   "source": [
    "nan_values_score.explore()\n"
   ]
  },
  {
   "cell_type": "markdown",
   "id": "380e0d9b-3e9a-4b20-a736-3d7b0c18ebe2",
   "metadata": {},
   "source": [
    "### Entfernen der NaN-Werte\n",
    "\n",
    "Nähere Begründung siehe [osm_highway](osm_highway.ipynb)  \n",
    "\n",
    "Bereinigung der Daten  \n",
    "Um sicherzustellen, dass nur relevante Verknüpfungen in unserer Analyse betrachtet werden, entfernen wir Zeilen mit NaN-Werten in der indexright-Spalte. Das bedeutet, dass nur Zeilen mit gefundenen räumlichen Übereinstimmungen beibehalten werden."
   ]
  },
  {
   "cell_type": "code",
   "execution_count": 13,
   "id": "72985e45-bea9-4ebe-971c-5f048a356337",
   "metadata": {},
   "outputs": [
    {
     "name": "stdout",
     "output_type": "stream",
     "text": [
      "Anzahl der verbleibenden Zeilen nach dem Entfernen der NaN-Werte: 85801\n"
     ]
    }
   ],
   "source": [
    "cleaned_simra_surface = simRa_surface.dropna(subset=['surface_category'])\n",
    "\n",
    "print(f\"Anzahl der verbleibenden Zeilen nach dem Entfernen der NaN-Werte: {len(cleaned_simra_surface)}\")"
   ]
  },
  {
   "cell_type": "code",
   "execution_count": 14,
   "id": "fa3f719a-8caf-4da0-a0a0-638b2299058e",
   "metadata": {},
   "outputs": [
    {
     "name": "stdout",
     "output_type": "stream",
     "text": [
      "Anzahl der NaN-Werte nach der Bereinigung: 0\n"
     ]
    }
   ],
   "source": [
    "# Sicherstellen, dass keine NaN-Werte mehr in der Spalte 'index_right' vorhanden sind\n",
    "nan_values_after_cleaning = cleaned_simra_surface[cleaned_simra_surface['index_right'].isna()]\n",
    "\n",
    "print(f\"Anzahl der NaN-Werte nach der Bereinigung: {len(nan_values_after_cleaning)}\")"
   ]
  },
  {
   "cell_type": "code",
   "execution_count": 15,
   "id": "88cc3850-9be3-478e-b9a0-f4f5b1cacaab",
   "metadata": {},
   "outputs": [
    {
     "data": {
      "text/plain": [
       "(85801, 9)"
      ]
     },
     "execution_count": 15,
     "metadata": {},
     "output_type": "execute_result"
    }
   ],
   "source": [
    "cleaned_simra_surface.shape"
   ]
  },
  {
   "cell_type": "code",
   "execution_count": 16,
   "id": "fab8745f-f2fb-4fff-bf62-95f495ff069a",
   "metadata": {},
   "outputs": [
    {
     "data": {
      "text/html": [
       "<div>\n",
       "<style scoped>\n",
       "    .dataframe tbody tr th:only-of-type {\n",
       "        vertical-align: middle;\n",
       "    }\n",
       "\n",
       "    .dataframe tbody tr th {\n",
       "        vertical-align: top;\n",
       "    }\n",
       "\n",
       "    .dataframe thead th {\n",
       "        text-align: right;\n",
       "    }\n",
       "</style>\n",
       "<table border=\"1\" class=\"dataframe\">\n",
       "  <thead>\n",
       "    <tr style=\"text-align: right;\">\n",
       "      <th></th>\n",
       "      <th>id</th>\n",
       "      <th>type</th>\n",
       "      <th>score</th>\n",
       "      <th>incidents</th>\n",
       "      <th>rides</th>\n",
       "      <th>markers</th>\n",
       "      <th>geometry</th>\n",
       "      <th>index_right</th>\n",
       "      <th>surface_category</th>\n",
       "    </tr>\n",
       "  </thead>\n",
       "  <tbody>\n",
       "    <tr>\n",
       "      <th>0</th>\n",
       "      <td>[79310].0</td>\n",
       "      <td>Street</td>\n",
       "      <td>0.000000</td>\n",
       "      <td>0</td>\n",
       "      <td>57</td>\n",
       "      <td>[ ]</td>\n",
       "      <td>POLYGON ((13.37410 52.53031, 13.37421 52.53020...</td>\n",
       "      <td>170.0</td>\n",
       "      <td>asphalt</td>\n",
       "    </tr>\n",
       "    <tr>\n",
       "      <th>0</th>\n",
       "      <td>[79310].0</td>\n",
       "      <td>Street</td>\n",
       "      <td>0.000000</td>\n",
       "      <td>0</td>\n",
       "      <td>57</td>\n",
       "      <td>[ ]</td>\n",
       "      <td>POLYGON ((13.37410 52.53031, 13.37421 52.53020...</td>\n",
       "      <td>33845.0</td>\n",
       "      <td>asphalt</td>\n",
       "    </tr>\n",
       "    <tr>\n",
       "      <th>0</th>\n",
       "      <td>[79310].0</td>\n",
       "      <td>Street</td>\n",
       "      <td>0.000000</td>\n",
       "      <td>0</td>\n",
       "      <td>57</td>\n",
       "      <td>[ ]</td>\n",
       "      <td>POLYGON ((13.37410 52.53031, 13.37421 52.53020...</td>\n",
       "      <td>145435.0</td>\n",
       "      <td>asphalt</td>\n",
       "    </tr>\n",
       "    <tr>\n",
       "      <th>1</th>\n",
       "      <td>[196724641, 196725586, 866264912].0</td>\n",
       "      <td>Junction</td>\n",
       "      <td>0.000649</td>\n",
       "      <td>1</td>\n",
       "      <td>1541</td>\n",
       "      <td>[ [ [ 13.417860660000001, 52.514469009999999 ]...</td>\n",
       "      <td>POLYGON ((13.41751 52.51461, 13.41779 52.51442...</td>\n",
       "      <td>13371.0</td>\n",
       "      <td>asphalt</td>\n",
       "    </tr>\n",
       "    <tr>\n",
       "      <th>1</th>\n",
       "      <td>[196724641, 196725586, 866264912].0</td>\n",
       "      <td>Junction</td>\n",
       "      <td>0.000649</td>\n",
       "      <td>1</td>\n",
       "      <td>1541</td>\n",
       "      <td>[ [ [ 13.417860660000001, 52.514469009999999 ]...</td>\n",
       "      <td>POLYGON ((13.41751 52.51461, 13.41779 52.51442...</td>\n",
       "      <td>13373.0</td>\n",
       "      <td>asphalt</td>\n",
       "    </tr>\n",
       "  </tbody>\n",
       "</table>\n",
       "</div>"
      ],
      "text/plain": [
       "                                    id      type     score  incidents  rides  \\\n",
       "0                            [79310].0    Street  0.000000          0     57   \n",
       "0                            [79310].0    Street  0.000000          0     57   \n",
       "0                            [79310].0    Street  0.000000          0     57   \n",
       "1  [196724641, 196725586, 866264912].0  Junction  0.000649          1   1541   \n",
       "1  [196724641, 196725586, 866264912].0  Junction  0.000649          1   1541   \n",
       "\n",
       "                                             markers  \\\n",
       "0                                                [ ]   \n",
       "0                                                [ ]   \n",
       "0                                                [ ]   \n",
       "1  [ [ [ 13.417860660000001, 52.514469009999999 ]...   \n",
       "1  [ [ [ 13.417860660000001, 52.514469009999999 ]...   \n",
       "\n",
       "                                            geometry  index_right  \\\n",
       "0  POLYGON ((13.37410 52.53031, 13.37421 52.53020...        170.0   \n",
       "0  POLYGON ((13.37410 52.53031, 13.37421 52.53020...      33845.0   \n",
       "0  POLYGON ((13.37410 52.53031, 13.37421 52.53020...     145435.0   \n",
       "1  POLYGON ((13.41751 52.51461, 13.41779 52.51442...      13371.0   \n",
       "1  POLYGON ((13.41751 52.51461, 13.41779 52.51442...      13373.0   \n",
       "\n",
       "  surface_category  \n",
       "0          asphalt  \n",
       "0          asphalt  \n",
       "0          asphalt  \n",
       "1          asphalt  \n",
       "1          asphalt  "
      ]
     },
     "execution_count": 16,
     "metadata": {},
     "output_type": "execute_result"
    }
   ],
   "source": [
    "cleaned_simra_surface.head()"
   ]
  },
  {
   "cell_type": "markdown",
   "id": "4de0f665-a596-4628-8b50-9351d3a673a1",
   "metadata": {
    "jp-MarkdownHeadingCollapsed": true
   },
   "source": [
    "#### Die Betrachtung der Ergebnisse zeigt, dass die Ausgaben (NaN Werte und deren Geometrien) identisch sind mit dem Join von simRa und dem Highway-Datensatz.  \n",
    "\n"
   ]
  },
  {
   "cell_type": "markdown",
   "id": "5f190915-cc87-4448-be17-e4a7fe8f2447",
   "metadata": {},
   "source": [
    "### Gruppieren der Polyglone und Zusammenfassen der surface-Werte\n",
    "\n",
    "Gruppieren und Aggregieren:  \n",
    "\n",
    "* Der DataFrame wird nach id und geometry gruppiert. Für jede Gruppe werden die angegebenen Aggregationsfunktionen auf die Spalten angewendet:\n",
    "  * Für type, score, incidents, rides, markers, und index_right wird der erste Wert in der Gruppe verwendet ('first').\n",
    "  * Für die surface_category-Spalte wird eine Funktion zum Kombinieren der Werte angwendet.\n",
    "* Das Ergebnis ist ein DataFrame grouped_data, bei dem die maxspeed-Werte pro Gruppe als zusammenhängender String dargestellt sind, während alle anderen spezifischen Werte beibehalten werden."
   ]
  },
  {
   "cell_type": "code",
   "execution_count": 17,
   "id": "2ac9203c-b960-4d5e-b94c-3ac140bb736d",
   "metadata": {},
   "outputs": [],
   "source": [
    "cleaned_simra_surface = gpd.GeoDataFrame(cleaned_simra_surface, geometry='geometry')"
   ]
  },
  {
   "cell_type": "code",
   "execution_count": 18,
   "id": "3c590041-9090-4e58-8a74-3f9a0ecca5eb",
   "metadata": {},
   "outputs": [],
   "source": [
    "# Funktion zum Kombinieren der 'highway'-Werte \n",
    "def combine_surfaces(x):\n",
    "    return ', '.join(x)  # Doppelte Einträge bleiben erhalten und werden verbunden\n",
    "\n",
    "# Gruppieren nach 'id' und 'geometry' und Aggregation\n",
    "grouped_data = cleaned_simra_surface.groupby(['id', 'geometry']).agg({\n",
    "    'type': 'first',       # Erster Wert (da alle Werte gleich)\n",
    "    'score': 'first',      \n",
    "    'incidents': 'first',  \n",
    "    'rides': 'first',      \n",
    "    'markers': 'first',    \n",
    "    'index_right': 'first',\n",
    "    'surface_category': combine_surfaces  # Kombinieren der 'highway' Werte\n",
    "}).reset_index()"
   ]
  },
  {
   "cell_type": "code",
   "execution_count": 19,
   "id": "f4e2befb-94b0-4fcd-9d7e-1601a40d7f4f",
   "metadata": {},
   "outputs": [],
   "source": [
    "# Umwandlung zurück in ein GeoDataFrame\n",
    "grouped_data = gpd.GeoDataFrame(grouped_data, geometry='geometry', crs=cleaned_simra_surface.crs)"
   ]
  },
  {
   "cell_type": "code",
   "execution_count": 20,
   "id": "103072e5-fc7f-4f13-bf8e-2766f5db15c1",
   "metadata": {},
   "outputs": [
    {
     "data": {
      "text/html": [
       "<div>\n",
       "<style scoped>\n",
       "    .dataframe tbody tr th:only-of-type {\n",
       "        vertical-align: middle;\n",
       "    }\n",
       "\n",
       "    .dataframe tbody tr th {\n",
       "        vertical-align: top;\n",
       "    }\n",
       "\n",
       "    .dataframe thead th {\n",
       "        text-align: right;\n",
       "    }\n",
       "</style>\n",
       "<table border=\"1\" class=\"dataframe\">\n",
       "  <thead>\n",
       "    <tr style=\"text-align: right;\">\n",
       "      <th></th>\n",
       "      <th>id</th>\n",
       "      <th>geometry</th>\n",
       "      <th>type</th>\n",
       "      <th>score</th>\n",
       "      <th>incidents</th>\n",
       "      <th>rides</th>\n",
       "      <th>markers</th>\n",
       "      <th>index_right</th>\n",
       "      <th>surface_category</th>\n",
       "    </tr>\n",
       "  </thead>\n",
       "  <tbody>\n",
       "    <tr>\n",
       "      <th>0</th>\n",
       "      <td>[100049].0</td>\n",
       "      <td>POLYGON ((13.45412 52.54035, 13.45320 52.53977...</td>\n",
       "      <td>Street</td>\n",
       "      <td>0.0</td>\n",
       "      <td>0</td>\n",
       "      <td>138</td>\n",
       "      <td>[ ]</td>\n",
       "      <td>57832.0</td>\n",
       "      <td>concrete, concrete, concrete, concrete</td>\n",
       "    </tr>\n",
       "    <tr>\n",
       "      <th>1</th>\n",
       "      <td>[100069498].0</td>\n",
       "      <td>POLYGON ((13.52273 52.50704, 13.52248 52.50690...</td>\n",
       "      <td>Junction</td>\n",
       "      <td>0.0</td>\n",
       "      <td>0</td>\n",
       "      <td>200</td>\n",
       "      <td>[ ]</td>\n",
       "      <td>123443.0</td>\n",
       "      <td>asphalt, asphalt, asphalt</td>\n",
       "    </tr>\n",
       "    <tr>\n",
       "      <th>2</th>\n",
       "      <td>[100078509, 288268004, 3888645535].0</td>\n",
       "      <td>POLYGON ((13.47754 52.51457, 13.47782 52.51438...</td>\n",
       "      <td>Junction</td>\n",
       "      <td>0.0</td>\n",
       "      <td>0</td>\n",
       "      <td>54</td>\n",
       "      <td>[ ]</td>\n",
       "      <td>75145.0</td>\n",
       "      <td>asphalt, asphalt, asphalt, asphalt, asphalt, a...</td>\n",
       "    </tr>\n",
       "  </tbody>\n",
       "</table>\n",
       "</div>"
      ],
      "text/plain": [
       "                                     id  \\\n",
       "0                            [100049].0   \n",
       "1                         [100069498].0   \n",
       "2  [100078509, 288268004, 3888645535].0   \n",
       "\n",
       "                                            geometry      type  score  \\\n",
       "0  POLYGON ((13.45412 52.54035, 13.45320 52.53977...    Street    0.0   \n",
       "1  POLYGON ((13.52273 52.50704, 13.52248 52.50690...  Junction    0.0   \n",
       "2  POLYGON ((13.47754 52.51457, 13.47782 52.51438...  Junction    0.0   \n",
       "\n",
       "   incidents  rides markers  index_right  \\\n",
       "0          0    138     [ ]      57832.0   \n",
       "1          0    200     [ ]     123443.0   \n",
       "2          0     54     [ ]      75145.0   \n",
       "\n",
       "                                    surface_category  \n",
       "0             concrete, concrete, concrete, concrete  \n",
       "1                          asphalt, asphalt, asphalt  \n",
       "2  asphalt, asphalt, asphalt, asphalt, asphalt, a...  "
      ]
     },
     "execution_count": 20,
     "metadata": {},
     "output_type": "execute_result"
    }
   ],
   "source": [
    "grouped_data.head(3)"
   ]
  },
  {
   "cell_type": "code",
   "execution_count": 21,
   "id": "0083a58b-2bc7-4807-9392-8fea69ce956a",
   "metadata": {},
   "outputs": [
    {
     "data": {
      "text/plain": [
       "'asphalt, unpaved, asphalt, asphalt, unpaved, paving_stone, unpaved, paving_stone, asphalt, unpaved'"
      ]
     },
     "execution_count": 21,
     "metadata": {},
     "output_type": "execute_result"
    }
   ],
   "source": [
    "# Beispielausgabe surface_category bei INdex 72\n",
    "grouped_data.loc[72, 'surface_category']"
   ]
  },
  {
   "cell_type": "code",
   "execution_count": 22,
   "id": "27d58d2d-e1b4-4669-aae9-84c1725beb4c",
   "metadata": {},
   "outputs": [
    {
     "data": {
      "text/plain": [
       "(15918, 9)"
      ]
     },
     "execution_count": 22,
     "metadata": {},
     "output_type": "execute_result"
    }
   ],
   "source": [
    "grouped_data.shape\n"
   ]
  },
  {
   "cell_type": "markdown",
   "id": "c63af83d-23a8-44c8-8249-52ba3ca02807",
   "metadata": {},
   "source": [
    "shape des Datensatzes ist identisch zum Datensatz simRa-Hihgway  \n",
    "Das ist positiv."
   ]
  },
  {
   "cell_type": "markdown",
   "id": "13031b6c-90bd-4d54-bb88-7207cb0b0e29",
   "metadata": {},
   "source": [
    "### Umgang mit mehreren surface-Werten in einem Polygon\n",
    "-------\n",
    "\n",
    "surface Werte könnten anteilig  nach ihrem Vorkommen im Polygon ausgegeben werden  \n",
    "Diesen Ansatz wollen wir verfolgen und später testen, ob dieses Vorgehen sinnvoll ist\n",
    "\n",
    "Wir gehen folgendermaßen vor:  \n",
    "* Zerlegen der surface_category-Spalte.\n",
    "* Berechnung der Anteile für jeden surface-Typ.\n",
    "* Erstellung der neuen Kategorien-Spalten."
   ]
  },
  {
   "cell_type": "code",
   "execution_count": 23,
   "id": "aa66487f-50c9-447c-9cfe-4398d36f0813",
   "metadata": {},
   "outputs": [],
   "source": [
    "# Funktion zum Zerlegen der 'surface_category'-Spalte in Listen\n",
    "grouped_data['surface_list'] = grouped_data['surface_category'].apply(lambda x: x.split(', '))"
   ]
  },
  {
   "cell_type": "code",
   "execution_count": 24,
   "id": "4a69375a-21b4-455f-90a7-d417e2a17b49",
   "metadata": {},
   "outputs": [
    {
     "data": {
      "text/html": [
       "<div>\n",
       "<style scoped>\n",
       "    .dataframe tbody tr th:only-of-type {\n",
       "        vertical-align: middle;\n",
       "    }\n",
       "\n",
       "    .dataframe tbody tr th {\n",
       "        vertical-align: top;\n",
       "    }\n",
       "\n",
       "    .dataframe thead th {\n",
       "        text-align: right;\n",
       "    }\n",
       "</style>\n",
       "<table border=\"1\" class=\"dataframe\">\n",
       "  <thead>\n",
       "    <tr style=\"text-align: right;\">\n",
       "      <th></th>\n",
       "      <th>id</th>\n",
       "      <th>geometry</th>\n",
       "      <th>type</th>\n",
       "      <th>score</th>\n",
       "      <th>incidents</th>\n",
       "      <th>rides</th>\n",
       "      <th>markers</th>\n",
       "      <th>index_right</th>\n",
       "      <th>surface_category</th>\n",
       "      <th>surface_list</th>\n",
       "    </tr>\n",
       "  </thead>\n",
       "  <tbody>\n",
       "    <tr>\n",
       "      <th>0</th>\n",
       "      <td>[100049].0</td>\n",
       "      <td>POLYGON ((13.45412 52.54035, 13.45320 52.53977...</td>\n",
       "      <td>Street</td>\n",
       "      <td>0.0</td>\n",
       "      <td>0</td>\n",
       "      <td>138</td>\n",
       "      <td>[ ]</td>\n",
       "      <td>57832.0</td>\n",
       "      <td>concrete, concrete, concrete, concrete</td>\n",
       "      <td>[concrete, concrete, concrete, concrete]</td>\n",
       "    </tr>\n",
       "    <tr>\n",
       "      <th>1</th>\n",
       "      <td>[100069498].0</td>\n",
       "      <td>POLYGON ((13.52273 52.50704, 13.52248 52.50690...</td>\n",
       "      <td>Junction</td>\n",
       "      <td>0.0</td>\n",
       "      <td>0</td>\n",
       "      <td>200</td>\n",
       "      <td>[ ]</td>\n",
       "      <td>123443.0</td>\n",
       "      <td>asphalt, asphalt, asphalt</td>\n",
       "      <td>[asphalt, asphalt, asphalt]</td>\n",
       "    </tr>\n",
       "    <tr>\n",
       "      <th>2</th>\n",
       "      <td>[100078509, 288268004, 3888645535].0</td>\n",
       "      <td>POLYGON ((13.47754 52.51457, 13.47782 52.51438...</td>\n",
       "      <td>Junction</td>\n",
       "      <td>0.0</td>\n",
       "      <td>0</td>\n",
       "      <td>54</td>\n",
       "      <td>[ ]</td>\n",
       "      <td>75145.0</td>\n",
       "      <td>asphalt, asphalt, asphalt, asphalt, asphalt, a...</td>\n",
       "      <td>[asphalt, asphalt, asphalt, asphalt, asphalt, ...</td>\n",
       "    </tr>\n",
       "    <tr>\n",
       "      <th>3</th>\n",
       "      <td>[100094].0</td>\n",
       "      <td>POLYGON ((13.46855 52.61490, 13.46841 52.61475...</td>\n",
       "      <td>Street</td>\n",
       "      <td>0.0</td>\n",
       "      <td>0</td>\n",
       "      <td>98</td>\n",
       "      <td>[ ]</td>\n",
       "      <td>6529.0</td>\n",
       "      <td>asphalt, unpaved</td>\n",
       "      <td>[asphalt, unpaved]</td>\n",
       "    </tr>\n",
       "    <tr>\n",
       "      <th>4</th>\n",
       "      <td>[1000].0</td>\n",
       "      <td>POLYGON ((13.35533 52.51693, 13.35655 52.51683...</td>\n",
       "      <td>Street</td>\n",
       "      <td>0.0</td>\n",
       "      <td>0</td>\n",
       "      <td>130</td>\n",
       "      <td>[ ]</td>\n",
       "      <td>156528.0</td>\n",
       "      <td>asphalt, asphalt, asphalt</td>\n",
       "      <td>[asphalt, asphalt, asphalt]</td>\n",
       "    </tr>\n",
       "  </tbody>\n",
       "</table>\n",
       "</div>"
      ],
      "text/plain": [
       "                                     id  \\\n",
       "0                            [100049].0   \n",
       "1                         [100069498].0   \n",
       "2  [100078509, 288268004, 3888645535].0   \n",
       "3                            [100094].0   \n",
       "4                              [1000].0   \n",
       "\n",
       "                                            geometry      type  score  \\\n",
       "0  POLYGON ((13.45412 52.54035, 13.45320 52.53977...    Street    0.0   \n",
       "1  POLYGON ((13.52273 52.50704, 13.52248 52.50690...  Junction    0.0   \n",
       "2  POLYGON ((13.47754 52.51457, 13.47782 52.51438...  Junction    0.0   \n",
       "3  POLYGON ((13.46855 52.61490, 13.46841 52.61475...    Street    0.0   \n",
       "4  POLYGON ((13.35533 52.51693, 13.35655 52.51683...    Street    0.0   \n",
       "\n",
       "   incidents  rides markers  index_right  \\\n",
       "0          0    138     [ ]      57832.0   \n",
       "1          0    200     [ ]     123443.0   \n",
       "2          0     54     [ ]      75145.0   \n",
       "3          0     98     [ ]       6529.0   \n",
       "4          0    130     [ ]     156528.0   \n",
       "\n",
       "                                    surface_category  \\\n",
       "0             concrete, concrete, concrete, concrete   \n",
       "1                          asphalt, asphalt, asphalt   \n",
       "2  asphalt, asphalt, asphalt, asphalt, asphalt, a...   \n",
       "3                                   asphalt, unpaved   \n",
       "4                          asphalt, asphalt, asphalt   \n",
       "\n",
       "                                        surface_list  \n",
       "0           [concrete, concrete, concrete, concrete]  \n",
       "1                        [asphalt, asphalt, asphalt]  \n",
       "2  [asphalt, asphalt, asphalt, asphalt, asphalt, ...  \n",
       "3                                 [asphalt, unpaved]  \n",
       "4                        [asphalt, asphalt, asphalt]  "
      ]
     },
     "execution_count": 24,
     "metadata": {},
     "output_type": "execute_result"
    }
   ],
   "source": [
    "grouped_data.head()"
   ]
  },
  {
   "cell_type": "code",
   "execution_count": 25,
   "id": "8d70f285-c72b-46ca-b517-6750065f671b",
   "metadata": {},
   "outputs": [],
   "source": [
    "# Alle einzigartigen `surface`-Typen finden\n",
    "unique_types = sorted(set(sum(grouped_data['surface_list'].tolist(), [])))"
   ]
  },
  {
   "cell_type": "code",
   "execution_count": 26,
   "id": "15a6b10a-1547-4a96-871d-0ad6d7fc3574",
   "metadata": {},
   "outputs": [
    {
     "data": {
      "text/plain": [
       "['asphalt', 'concrete', 'paving_stone', 'sett', 'unpaved']"
      ]
     },
     "execution_count": 26,
     "metadata": {},
     "output_type": "execute_result"
    }
   ],
   "source": [
    "unique_types"
   ]
  },
  {
   "cell_type": "code",
   "execution_count": 27,
   "id": "4bd4fbaa-1100-426c-9bfc-763ea7d9a3a0",
   "metadata": {},
   "outputs": [],
   "source": [
    "\n",
    "\n",
    "# Funktion zur Berechnung der Anteilswerte - berechnet die Anteile der jeweiligen `surface`-Typen pro Zeile\n",
    "def calculate_surface_ratios(row, surface_types):\n",
    "    total_count = len(row['surface_list'])\n",
    "    counts = pd.Series(row['surface_list']).value_counts()\n",
    "    return {surface: counts.get(surface, 0) / total_count for surface in surface_types}"
   ]
  },
  {
   "cell_type": "code",
   "execution_count": 28,
   "id": "11b365d7-fea6-4d0a-961c-999b933690da",
   "metadata": {},
   "outputs": [],
   "source": [
    "import pandas as pd\n",
    "\n",
    "# Anwendung der Funktion auf den GeoDataFrame\n",
    "surface_ratios = grouped_data.apply(calculate_surface_ratios, axis=1, surface_types=unique_types) # axis=1 --> Fkt. wird aus Zeilen angewendet\n",
    "ratios_df = pd.DataFrame(list(surface_ratios))"
   ]
  },
  {
   "cell_type": "code",
   "execution_count": 29,
   "id": "345b7192-6364-41e5-85f5-c53c26bec85e",
   "metadata": {},
   "outputs": [],
   "source": [
    "# Zusammenführen der Ergebnisse mit dem ursprünglichen GeoDataFrame\n",
    "gdf = pd.concat([grouped_data, ratios_df], axis=1)"
   ]
  },
  {
   "cell_type": "code",
   "execution_count": 30,
   "id": "5b8466fd-8bfc-4a0d-824a-64fa0ff73d2b",
   "metadata": {},
   "outputs": [],
   "source": [
    "# Entfernen der temporären Spalte\n",
    "gdf.drop(columns=['surface_list'], inplace=True)"
   ]
  },
  {
   "cell_type": "code",
   "execution_count": 31,
   "id": "c167b5bb-f2b3-4c64-a138-e3d7e1e663d3",
   "metadata": {},
   "outputs": [],
   "source": [
    "# Entfernen der temporären Spalte\n",
    "gdf.drop(columns=['surface_category', 'markers'], inplace=True)"
   ]
  },
  {
   "cell_type": "code",
   "execution_count": 32,
   "id": "bacc6f50-9f84-4142-9a85-40cc08d734e9",
   "metadata": {
    "scrolled": true
   },
   "outputs": [
    {
     "data": {
      "text/html": [
       "<div>\n",
       "<style scoped>\n",
       "    .dataframe tbody tr th:only-of-type {\n",
       "        vertical-align: middle;\n",
       "    }\n",
       "\n",
       "    .dataframe tbody tr th {\n",
       "        vertical-align: top;\n",
       "    }\n",
       "\n",
       "    .dataframe thead th {\n",
       "        text-align: right;\n",
       "    }\n",
       "</style>\n",
       "<table border=\"1\" class=\"dataframe\">\n",
       "  <thead>\n",
       "    <tr style=\"text-align: right;\">\n",
       "      <th></th>\n",
       "      <th>id</th>\n",
       "      <th>geometry</th>\n",
       "      <th>type</th>\n",
       "      <th>score</th>\n",
       "      <th>incidents</th>\n",
       "      <th>rides</th>\n",
       "      <th>index_right</th>\n",
       "      <th>asphalt</th>\n",
       "      <th>concrete</th>\n",
       "      <th>paving_stone</th>\n",
       "      <th>sett</th>\n",
       "      <th>unpaved</th>\n",
       "    </tr>\n",
       "  </thead>\n",
       "  <tbody>\n",
       "    <tr>\n",
       "      <th>0</th>\n",
       "      <td>[100049].0</td>\n",
       "      <td>POLYGON ((13.45412 52.54035, 13.45320 52.53977...</td>\n",
       "      <td>Street</td>\n",
       "      <td>0.000000</td>\n",
       "      <td>0</td>\n",
       "      <td>138</td>\n",
       "      <td>57832.0</td>\n",
       "      <td>0.000000</td>\n",
       "      <td>1.0</td>\n",
       "      <td>0.000000</td>\n",
       "      <td>0.0</td>\n",
       "      <td>0.000000</td>\n",
       "    </tr>\n",
       "    <tr>\n",
       "      <th>1</th>\n",
       "      <td>[100069498].0</td>\n",
       "      <td>POLYGON ((13.52273 52.50704, 13.52248 52.50690...</td>\n",
       "      <td>Junction</td>\n",
       "      <td>0.000000</td>\n",
       "      <td>0</td>\n",
       "      <td>200</td>\n",
       "      <td>123443.0</td>\n",
       "      <td>1.000000</td>\n",
       "      <td>0.0</td>\n",
       "      <td>0.000000</td>\n",
       "      <td>0.0</td>\n",
       "      <td>0.000000</td>\n",
       "    </tr>\n",
       "    <tr>\n",
       "      <th>2</th>\n",
       "      <td>[100078509, 288268004, 3888645535].0</td>\n",
       "      <td>POLYGON ((13.47754 52.51457, 13.47782 52.51438...</td>\n",
       "      <td>Junction</td>\n",
       "      <td>0.000000</td>\n",
       "      <td>0</td>\n",
       "      <td>54</td>\n",
       "      <td>75145.0</td>\n",
       "      <td>0.846154</td>\n",
       "      <td>0.0</td>\n",
       "      <td>0.000000</td>\n",
       "      <td>0.0</td>\n",
       "      <td>0.153846</td>\n",
       "    </tr>\n",
       "    <tr>\n",
       "      <th>3</th>\n",
       "      <td>[100094].0</td>\n",
       "      <td>POLYGON ((13.46855 52.61490, 13.46841 52.61475...</td>\n",
       "      <td>Street</td>\n",
       "      <td>0.000000</td>\n",
       "      <td>0</td>\n",
       "      <td>98</td>\n",
       "      <td>6529.0</td>\n",
       "      <td>0.500000</td>\n",
       "      <td>0.0</td>\n",
       "      <td>0.000000</td>\n",
       "      <td>0.0</td>\n",
       "      <td>0.500000</td>\n",
       "    </tr>\n",
       "    <tr>\n",
       "      <th>4</th>\n",
       "      <td>[1000].0</td>\n",
       "      <td>POLYGON ((13.35533 52.51693, 13.35655 52.51683...</td>\n",
       "      <td>Street</td>\n",
       "      <td>0.000000</td>\n",
       "      <td>0</td>\n",
       "      <td>130</td>\n",
       "      <td>156528.0</td>\n",
       "      <td>1.000000</td>\n",
       "      <td>0.0</td>\n",
       "      <td>0.000000</td>\n",
       "      <td>0.0</td>\n",
       "      <td>0.000000</td>\n",
       "    </tr>\n",
       "    <tr>\n",
       "      <th>5</th>\n",
       "      <td>[100120].0</td>\n",
       "      <td>POLYGON ((13.50803 52.45148, 13.50766 52.45048...</td>\n",
       "      <td>Street</td>\n",
       "      <td>0.000000</td>\n",
       "      <td>0</td>\n",
       "      <td>54</td>\n",
       "      <td>46806.0</td>\n",
       "      <td>0.500000</td>\n",
       "      <td>0.5</td>\n",
       "      <td>0.000000</td>\n",
       "      <td>0.0</td>\n",
       "      <td>0.000000</td>\n",
       "    </tr>\n",
       "    <tr>\n",
       "      <th>6</th>\n",
       "      <td>[100126].0</td>\n",
       "      <td>POLYGON ((13.50823 52.45280, 13.50841 52.45267...</td>\n",
       "      <td>Street</td>\n",
       "      <td>0.000000</td>\n",
       "      <td>0</td>\n",
       "      <td>169</td>\n",
       "      <td>46808.0</td>\n",
       "      <td>1.000000</td>\n",
       "      <td>0.0</td>\n",
       "      <td>0.000000</td>\n",
       "      <td>0.0</td>\n",
       "      <td>0.000000</td>\n",
       "    </tr>\n",
       "    <tr>\n",
       "      <th>7</th>\n",
       "      <td>[100129].0</td>\n",
       "      <td>POLYGON ((13.50832 52.45291, 13.50806 52.45301...</td>\n",
       "      <td>Street</td>\n",
       "      <td>0.000000</td>\n",
       "      <td>0</td>\n",
       "      <td>102</td>\n",
       "      <td>46808.0</td>\n",
       "      <td>1.000000</td>\n",
       "      <td>0.0</td>\n",
       "      <td>0.000000</td>\n",
       "      <td>0.0</td>\n",
       "      <td>0.000000</td>\n",
       "    </tr>\n",
       "    <tr>\n",
       "      <th>8</th>\n",
       "      <td>[100144].0</td>\n",
       "      <td>POLYGON ((13.40858 52.51198, 13.40761 52.51167...</td>\n",
       "      <td>Street</td>\n",
       "      <td>0.001818</td>\n",
       "      <td>1</td>\n",
       "      <td>550</td>\n",
       "      <td>46823.0</td>\n",
       "      <td>1.000000</td>\n",
       "      <td>0.0</td>\n",
       "      <td>0.000000</td>\n",
       "      <td>0.0</td>\n",
       "      <td>0.000000</td>\n",
       "    </tr>\n",
       "    <tr>\n",
       "      <th>9</th>\n",
       "      <td>[100154846].0</td>\n",
       "      <td>POLYGON ((13.51004 52.45376, 13.50972 52.45359...</td>\n",
       "      <td>Junction</td>\n",
       "      <td>0.000000</td>\n",
       "      <td>0</td>\n",
       "      <td>414</td>\n",
       "      <td>37257.0</td>\n",
       "      <td>0.833333</td>\n",
       "      <td>0.0</td>\n",
       "      <td>0.166667</td>\n",
       "      <td>0.0</td>\n",
       "      <td>0.000000</td>\n",
       "    </tr>\n",
       "  </tbody>\n",
       "</table>\n",
       "</div>"
      ],
      "text/plain": [
       "                                     id  \\\n",
       "0                            [100049].0   \n",
       "1                         [100069498].0   \n",
       "2  [100078509, 288268004, 3888645535].0   \n",
       "3                            [100094].0   \n",
       "4                              [1000].0   \n",
       "5                            [100120].0   \n",
       "6                            [100126].0   \n",
       "7                            [100129].0   \n",
       "8                            [100144].0   \n",
       "9                         [100154846].0   \n",
       "\n",
       "                                            geometry      type     score  \\\n",
       "0  POLYGON ((13.45412 52.54035, 13.45320 52.53977...    Street  0.000000   \n",
       "1  POLYGON ((13.52273 52.50704, 13.52248 52.50690...  Junction  0.000000   \n",
       "2  POLYGON ((13.47754 52.51457, 13.47782 52.51438...  Junction  0.000000   \n",
       "3  POLYGON ((13.46855 52.61490, 13.46841 52.61475...    Street  0.000000   \n",
       "4  POLYGON ((13.35533 52.51693, 13.35655 52.51683...    Street  0.000000   \n",
       "5  POLYGON ((13.50803 52.45148, 13.50766 52.45048...    Street  0.000000   \n",
       "6  POLYGON ((13.50823 52.45280, 13.50841 52.45267...    Street  0.000000   \n",
       "7  POLYGON ((13.50832 52.45291, 13.50806 52.45301...    Street  0.000000   \n",
       "8  POLYGON ((13.40858 52.51198, 13.40761 52.51167...    Street  0.001818   \n",
       "9  POLYGON ((13.51004 52.45376, 13.50972 52.45359...  Junction  0.000000   \n",
       "\n",
       "   incidents  rides  index_right   asphalt  concrete  paving_stone  sett  \\\n",
       "0          0    138      57832.0  0.000000       1.0      0.000000   0.0   \n",
       "1          0    200     123443.0  1.000000       0.0      0.000000   0.0   \n",
       "2          0     54      75145.0  0.846154       0.0      0.000000   0.0   \n",
       "3          0     98       6529.0  0.500000       0.0      0.000000   0.0   \n",
       "4          0    130     156528.0  1.000000       0.0      0.000000   0.0   \n",
       "5          0     54      46806.0  0.500000       0.5      0.000000   0.0   \n",
       "6          0    169      46808.0  1.000000       0.0      0.000000   0.0   \n",
       "7          0    102      46808.0  1.000000       0.0      0.000000   0.0   \n",
       "8          1    550      46823.0  1.000000       0.0      0.000000   0.0   \n",
       "9          0    414      37257.0  0.833333       0.0      0.166667   0.0   \n",
       "\n",
       "    unpaved  \n",
       "0  0.000000  \n",
       "1  0.000000  \n",
       "2  0.153846  \n",
       "3  0.500000  \n",
       "4  0.000000  \n",
       "5  0.000000  \n",
       "6  0.000000  \n",
       "7  0.000000  \n",
       "8  0.000000  \n",
       "9  0.000000  "
      ]
     },
     "execution_count": 32,
     "metadata": {},
     "output_type": "execute_result"
    }
   ],
   "source": [
    "gdf.head(10)"
   ]
  },
  {
   "cell_type": "code",
   "execution_count": 33,
   "id": "fac99874-767d-46c3-9433-0669f8eb3474",
   "metadata": {},
   "outputs": [
    {
     "name": "stdout",
     "output_type": "stream",
     "text": [
      "Datei erfolgreich gespeichert.\n"
     ]
    }
   ],
   "source": [
    " #Speichern des gdf\n",
    "\n",
    "output_filename = \"../../data/processed_data/osm_surface_ratios.geojson\"\n",
    "gdf.to_file(output_filename, driver='GeoJSON')\n",
    "\n",
    "print(f\"Datei erfolgreich gespeichert.\")"
   ]
  },
  {
   "cell_type": "code",
   "execution_count": null,
   "id": "da4a069e-7280-47b3-b8b5-b66c37cb1b03",
   "metadata": {},
   "outputs": [],
   "source": []
  }
 ],
 "metadata": {
  "kernelspec": {
   "display_name": "Python 3 (ipykernel)",
   "language": "python",
   "name": "python3"
  },
  "language_info": {
   "codemirror_mode": {
    "name": "ipython",
    "version": 3
   },
   "file_extension": ".py",
   "mimetype": "text/x-python",
   "name": "python",
   "nbconvert_exporter": "python",
   "pygments_lexer": "ipython3",
   "version": "3.12.2"
  }
 },
 "nbformat": 4,
 "nbformat_minor": 5
}
