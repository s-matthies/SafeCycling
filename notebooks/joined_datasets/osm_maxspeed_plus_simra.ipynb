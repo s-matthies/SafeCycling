{
 "cells": [
  {
   "cell_type": "markdown",
   "id": "f0fe6fb8-1a75-4940-a46a-8f60304d3403",
   "metadata": {},
   "source": [
    "# Zusammenbringen der Datensätze simRa und osm_maxspeed\n",
    "\n",
    "Unser Vorhersage-Modell soll anhand von Features, wie z.B. Straßentyp oder Höchstgeschwindigkeit, Vorhersagen zum Gefahrenpotential einer Strecke machen.   \n",
    "Dazu müssen wir den SimRa-Datensatz und unsere Features aus OSM vereinen."
   ]
  },
  {
   "cell_type": "code",
   "execution_count": 1,
   "id": "fbbc9e6f-738a-473c-b1f2-93c5d405eef4",
   "metadata": {},
   "outputs": [],
   "source": [
    "import geopandas as gpd\n",
    "\n",
    "\n",
    "# Lade die GeoJSON-Datei\n",
    "osm_maxspeed = gpd.read_file(\"../../data/processed_data/cycle_net_berlin_cleaned_maxspeed.geojson\")"
   ]
  },
  {
   "cell_type": "code",
   "execution_count": 2,
   "id": "708a9da5-f7dc-48df-92d1-a2e29d8becfe",
   "metadata": {},
   "outputs": [],
   "source": [
    "simra_data = gpd.read_file(\"../../data/processed_data/simra_within_berlin.geojson\")"
   ]
  },
  {
   "cell_type": "code",
   "execution_count": 7,
   "id": "d9b088df-3b63-4be3-a7f0-6b962a59e9d0",
   "metadata": {},
   "outputs": [],
   "source": [
    "# Sicherstellen, dass die Geometriespalten korrekt gesetzt sind\n",
    "simra_data = simra_data.set_geometry('geometry')\n",
    "osm_maxspeed = osm_maxspeed.set_geometry('geometry')"
   ]
  },
  {
   "cell_type": "markdown",
   "id": "0d2fb512-93e8-4e4f-9051-149ea53dc64f",
   "metadata": {},
   "source": [
    "#### Überprüfung der Koordinatensysteme beider Datensätze"
   ]
  },
  {
   "cell_type": "code",
   "execution_count": 8,
   "id": "8a5c0a4b-4336-4e1e-bd65-c4370ffa7329",
   "metadata": {},
   "outputs": [
    {
     "data": {
      "text/plain": [
       "<Geographic 2D CRS: EPSG:4326>\n",
       "Name: WGS 84\n",
       "Axis Info [ellipsoidal]:\n",
       "- Lat[north]: Geodetic latitude (degree)\n",
       "- Lon[east]: Geodetic longitude (degree)\n",
       "Area of Use:\n",
       "- name: World.\n",
       "- bounds: (-180.0, -90.0, 180.0, 90.0)\n",
       "Datum: World Geodetic System 1984 ensemble\n",
       "- Ellipsoid: WGS 84\n",
       "- Prime Meridian: Greenwich"
      ]
     },
     "execution_count": 8,
     "metadata": {},
     "output_type": "execute_result"
    }
   ],
   "source": [
    "simra_data.crs"
   ]
  },
  {
   "cell_type": "code",
   "execution_count": 9,
   "id": "a1400bde-8577-4712-aedf-a1bb50a3a6f6",
   "metadata": {},
   "outputs": [
    {
     "data": {
      "text/plain": [
       "<Geographic 2D CRS: EPSG:4326>\n",
       "Name: WGS 84\n",
       "Axis Info [ellipsoidal]:\n",
       "- Lat[north]: Geodetic latitude (degree)\n",
       "- Lon[east]: Geodetic longitude (degree)\n",
       "Area of Use:\n",
       "- name: World.\n",
       "- bounds: (-180.0, -90.0, 180.0, 90.0)\n",
       "Datum: World Geodetic System 1984 ensemble\n",
       "- Ellipsoid: WGS 84\n",
       "- Prime Meridian: Greenwich"
      ]
     },
     "execution_count": 9,
     "metadata": {},
     "output_type": "execute_result"
    }
   ],
   "source": [
    "osm_maxspeed.crs"
   ]
  },
  {
   "cell_type": "markdown",
   "id": "739ba851-75c9-46d0-ac59-d07a8f92e1d1",
   "metadata": {},
   "source": [
    "#### Verknüpfen der Datensätze mit Join\n",
    "\n",
    "Verwenden des left Joins:\n",
    "\n",
    "Behalten aller Einträge aus dem ersten (linken) DataFrame (simra) und hinzufügen passender Einträge aus dem zweiten (rechten) DataFrame (osm_maxspeed), Einträge im linken DataFrame ohne passende Einträge im rechten DataFrame erhalten NaN-Werte für die Spalten aus dem rechten DataFrame."
   ]
  },
  {
   "cell_type": "code",
   "execution_count": 12,
   "id": "765d2ddb-1c90-4a1a-9ca8-b2eae6b85c80",
   "metadata": {},
   "outputs": [],
   "source": [
    "# Räumliche Verknüpfung zwischen Polygondaten und den OSM/Fahrradnetzwerk/Highway-Daten\n",
    "simra_maxspeed = gpd.sjoin(simra_data, osm_maxspeed, how='left', predicate='intersects')"
   ]
  },
  {
   "cell_type": "code",
   "execution_count": 13,
   "id": "92c87fdb-8a3c-4458-8d65-2f602763b773",
   "metadata": {},
   "outputs": [
    {
     "data": {
      "text/html": [
       "<div>\n",
       "<style scoped>\n",
       "    .dataframe tbody tr th:only-of-type {\n",
       "        vertical-align: middle;\n",
       "    }\n",
       "\n",
       "    .dataframe tbody tr th {\n",
       "        vertical-align: top;\n",
       "    }\n",
       "\n",
       "    .dataframe thead th {\n",
       "        text-align: right;\n",
       "    }\n",
       "</style>\n",
       "<table border=\"1\" class=\"dataframe\">\n",
       "  <thead>\n",
       "    <tr style=\"text-align: right;\">\n",
       "      <th></th>\n",
       "      <th>id</th>\n",
       "      <th>type</th>\n",
       "      <th>score</th>\n",
       "      <th>incidents</th>\n",
       "      <th>rides</th>\n",
       "      <th>markers</th>\n",
       "      <th>geometry</th>\n",
       "      <th>index_right</th>\n",
       "      <th>maxspeed_category</th>\n",
       "    </tr>\n",
       "  </thead>\n",
       "  <tbody>\n",
       "    <tr>\n",
       "      <th>0</th>\n",
       "      <td>[79310].0</td>\n",
       "      <td>Street</td>\n",
       "      <td>0.000000</td>\n",
       "      <td>0</td>\n",
       "      <td>57</td>\n",
       "      <td>[ ]</td>\n",
       "      <td>POLYGON ((13.37410 52.53031, 13.37421 52.53020...</td>\n",
       "      <td>170.0</td>\n",
       "      <td>30</td>\n",
       "    </tr>\n",
       "    <tr>\n",
       "      <th>0</th>\n",
       "      <td>[79310].0</td>\n",
       "      <td>Street</td>\n",
       "      <td>0.000000</td>\n",
       "      <td>0</td>\n",
       "      <td>57</td>\n",
       "      <td>[ ]</td>\n",
       "      <td>POLYGON ((13.37410 52.53031, 13.37421 52.53020...</td>\n",
       "      <td>33845.0</td>\n",
       "      <td>30</td>\n",
       "    </tr>\n",
       "    <tr>\n",
       "      <th>0</th>\n",
       "      <td>[79310].0</td>\n",
       "      <td>Street</td>\n",
       "      <td>0.000000</td>\n",
       "      <td>0</td>\n",
       "      <td>57</td>\n",
       "      <td>[ ]</td>\n",
       "      <td>POLYGON ((13.37410 52.53031, 13.37421 52.53020...</td>\n",
       "      <td>145435.0</td>\n",
       "      <td>30</td>\n",
       "    </tr>\n",
       "    <tr>\n",
       "      <th>1</th>\n",
       "      <td>[196724641, 196725586, 866264912].0</td>\n",
       "      <td>Junction</td>\n",
       "      <td>0.000649</td>\n",
       "      <td>1</td>\n",
       "      <td>1541</td>\n",
       "      <td>[ [ [ 13.417860660000001, 52.514469009999999 ]...</td>\n",
       "      <td>POLYGON ((13.41751 52.51461, 13.41779 52.51442...</td>\n",
       "      <td>13371.0</td>\n",
       "      <td>30</td>\n",
       "    </tr>\n",
       "    <tr>\n",
       "      <th>1</th>\n",
       "      <td>[196724641, 196725586, 866264912].0</td>\n",
       "      <td>Junction</td>\n",
       "      <td>0.000649</td>\n",
       "      <td>1</td>\n",
       "      <td>1541</td>\n",
       "      <td>[ [ [ 13.417860660000001, 52.514469009999999 ]...</td>\n",
       "      <td>POLYGON ((13.41751 52.51461, 13.41779 52.51442...</td>\n",
       "      <td>13373.0</td>\n",
       "      <td>30</td>\n",
       "    </tr>\n",
       "  </tbody>\n",
       "</table>\n",
       "</div>"
      ],
      "text/plain": [
       "                                    id      type     score  incidents  rides  \\\n",
       "0                            [79310].0    Street  0.000000          0     57   \n",
       "0                            [79310].0    Street  0.000000          0     57   \n",
       "0                            [79310].0    Street  0.000000          0     57   \n",
       "1  [196724641, 196725586, 866264912].0  Junction  0.000649          1   1541   \n",
       "1  [196724641, 196725586, 866264912].0  Junction  0.000649          1   1541   \n",
       "\n",
       "                                             markers  \\\n",
       "0                                                [ ]   \n",
       "0                                                [ ]   \n",
       "0                                                [ ]   \n",
       "1  [ [ [ 13.417860660000001, 52.514469009999999 ]...   \n",
       "1  [ [ [ 13.417860660000001, 52.514469009999999 ]...   \n",
       "\n",
       "                                            geometry  index_right  \\\n",
       "0  POLYGON ((13.37410 52.53031, 13.37421 52.53020...        170.0   \n",
       "0  POLYGON ((13.37410 52.53031, 13.37421 52.53020...      33845.0   \n",
       "0  POLYGON ((13.37410 52.53031, 13.37421 52.53020...     145435.0   \n",
       "1  POLYGON ((13.41751 52.51461, 13.41779 52.51442...      13371.0   \n",
       "1  POLYGON ((13.41751 52.51461, 13.41779 52.51442...      13373.0   \n",
       "\n",
       "  maxspeed_category  \n",
       "0                30  \n",
       "0                30  \n",
       "0                30  \n",
       "1                30  \n",
       "1                30  "
      ]
     },
     "execution_count": 13,
     "metadata": {},
     "output_type": "execute_result"
    }
   ],
   "source": [
    "simra_maxspeed.head()"
   ]
  },
  {
   "cell_type": "markdown",
   "id": "b1c9a855-2465-4efd-bf80-d483ad6626a4",
   "metadata": {},
   "source": [
    "### Zuordnung mehrerer maxspeed-Typen zu einem Polyglon/Segment \n",
    "\n",
    "Gründe für Mehrfachzuordung:  \n",
    "*(aus osm_highway notebook)*\n",
    "\n",
    "1. Wenn ein Polygon aus dem simra_data mehrere Straßenabschnitte im osm_surface überlappt oder einschließt, wird jedes dieser überlappenden Segmente in der räumlichen Verknüpfung berücksichtigt, was zur Mehrfachzuordnung führt.\n",
    "2. OSM-Daten enthalten detaillierte Informationen, bei denen Straßen in einzelne Segmente unterteilt werden können (z.B. bei Kreuzungen, Änderungen der Straßentypen oder Fahrspuren). Daher kann ein einzelnes Polygon mehrere dieser Segmente einschließen.Räumliche Beziehungen:\n",
    "3. Die räumliche Verknüpfung (predicate='intersects') berücksichtigt alle Geometrien, die im rechten DataFrame das Polygon im linken DataFrame schneiden. Das bedeutet, dass mehrere Straßenabschnitte demselben Polygon zugeordnet werden können, wenn sie sich schneiden bzw. überlappen."
   ]
  },
  {
   "cell_type": "markdown",
   "id": "14fc2fe5-cb08-4f2b-993e-c07f8e8a8773",
   "metadata": {},
   "source": [
    "### Überprüfen der NaN Werte\n",
    "\n",
    "die Prüfung ergibt eine Übereinstimmung mit den Daten bezüglich der highways (siehe notebook [osm_highway](osm_highway.ipynb))  \n"
   ]
  },
  {
   "cell_type": "code",
   "execution_count": 14,
   "id": "0b846dac-17d8-40d5-b0f5-c854c3d3a40f",
   "metadata": {},
   "outputs": [
    {
     "name": "stdout",
     "output_type": "stream",
     "text": [
      "Anzahl der Zeilen mit NaN in 'maxspeed_category': 376\n"
     ]
    }
   ],
   "source": [
    "# Zeilen, die NaN in 'maxspeed' (bzw. in 'index_right') enthalten\n",
    "nan_values = simra_maxspeed[simra_maxspeed['maxspeed_category'].isna()]\n",
    "\n",
    "print(f\"Anzahl der Zeilen mit NaN in 'maxspeed_category': {len(nan_values)}\")"
   ]
  },
  {
   "cell_type": "code",
   "execution_count": 15,
   "id": "e7e25fe9-3107-4fe5-87e5-50050e8622d6",
   "metadata": {},
   "outputs": [],
   "source": [
    "nan_values_score = simra_maxspeed[(simra_maxspeed['maxspeed_category'].isna()) & (simra_maxspeed['score'] != 0)]"
   ]
  },
  {
   "cell_type": "code",
   "execution_count": 16,
   "id": "bdee3587-2108-48d0-9687-3d47a6cb60b9",
   "metadata": {},
   "outputs": [
    {
     "data": {
      "text/plain": [
       "id                   63\n",
       "type                 63\n",
       "score                63\n",
       "incidents            63\n",
       "rides                63\n",
       "markers              63\n",
       "geometry             63\n",
       "index_right           0\n",
       "maxspeed_category     0\n",
       "dtype: int64"
      ]
     },
     "execution_count": 16,
     "metadata": {},
     "output_type": "execute_result"
    }
   ],
   "source": [
    "nan_values_score.count()"
   ]
  },
  {
   "cell_type": "markdown",
   "id": "0bafc608-cb21-4449-9df5-26c91a8c1d54",
   "metadata": {},
   "source": [
    "### Entfernen der NaN-Werte\n",
    "\n",
    "Nähere Begründung siehe [osm_highway](osm_highway.ipynb)  \n",
    "\n",
    "Bereinigung der Daten  \n",
    "Um sicherzustellen, dass nur relevante Verknüpfungen in unserer Analyse betrachtet werden, entfernen wir Zeilen mit NaN-Werten in der indexright-Spalte. Das bedeutet, dass nur Zeilen mit gefundenen räumlichen Übereinstimmungen beibehalten werden."
   ]
  },
  {
   "cell_type": "code",
   "execution_count": 19,
   "id": "7f986a8c-bb61-411d-8373-fbef592034ed",
   "metadata": {},
   "outputs": [
    {
     "name": "stdout",
     "output_type": "stream",
     "text": [
      "Anzahl der verbleibenden Zeilen nach dem Entfernen der NaN-Werte: 85801\n"
     ]
    }
   ],
   "source": [
    "cleaned_simra_maxspeed = simra_maxspeed.dropna(subset=['maxspeed_category'])\n",
    "\n",
    "print(f\"Anzahl der verbleibenden Zeilen nach dem Entfernen der NaN-Werte: {len(cleaned_simra_maxspeed)}\")"
   ]
  },
  {
   "cell_type": "code",
   "execution_count": 20,
   "id": "b0c7958c-4e52-436a-8c36-64e4c10f4b99",
   "metadata": {},
   "outputs": [
    {
     "name": "stdout",
     "output_type": "stream",
     "text": [
      "Anzahl der NaN-Werte nach der Bereinigung: 0\n"
     ]
    }
   ],
   "source": [
    "# Sicherstellen, dass keine NaN-Werte mehr in der Spalte 'index_right' vorhanden sind\n",
    "nan_values_after_cleaning = cleaned_simra_maxspeed[cleaned_simra_maxspeed['index_right'].isna()]\n",
    "\n",
    "print(f\"Anzahl der NaN-Werte nach der Bereinigung: {len(nan_values_after_cleaning)}\")"
   ]
  },
  {
   "cell_type": "code",
   "execution_count": 21,
   "id": "df50bcb3-69c2-4ba9-aa43-a77539776c87",
   "metadata": {},
   "outputs": [
    {
     "data": {
      "text/plain": [
       "(85801, 9)"
      ]
     },
     "execution_count": 21,
     "metadata": {},
     "output_type": "execute_result"
    }
   ],
   "source": [
    "cleaned_simra_maxspeed.shape"
   ]
  },
  {
   "cell_type": "code",
   "execution_count": 22,
   "id": "3e17868f-8f2e-4f77-9b47-dac40785afcf",
   "metadata": {},
   "outputs": [
    {
     "data": {
      "text/html": [
       "<div>\n",
       "<style scoped>\n",
       "    .dataframe tbody tr th:only-of-type {\n",
       "        vertical-align: middle;\n",
       "    }\n",
       "\n",
       "    .dataframe tbody tr th {\n",
       "        vertical-align: top;\n",
       "    }\n",
       "\n",
       "    .dataframe thead th {\n",
       "        text-align: right;\n",
       "    }\n",
       "</style>\n",
       "<table border=\"1\" class=\"dataframe\">\n",
       "  <thead>\n",
       "    <tr style=\"text-align: right;\">\n",
       "      <th></th>\n",
       "      <th>id</th>\n",
       "      <th>type</th>\n",
       "      <th>score</th>\n",
       "      <th>incidents</th>\n",
       "      <th>rides</th>\n",
       "      <th>markers</th>\n",
       "      <th>geometry</th>\n",
       "      <th>index_right</th>\n",
       "      <th>maxspeed_category</th>\n",
       "    </tr>\n",
       "  </thead>\n",
       "  <tbody>\n",
       "    <tr>\n",
       "      <th>0</th>\n",
       "      <td>[79310].0</td>\n",
       "      <td>Street</td>\n",
       "      <td>0.000000</td>\n",
       "      <td>0</td>\n",
       "      <td>57</td>\n",
       "      <td>[ ]</td>\n",
       "      <td>POLYGON ((13.37410 52.53031, 13.37421 52.53020...</td>\n",
       "      <td>170.0</td>\n",
       "      <td>30</td>\n",
       "    </tr>\n",
       "    <tr>\n",
       "      <th>0</th>\n",
       "      <td>[79310].0</td>\n",
       "      <td>Street</td>\n",
       "      <td>0.000000</td>\n",
       "      <td>0</td>\n",
       "      <td>57</td>\n",
       "      <td>[ ]</td>\n",
       "      <td>POLYGON ((13.37410 52.53031, 13.37421 52.53020...</td>\n",
       "      <td>33845.0</td>\n",
       "      <td>30</td>\n",
       "    </tr>\n",
       "    <tr>\n",
       "      <th>0</th>\n",
       "      <td>[79310].0</td>\n",
       "      <td>Street</td>\n",
       "      <td>0.000000</td>\n",
       "      <td>0</td>\n",
       "      <td>57</td>\n",
       "      <td>[ ]</td>\n",
       "      <td>POLYGON ((13.37410 52.53031, 13.37421 52.53020...</td>\n",
       "      <td>145435.0</td>\n",
       "      <td>30</td>\n",
       "    </tr>\n",
       "    <tr>\n",
       "      <th>1</th>\n",
       "      <td>[196724641, 196725586, 866264912].0</td>\n",
       "      <td>Junction</td>\n",
       "      <td>0.000649</td>\n",
       "      <td>1</td>\n",
       "      <td>1541</td>\n",
       "      <td>[ [ [ 13.417860660000001, 52.514469009999999 ]...</td>\n",
       "      <td>POLYGON ((13.41751 52.51461, 13.41779 52.51442...</td>\n",
       "      <td>13371.0</td>\n",
       "      <td>30</td>\n",
       "    </tr>\n",
       "    <tr>\n",
       "      <th>1</th>\n",
       "      <td>[196724641, 196725586, 866264912].0</td>\n",
       "      <td>Junction</td>\n",
       "      <td>0.000649</td>\n",
       "      <td>1</td>\n",
       "      <td>1541</td>\n",
       "      <td>[ [ [ 13.417860660000001, 52.514469009999999 ]...</td>\n",
       "      <td>POLYGON ((13.41751 52.51461, 13.41779 52.51442...</td>\n",
       "      <td>13373.0</td>\n",
       "      <td>30</td>\n",
       "    </tr>\n",
       "  </tbody>\n",
       "</table>\n",
       "</div>"
      ],
      "text/plain": [
       "                                    id      type     score  incidents  rides  \\\n",
       "0                            [79310].0    Street  0.000000          0     57   \n",
       "0                            [79310].0    Street  0.000000          0     57   \n",
       "0                            [79310].0    Street  0.000000          0     57   \n",
       "1  [196724641, 196725586, 866264912].0  Junction  0.000649          1   1541   \n",
       "1  [196724641, 196725586, 866264912].0  Junction  0.000649          1   1541   \n",
       "\n",
       "                                             markers  \\\n",
       "0                                                [ ]   \n",
       "0                                                [ ]   \n",
       "0                                                [ ]   \n",
       "1  [ [ [ 13.417860660000001, 52.514469009999999 ]...   \n",
       "1  [ [ [ 13.417860660000001, 52.514469009999999 ]...   \n",
       "\n",
       "                                            geometry  index_right  \\\n",
       "0  POLYGON ((13.37410 52.53031, 13.37421 52.53020...        170.0   \n",
       "0  POLYGON ((13.37410 52.53031, 13.37421 52.53020...      33845.0   \n",
       "0  POLYGON ((13.37410 52.53031, 13.37421 52.53020...     145435.0   \n",
       "1  POLYGON ((13.41751 52.51461, 13.41779 52.51442...      13371.0   \n",
       "1  POLYGON ((13.41751 52.51461, 13.41779 52.51442...      13373.0   \n",
       "\n",
       "  maxspeed_category  \n",
       "0                30  \n",
       "0                30  \n",
       "0                30  \n",
       "1                30  \n",
       "1                30  "
      ]
     },
     "execution_count": 22,
     "metadata": {},
     "output_type": "execute_result"
    }
   ],
   "source": [
    "cleaned_simra_maxspeed.head()"
   ]
  },
  {
   "cell_type": "markdown",
   "id": "94dd89e3-791c-44e9-9366-9b9c42a6c983",
   "metadata": {},
   "source": [
    "### Gruppieren der Polyglone und Zusammenfassen der maxspeed-Werte\n",
    "\n",
    "\n",
    "* Der DataFrame wird nach id und geometry gruppiert. Für jede Gruppe werden die angegebenen Aggregationsfunktionen auf die Spalten angewendet:\n",
    "  * Für type, score, incidents, rides, markers, und index_right wird der erste Wert in der Gruppe verwendet ('first').\n",
    "  * Für die maxspeed_category-Spalte wird eine Funktion zum Kombinieren der Werte angwendet.\n",
    "* Das Ergebnis ist ein DataFrame grouped_data, bei dem die maxspeed-Werte pro Gruppe als zusammenhängender String dargestellt sind, während alle anderen spezifischen Werte beibehalten werden."
   ]
  },
  {
   "cell_type": "code",
   "execution_count": 50,
   "id": "9b522f10-8741-4a01-8e7b-f4edfab691ec",
   "metadata": {},
   "outputs": [],
   "source": [
    "cleaned_simra_maxspeed = gpd.GeoDataFrame(cleaned_simra_maxspeed, geometry='geometry')"
   ]
  },
  {
   "cell_type": "code",
   "execution_count": 51,
   "id": "edb24cc2-94ca-4ce5-b47b-192c7ac7fa80",
   "metadata": {},
   "outputs": [],
   "source": [
    "# Funktion zum Kombinieren der 'maxspeed'-Werte \n",
    "def combine_maxspeeds(x):\n",
    "    return ', '.join(x)  # Doppelte Einträge bleiben erhalten und werden verbunden\n",
    "\n",
    "# Gruppieren nach 'id' und 'geometry' und Aggregation\n",
    "grouped_data = cleaned_simra_maxspeed.groupby(['id', 'geometry']).agg({\n",
    "    'type': 'first',       # Erster Wert (da alle Werte gleich)\n",
    "    'score': 'first',      \n",
    "    'incidents': 'first',  \n",
    "    'rides': 'first',      \n",
    "    'markers': 'first',    \n",
    "    'index_right': 'first',\n",
    "    'maxspeed_category': combine_maxspeeds  # Kombinieren der 'highway' Werte\n",
    "}).reset_index()"
   ]
  },
  {
   "cell_type": "code",
   "execution_count": 52,
   "id": "9c6f1af2-bdf6-4a19-a6cc-627dcfd07fb1",
   "metadata": {},
   "outputs": [],
   "source": [
    "# Umwandlung zurück in ein GeoDataFrame\n",
    "grouped_data = gpd.GeoDataFrame(grouped_data, geometry='geometry', crs=cleaned_simra_maxspeed.crs)"
   ]
  },
  {
   "cell_type": "code",
   "execution_count": 53,
   "id": "f00fbb4c-28a7-4cda-9fd0-d793d9e0897c",
   "metadata": {},
   "outputs": [
    {
     "data": {
      "text/html": [
       "<div>\n",
       "<style scoped>\n",
       "    .dataframe tbody tr th:only-of-type {\n",
       "        vertical-align: middle;\n",
       "    }\n",
       "\n",
       "    .dataframe tbody tr th {\n",
       "        vertical-align: top;\n",
       "    }\n",
       "\n",
       "    .dataframe thead th {\n",
       "        text-align: right;\n",
       "    }\n",
       "</style>\n",
       "<table border=\"1\" class=\"dataframe\">\n",
       "  <thead>\n",
       "    <tr style=\"text-align: right;\">\n",
       "      <th></th>\n",
       "      <th>id</th>\n",
       "      <th>geometry</th>\n",
       "      <th>type</th>\n",
       "      <th>score</th>\n",
       "      <th>incidents</th>\n",
       "      <th>rides</th>\n",
       "      <th>markers</th>\n",
       "      <th>index_right</th>\n",
       "      <th>maxspeed_category</th>\n",
       "    </tr>\n",
       "  </thead>\n",
       "  <tbody>\n",
       "    <tr>\n",
       "      <th>0</th>\n",
       "      <td>[100049].0</td>\n",
       "      <td>POLYGON ((13.45412 52.54035, 13.45320 52.53977...</td>\n",
       "      <td>Street</td>\n",
       "      <td>0.0</td>\n",
       "      <td>0</td>\n",
       "      <td>138</td>\n",
       "      <td>[ ]</td>\n",
       "      <td>57832.0</td>\n",
       "      <td>50, 50, 20, 50</td>\n",
       "    </tr>\n",
       "    <tr>\n",
       "      <th>1</th>\n",
       "      <td>[100069498].0</td>\n",
       "      <td>POLYGON ((13.52273 52.50704, 13.52248 52.50690...</td>\n",
       "      <td>Junction</td>\n",
       "      <td>0.0</td>\n",
       "      <td>0</td>\n",
       "      <td>200</td>\n",
       "      <td>[ ]</td>\n",
       "      <td>123443.0</td>\n",
       "      <td>30, 30, 30</td>\n",
       "    </tr>\n",
       "    <tr>\n",
       "      <th>2</th>\n",
       "      <td>[100078509, 288268004, 3888645535].0</td>\n",
       "      <td>POLYGON ((13.47754 52.51457, 13.47782 52.51438...</td>\n",
       "      <td>Junction</td>\n",
       "      <td>0.0</td>\n",
       "      <td>0</td>\n",
       "      <td>54</td>\n",
       "      <td>[ ]</td>\n",
       "      <td>75145.0</td>\n",
       "      <td>50, 50, 20, 50, 50, 50, 20, 20, 50, 20, 20, 50...</td>\n",
       "    </tr>\n",
       "  </tbody>\n",
       "</table>\n",
       "</div>"
      ],
      "text/plain": [
       "                                     id  \\\n",
       "0                            [100049].0   \n",
       "1                         [100069498].0   \n",
       "2  [100078509, 288268004, 3888645535].0   \n",
       "\n",
       "                                            geometry      type  score  \\\n",
       "0  POLYGON ((13.45412 52.54035, 13.45320 52.53977...    Street    0.0   \n",
       "1  POLYGON ((13.52273 52.50704, 13.52248 52.50690...  Junction    0.0   \n",
       "2  POLYGON ((13.47754 52.51457, 13.47782 52.51438...  Junction    0.0   \n",
       "\n",
       "   incidents  rides markers  index_right  \\\n",
       "0          0    138     [ ]      57832.0   \n",
       "1          0    200     [ ]     123443.0   \n",
       "2          0     54     [ ]      75145.0   \n",
       "\n",
       "                                   maxspeed_category  \n",
       "0                                     50, 50, 20, 50  \n",
       "1                                         30, 30, 30  \n",
       "2  50, 50, 20, 50, 50, 50, 20, 20, 50, 20, 20, 50...  "
      ]
     },
     "execution_count": 53,
     "metadata": {},
     "output_type": "execute_result"
    }
   ],
   "source": [
    "grouped_data.head(3)"
   ]
  },
  {
   "cell_type": "code",
   "execution_count": 54,
   "id": "792db7d4-4e30-4e5d-916e-8d38be5ea527",
   "metadata": {},
   "outputs": [
    {
     "data": {
      "text/plain": [
       "(15918, 9)"
      ]
     },
     "execution_count": 54,
     "metadata": {},
     "output_type": "execute_result"
    }
   ],
   "source": [
    "grouped_data.shape"
   ]
  },
  {
   "cell_type": "markdown",
   "id": "bbce3b73-1d10-4e00-ba11-6c70052007c8",
   "metadata": {},
   "source": [
    "### Umgang mit mehreren maxspeed-Werten in einem Polygon\n",
    "-------\n",
    "\n",
    "Wir haben entschieden, jeweils den höchsten maxspeed-Wert der Spalte zu verwenden und die anderen nicht zu betrachten.  \n",
    "\n",
    "Wir gehen folgender maßen vor:\n",
    "1. maxspeed-Werte in einer neune Spalte als Liste ausgeben\n",
    "2. höchsten maxspeed-Wert ermitteln und alle anderen udn auch Duplikate löschen\n",
    "\n"
   ]
  },
  {
   "cell_type": "code",
   "execution_count": 55,
   "id": "e7cd5f38-e1fe-4e88-92e6-a923789b0dc7",
   "metadata": {},
   "outputs": [],
   "source": [
    "# Funktion zum Zerlegen der 'maxspeed_category'-Spalte in Listen\n",
    "grouped_data['maxspeed_list'] = grouped_data['maxspeed_category'].apply(lambda x: x.split(', '))"
   ]
  },
  {
   "cell_type": "code",
   "execution_count": 56,
   "id": "2a2d84be-ee46-4035-baa5-d2ce8bca4d9a",
   "metadata": {
    "jp-MarkdownHeadingCollapsed": true
   },
   "outputs": [
    {
     "data": {
      "text/html": [
       "<div>\n",
       "<style scoped>\n",
       "    .dataframe tbody tr th:only-of-type {\n",
       "        vertical-align: middle;\n",
       "    }\n",
       "\n",
       "    .dataframe tbody tr th {\n",
       "        vertical-align: top;\n",
       "    }\n",
       "\n",
       "    .dataframe thead th {\n",
       "        text-align: right;\n",
       "    }\n",
       "</style>\n",
       "<table border=\"1\" class=\"dataframe\">\n",
       "  <thead>\n",
       "    <tr style=\"text-align: right;\">\n",
       "      <th></th>\n",
       "      <th>id</th>\n",
       "      <th>geometry</th>\n",
       "      <th>type</th>\n",
       "      <th>score</th>\n",
       "      <th>incidents</th>\n",
       "      <th>rides</th>\n",
       "      <th>markers</th>\n",
       "      <th>index_right</th>\n",
       "      <th>maxspeed_category</th>\n",
       "      <th>maxspeed_list</th>\n",
       "    </tr>\n",
       "  </thead>\n",
       "  <tbody>\n",
       "    <tr>\n",
       "      <th>0</th>\n",
       "      <td>[100049].0</td>\n",
       "      <td>POLYGON ((13.45412 52.54035, 13.45320 52.53977...</td>\n",
       "      <td>Street</td>\n",
       "      <td>0.0</td>\n",
       "      <td>0</td>\n",
       "      <td>138</td>\n",
       "      <td>[ ]</td>\n",
       "      <td>57832.0</td>\n",
       "      <td>50, 50, 20, 50</td>\n",
       "      <td>[50, 50, 20, 50]</td>\n",
       "    </tr>\n",
       "    <tr>\n",
       "      <th>1</th>\n",
       "      <td>[100069498].0</td>\n",
       "      <td>POLYGON ((13.52273 52.50704, 13.52248 52.50690...</td>\n",
       "      <td>Junction</td>\n",
       "      <td>0.0</td>\n",
       "      <td>0</td>\n",
       "      <td>200</td>\n",
       "      <td>[ ]</td>\n",
       "      <td>123443.0</td>\n",
       "      <td>30, 30, 30</td>\n",
       "      <td>[30, 30, 30]</td>\n",
       "    </tr>\n",
       "    <tr>\n",
       "      <th>2</th>\n",
       "      <td>[100078509, 288268004, 3888645535].0</td>\n",
       "      <td>POLYGON ((13.47754 52.51457, 13.47782 52.51438...</td>\n",
       "      <td>Junction</td>\n",
       "      <td>0.0</td>\n",
       "      <td>0</td>\n",
       "      <td>54</td>\n",
       "      <td>[ ]</td>\n",
       "      <td>75145.0</td>\n",
       "      <td>50, 50, 20, 50, 50, 50, 20, 20, 50, 20, 20, 50...</td>\n",
       "      <td>[50, 50, 20, 50, 50, 50, 20, 20, 50, 20, 20, 5...</td>\n",
       "    </tr>\n",
       "  </tbody>\n",
       "</table>\n",
       "</div>"
      ],
      "text/plain": [
       "                                     id  \\\n",
       "0                            [100049].0   \n",
       "1                         [100069498].0   \n",
       "2  [100078509, 288268004, 3888645535].0   \n",
       "\n",
       "                                            geometry      type  score  \\\n",
       "0  POLYGON ((13.45412 52.54035, 13.45320 52.53977...    Street    0.0   \n",
       "1  POLYGON ((13.52273 52.50704, 13.52248 52.50690...  Junction    0.0   \n",
       "2  POLYGON ((13.47754 52.51457, 13.47782 52.51438...  Junction    0.0   \n",
       "\n",
       "   incidents  rides markers  index_right  \\\n",
       "0          0    138     [ ]      57832.0   \n",
       "1          0    200     [ ]     123443.0   \n",
       "2          0     54     [ ]      75145.0   \n",
       "\n",
       "                                   maxspeed_category  \\\n",
       "0                                     50, 50, 20, 50   \n",
       "1                                         30, 30, 30   \n",
       "2  50, 50, 20, 50, 50, 50, 20, 20, 50, 20, 20, 50...   \n",
       "\n",
       "                                       maxspeed_list  \n",
       "0                                   [50, 50, 20, 50]  \n",
       "1                                       [30, 30, 30]  \n",
       "2  [50, 50, 20, 50, 50, 50, 20, 20, 50, 20, 20, 5...  "
      ]
     },
     "execution_count": 56,
     "metadata": {},
     "output_type": "execute_result"
    }
   ],
   "source": [
    "grouped_data.head(3)"
   ]
  },
  {
   "cell_type": "code",
   "execution_count": 57,
   "id": "4cf72bbd-b5aa-4a53-855f-8ea2cefe8781",
   "metadata": {},
   "outputs": [],
   "source": [
    "# Funktion zum Ermitteln des höchsten Wertes \n",
    "def get_highest_value(value_list):\n",
    "    # Konvertieren Sie die Liste in eine Menge, um Duplikate zu entfernen\n",
    "    value_set = set(value_list)\n",
    "    # Konvertieren Sie die Menge zurück in eine Liste und finden Sie den maximalen Wert\n",
    "    max_value = max(value_set)\n",
    "    # Rückgabe des höchsten Wertes in der Liste\n",
    "    return max_value\n",
    "\n",
    "# Anwenden der Funktion auf die maxspeed_category-Spalte\n",
    "grouped_data['maxspeed_list'] = grouped_data['maxspeed_list'].apply(get_highest_value)\n"
   ]
  },
  {
   "cell_type": "code",
   "execution_count": 58,
   "id": "2b3288dd-d0f8-48ae-87f4-641eeb1cdec3",
   "metadata": {},
   "outputs": [
    {
     "data": {
      "text/html": [
       "<div>\n",
       "<style scoped>\n",
       "    .dataframe tbody tr th:only-of-type {\n",
       "        vertical-align: middle;\n",
       "    }\n",
       "\n",
       "    .dataframe tbody tr th {\n",
       "        vertical-align: top;\n",
       "    }\n",
       "\n",
       "    .dataframe thead th {\n",
       "        text-align: right;\n",
       "    }\n",
       "</style>\n",
       "<table border=\"1\" class=\"dataframe\">\n",
       "  <thead>\n",
       "    <tr style=\"text-align: right;\">\n",
       "      <th></th>\n",
       "      <th>id</th>\n",
       "      <th>geometry</th>\n",
       "      <th>type</th>\n",
       "      <th>score</th>\n",
       "      <th>incidents</th>\n",
       "      <th>rides</th>\n",
       "      <th>markers</th>\n",
       "      <th>index_right</th>\n",
       "      <th>maxspeed_category</th>\n",
       "      <th>maxspeed_list</th>\n",
       "    </tr>\n",
       "  </thead>\n",
       "  <tbody>\n",
       "    <tr>\n",
       "      <th>0</th>\n",
       "      <td>[100049].0</td>\n",
       "      <td>POLYGON ((13.45412 52.54035, 13.45320 52.53977...</td>\n",
       "      <td>Street</td>\n",
       "      <td>0.0</td>\n",
       "      <td>0</td>\n",
       "      <td>138</td>\n",
       "      <td>[ ]</td>\n",
       "      <td>57832.0</td>\n",
       "      <td>50, 50, 20, 50</td>\n",
       "      <td>50</td>\n",
       "    </tr>\n",
       "    <tr>\n",
       "      <th>1</th>\n",
       "      <td>[100069498].0</td>\n",
       "      <td>POLYGON ((13.52273 52.50704, 13.52248 52.50690...</td>\n",
       "      <td>Junction</td>\n",
       "      <td>0.0</td>\n",
       "      <td>0</td>\n",
       "      <td>200</td>\n",
       "      <td>[ ]</td>\n",
       "      <td>123443.0</td>\n",
       "      <td>30, 30, 30</td>\n",
       "      <td>30</td>\n",
       "    </tr>\n",
       "    <tr>\n",
       "      <th>2</th>\n",
       "      <td>[100078509, 288268004, 3888645535].0</td>\n",
       "      <td>POLYGON ((13.47754 52.51457, 13.47782 52.51438...</td>\n",
       "      <td>Junction</td>\n",
       "      <td>0.0</td>\n",
       "      <td>0</td>\n",
       "      <td>54</td>\n",
       "      <td>[ ]</td>\n",
       "      <td>75145.0</td>\n",
       "      <td>50, 50, 20, 50, 50, 50, 20, 20, 50, 20, 20, 50...</td>\n",
       "      <td>50</td>\n",
       "    </tr>\n",
       "  </tbody>\n",
       "</table>\n",
       "</div>"
      ],
      "text/plain": [
       "                                     id  \\\n",
       "0                            [100049].0   \n",
       "1                         [100069498].0   \n",
       "2  [100078509, 288268004, 3888645535].0   \n",
       "\n",
       "                                            geometry      type  score  \\\n",
       "0  POLYGON ((13.45412 52.54035, 13.45320 52.53977...    Street    0.0   \n",
       "1  POLYGON ((13.52273 52.50704, 13.52248 52.50690...  Junction    0.0   \n",
       "2  POLYGON ((13.47754 52.51457, 13.47782 52.51438...  Junction    0.0   \n",
       "\n",
       "   incidents  rides markers  index_right  \\\n",
       "0          0    138     [ ]      57832.0   \n",
       "1          0    200     [ ]     123443.0   \n",
       "2          0     54     [ ]      75145.0   \n",
       "\n",
       "                                   maxspeed_category maxspeed_list  \n",
       "0                                     50, 50, 20, 50            50  \n",
       "1                                         30, 30, 30            30  \n",
       "2  50, 50, 20, 50, 50, 50, 20, 20, 50, 20, 20, 50...            50  "
      ]
     },
     "execution_count": 58,
     "metadata": {},
     "output_type": "execute_result"
    }
   ],
   "source": [
    "grouped_data.head(3)"
   ]
  },
  {
   "cell_type": "markdown",
   "id": "f0997111-4d58-4b79-8007-86ebbd3d516e",
   "metadata": {},
   "source": [
    "### Entfernen nicht notwendiger Spalten"
   ]
  },
  {
   "cell_type": "code",
   "execution_count": 60,
   "id": "e883e156-f7d8-4eb4-a0ed-27ccafe59103",
   "metadata": {},
   "outputs": [],
   "source": [
    "# Entfernen von Spalten\n",
    "grouped_data.drop(columns=['maxspeed_category', 'markers'], inplace=True)"
   ]
  },
  {
   "cell_type": "code",
   "execution_count": 62,
   "id": "a47515b1-fa7b-4354-9bce-432816197960",
   "metadata": {},
   "outputs": [],
   "source": [
    "#Umbenennen der Spalte\n",
    "grouped_data = grouped_data.rename(columns={'maxspeed_list': 'maxspeed'})"
   ]
  },
  {
   "cell_type": "code",
   "execution_count": 64,
   "id": "4cc08bfd-9732-485b-99d5-a2fbaf87ebe0",
   "metadata": {},
   "outputs": [
    {
     "data": {
      "text/html": [
       "<div>\n",
       "<style scoped>\n",
       "    .dataframe tbody tr th:only-of-type {\n",
       "        vertical-align: middle;\n",
       "    }\n",
       "\n",
       "    .dataframe tbody tr th {\n",
       "        vertical-align: top;\n",
       "    }\n",
       "\n",
       "    .dataframe thead th {\n",
       "        text-align: right;\n",
       "    }\n",
       "</style>\n",
       "<table border=\"1\" class=\"dataframe\">\n",
       "  <thead>\n",
       "    <tr style=\"text-align: right;\">\n",
       "      <th></th>\n",
       "      <th>id</th>\n",
       "      <th>geometry</th>\n",
       "      <th>type</th>\n",
       "      <th>score</th>\n",
       "      <th>incidents</th>\n",
       "      <th>rides</th>\n",
       "      <th>index_right</th>\n",
       "      <th>maxspeed</th>\n",
       "    </tr>\n",
       "  </thead>\n",
       "  <tbody>\n",
       "    <tr>\n",
       "      <th>0</th>\n",
       "      <td>[100049].0</td>\n",
       "      <td>POLYGON ((13.45412 52.54035, 13.45320 52.53977...</td>\n",
       "      <td>Street</td>\n",
       "      <td>0.000000</td>\n",
       "      <td>0</td>\n",
       "      <td>138</td>\n",
       "      <td>57832.0</td>\n",
       "      <td>50</td>\n",
       "    </tr>\n",
       "    <tr>\n",
       "      <th>1</th>\n",
       "      <td>[100069498].0</td>\n",
       "      <td>POLYGON ((13.52273 52.50704, 13.52248 52.50690...</td>\n",
       "      <td>Junction</td>\n",
       "      <td>0.000000</td>\n",
       "      <td>0</td>\n",
       "      <td>200</td>\n",
       "      <td>123443.0</td>\n",
       "      <td>30</td>\n",
       "    </tr>\n",
       "    <tr>\n",
       "      <th>2</th>\n",
       "      <td>[100078509, 288268004, 3888645535].0</td>\n",
       "      <td>POLYGON ((13.47754 52.51457, 13.47782 52.51438...</td>\n",
       "      <td>Junction</td>\n",
       "      <td>0.000000</td>\n",
       "      <td>0</td>\n",
       "      <td>54</td>\n",
       "      <td>75145.0</td>\n",
       "      <td>50</td>\n",
       "    </tr>\n",
       "    <tr>\n",
       "      <th>3</th>\n",
       "      <td>[100094].0</td>\n",
       "      <td>POLYGON ((13.46855 52.61490, 13.46841 52.61475...</td>\n",
       "      <td>Street</td>\n",
       "      <td>0.000000</td>\n",
       "      <td>0</td>\n",
       "      <td>98</td>\n",
       "      <td>6529.0</td>\n",
       "      <td>30</td>\n",
       "    </tr>\n",
       "    <tr>\n",
       "      <th>4</th>\n",
       "      <td>[1000].0</td>\n",
       "      <td>POLYGON ((13.35533 52.51693, 13.35655 52.51683...</td>\n",
       "      <td>Street</td>\n",
       "      <td>0.000000</td>\n",
       "      <td>0</td>\n",
       "      <td>130</td>\n",
       "      <td>156528.0</td>\n",
       "      <td>50</td>\n",
       "    </tr>\n",
       "    <tr>\n",
       "      <th>5</th>\n",
       "      <td>[100120].0</td>\n",
       "      <td>POLYGON ((13.50803 52.45148, 13.50766 52.45048...</td>\n",
       "      <td>Street</td>\n",
       "      <td>0.000000</td>\n",
       "      <td>0</td>\n",
       "      <td>54</td>\n",
       "      <td>46806.0</td>\n",
       "      <td>50</td>\n",
       "    </tr>\n",
       "    <tr>\n",
       "      <th>6</th>\n",
       "      <td>[100126].0</td>\n",
       "      <td>POLYGON ((13.50823 52.45280, 13.50841 52.45267...</td>\n",
       "      <td>Street</td>\n",
       "      <td>0.000000</td>\n",
       "      <td>0</td>\n",
       "      <td>169</td>\n",
       "      <td>46808.0</td>\n",
       "      <td>50</td>\n",
       "    </tr>\n",
       "    <tr>\n",
       "      <th>7</th>\n",
       "      <td>[100129].0</td>\n",
       "      <td>POLYGON ((13.50832 52.45291, 13.50806 52.45301...</td>\n",
       "      <td>Street</td>\n",
       "      <td>0.000000</td>\n",
       "      <td>0</td>\n",
       "      <td>102</td>\n",
       "      <td>46808.0</td>\n",
       "      <td>50</td>\n",
       "    </tr>\n",
       "    <tr>\n",
       "      <th>8</th>\n",
       "      <td>[100144].0</td>\n",
       "      <td>POLYGON ((13.40858 52.51198, 13.40761 52.51167...</td>\n",
       "      <td>Street</td>\n",
       "      <td>0.001818</td>\n",
       "      <td>1</td>\n",
       "      <td>550</td>\n",
       "      <td>46823.0</td>\n",
       "      <td>30</td>\n",
       "    </tr>\n",
       "    <tr>\n",
       "      <th>9</th>\n",
       "      <td>[100154846].0</td>\n",
       "      <td>POLYGON ((13.51004 52.45376, 13.50972 52.45359...</td>\n",
       "      <td>Junction</td>\n",
       "      <td>0.000000</td>\n",
       "      <td>0</td>\n",
       "      <td>414</td>\n",
       "      <td>37257.0</td>\n",
       "      <td>50</td>\n",
       "    </tr>\n",
       "  </tbody>\n",
       "</table>\n",
       "</div>"
      ],
      "text/plain": [
       "                                     id  \\\n",
       "0                            [100049].0   \n",
       "1                         [100069498].0   \n",
       "2  [100078509, 288268004, 3888645535].0   \n",
       "3                            [100094].0   \n",
       "4                              [1000].0   \n",
       "5                            [100120].0   \n",
       "6                            [100126].0   \n",
       "7                            [100129].0   \n",
       "8                            [100144].0   \n",
       "9                         [100154846].0   \n",
       "\n",
       "                                            geometry      type     score  \\\n",
       "0  POLYGON ((13.45412 52.54035, 13.45320 52.53977...    Street  0.000000   \n",
       "1  POLYGON ((13.52273 52.50704, 13.52248 52.50690...  Junction  0.000000   \n",
       "2  POLYGON ((13.47754 52.51457, 13.47782 52.51438...  Junction  0.000000   \n",
       "3  POLYGON ((13.46855 52.61490, 13.46841 52.61475...    Street  0.000000   \n",
       "4  POLYGON ((13.35533 52.51693, 13.35655 52.51683...    Street  0.000000   \n",
       "5  POLYGON ((13.50803 52.45148, 13.50766 52.45048...    Street  0.000000   \n",
       "6  POLYGON ((13.50823 52.45280, 13.50841 52.45267...    Street  0.000000   \n",
       "7  POLYGON ((13.50832 52.45291, 13.50806 52.45301...    Street  0.000000   \n",
       "8  POLYGON ((13.40858 52.51198, 13.40761 52.51167...    Street  0.001818   \n",
       "9  POLYGON ((13.51004 52.45376, 13.50972 52.45359...  Junction  0.000000   \n",
       "\n",
       "   incidents  rides  index_right maxspeed  \n",
       "0          0    138      57832.0       50  \n",
       "1          0    200     123443.0       30  \n",
       "2          0     54      75145.0       50  \n",
       "3          0     98       6529.0       30  \n",
       "4          0    130     156528.0       50  \n",
       "5          0     54      46806.0       50  \n",
       "6          0    169      46808.0       50  \n",
       "7          0    102      46808.0       50  \n",
       "8          1    550      46823.0       30  \n",
       "9          0    414      37257.0       50  "
      ]
     },
     "execution_count": 64,
     "metadata": {},
     "output_type": "execute_result"
    }
   ],
   "source": [
    "grouped_data.head(10)"
   ]
  },
  {
   "cell_type": "code",
   "execution_count": 66,
   "id": "e49d9c4d-be04-4af4-868f-c5182dcd7f00",
   "metadata": {},
   "outputs": [
    {
     "name": "stdout",
     "output_type": "stream",
     "text": [
      "Datei erfolgreich gespeichert.\n"
     ]
    }
   ],
   "source": [
    " #Speichern des gdf\n",
    "\n",
    "output_filename = \"../../data/processed_data/osm_maxspeed_max.geojson\"\n",
    "grouped_data.to_file(output_filename, driver='GeoJSON')\n",
    "\n",
    "print(f\"Datei erfolgreich gespeichert.\")"
   ]
  },
  {
   "cell_type": "code",
   "execution_count": null,
   "id": "34ba2909-e406-4403-8617-5103c48a8cb9",
   "metadata": {},
   "outputs": [],
   "source": []
  }
 ],
 "metadata": {
  "kernelspec": {
   "display_name": "Python 3 (ipykernel)",
   "language": "python",
   "name": "python3"
  },
  "language_info": {
   "codemirror_mode": {
    "name": "ipython",
    "version": 3
   },
   "file_extension": ".py",
   "mimetype": "text/x-python",
   "name": "python",
   "nbconvert_exporter": "python",
   "pygments_lexer": "ipython3",
   "version": "3.11.6"
  }
 },
 "nbformat": 4,
 "nbformat_minor": 5
}
