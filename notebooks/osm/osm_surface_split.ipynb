{
 "cells": [
  {
   "cell_type": "markdown",
   "id": "460d3e8b-3d09-4566-9de4-55fa502179c3",
   "metadata": {},
   "source": [
    "## Überprüfung der Verteilung der Straßen ohne surface-Wert\n",
    "----\n",
    "\n",
    "Für Straßen, die keinen gesetzten surface-Wert haben, wollen wir default Werte setzen.  \n",
    "Allerdings wollen wir alle Straßentypen, die anteilig weniger als 1,5% aller Straßen ohne surface-Wert einnehmen, nicht einzeln betrachten, sondern zuammengefasst und diese dann dem surface-Typ \"paving_stone\" zuordnen.\n",
    "\n",
    "Bei Betrachtung anderer Städte und Regionen in Deutschland ist aufgefallen, dass jeweils andere Straßentypen ohne surface-Wert selten (<1,5%) sein können.  \n",
    "(siehe notebook [surface_staedte_test](surface_staedte_test.ipynb))  \n",
    "\n",
    "Wir möchten sicherstellen, dass die Verteilung der seltenen Straßen zumindest in Berlin immer gleich/ähnlich ist.  \n",
    "Deshalb splitten wir die Daten und überprüfen die Verteilung der Straßen ohne surface Wert.\n"
   ]
  },
  {
   "cell_type": "code",
   "execution_count": 1,
   "id": "5df1a4c7-f923-4f13-85fb-71e0fb847735",
   "metadata": {},
   "outputs": [
    {
     "name": "stdout",
     "output_type": "stream",
     "text": [
      "highway\n",
      "service          92.192428\n",
      "path              2.592268\n",
      "track             1.804588\n",
      "residential       1.239981\n",
      "footway           0.981523\n",
      "cycleway          0.655375\n",
      "living_street     0.310764\n",
      "bridleway         0.058461\n",
      "unclassified      0.033846\n",
      "tertiary          0.027692\n",
      "steps             0.020000\n",
      "elevator          0.016923\n",
      "construction      0.015384\n",
      "pedestrian        0.015384\n",
      "primary           0.009231\n",
      "secondary         0.007692\n",
      "street_lamp       0.006154\n",
      "tertiary_link     0.003077\n",
      "busway            0.003077\n",
      "road              0.001538\n",
      "services          0.001538\n",
      "rest_area         0.001538\n",
      "bus_stop          0.001538\n",
      "Name: proportion, dtype: float64\n"
     ]
    }
   ],
   "source": [
    "import pandas as pd\n",
    "import os\n",
    "import pyrosm\n",
    "import warnings\n",
    "warnings.filterwarnings(\"ignore\", category=FutureWarning, module='pyrosm')\n",
    "\n",
    "# Verzeichnis-Pfad\n",
    "directory = \"../../data\"\n",
    "file_path = os.path.join(directory, \"berlin-latest.osm.pbf\")\n",
    "\n",
    "# OSM-Objekt erstellen\n",
    "berlin_osm = pyrosm.OSM(file_path)\n",
    "\n",
    "# Fahrradnetzwerk extrahieren\n",
    "cycle_net_berlin = berlin_osm.get_network(network_type=\"cycling\")\n",
    "\n",
    "# Filter für Wege ohne Daten in der Spalte \"surface\"\n",
    "cycle_net_no_surface = cycle_net_berlin[cycle_net_berlin[\"surface\"].isna()]\n",
    "\n",
    "# Häufigkeitstabelle für die Werte in der Spalte \"highway\"\n",
    "highway_counts = cycle_net_no_surface[\"highway\"].value_counts(normalize=True)*100\n",
    "\n",
    "# Ausgabe der Häufigkeitstabelle\n",
    "print(highway_counts)\n",
    "\n"
   ]
  },
  {
   "cell_type": "markdown",
   "id": "209a6c58-696a-4c2e-8337-2332bf400a11",
   "metadata": {},
   "source": [
    "### Splitten der Daten\n",
    "---\n",
    "**1. Split**"
   ]
  },
  {
   "cell_type": "code",
   "execution_count": 2,
   "id": "300d8c55-f646-485e-a5ec-66f1fd16e7ef",
   "metadata": {},
   "outputs": [],
   "source": [
    "from sklearn.model_selection import train_test_split\n",
    "\n",
    "# Splitten der Daten in Trainings- und Testdaten (80% Training, 20% Test)\n",
    "train, test = train_test_split(cycle_net_berlin, test_size=0.2, random_state=1)"
   ]
  },
  {
   "cell_type": "code",
   "execution_count": 3,
   "id": "c6c9714d-003d-48ea-84a7-dbab96fd1701",
   "metadata": {},
   "outputs": [
    {
     "name": "stdout",
     "output_type": "stream",
     "text": [
      "highway\n",
      "service          92.225862\n",
      "path              2.538061\n",
      "track             1.801889\n",
      "residential       1.244941\n",
      "footway           0.984775\n",
      "cycleway          0.674504\n",
      "living_street     0.314126\n",
      "bridleway         0.053960\n",
      "unclassified      0.026980\n",
      "tertiary          0.023126\n",
      "elevator          0.021199\n",
      "construction      0.019272\n",
      "steps             0.019272\n",
      "pedestrian        0.017344\n",
      "primary           0.009636\n",
      "secondary         0.007709\n",
      "street_lamp       0.003854\n",
      "tertiary_link     0.003854\n",
      "road              0.001927\n",
      "busway            0.001927\n",
      "bus_stop          0.001927\n",
      "services          0.001927\n",
      "rest_area         0.001927\n",
      "Name: proportion, dtype: float64\n"
     ]
    }
   ],
   "source": [
    "# Filter für Wege ohne Daten in der Spalte \"surface\" im Trainingsdatensatz\n",
    "train_no_surface = train[train[\"surface\"].isna()]\n",
    "\n",
    "# Häufigkeitstabelle für die Werte in der Spalte \"highway\" im Trainingsdatensatz ohne surface\n",
    "highway_counts_train = train_no_surface[\"highway\"].value_counts(normalize=True) * 100\n",
    "\n",
    "# Ausgabe der Häufigkeitstabelle\n",
    "print(highway_counts_train)"
   ]
  },
  {
   "cell_type": "code",
   "execution_count": 4,
   "id": "3061f2cf-98ff-4679-8d74-89118cb51ac8",
   "metadata": {},
   "outputs": [
    {
     "name": "stdout",
     "output_type": "stream",
     "text": [
      "highway\n",
      "service          92.060102\n",
      "path              2.806803\n",
      "track             1.815270\n",
      "residential       1.220349\n",
      "footway           0.968652\n",
      "cycleway          0.579666\n",
      "living_street     0.297460\n",
      "bridleway         0.076272\n",
      "unclassified      0.061017\n",
      "tertiary          0.045763\n",
      "steps             0.022882\n",
      "street_lamp       0.015254\n",
      "pedestrian        0.007627\n",
      "secondary         0.007627\n",
      "busway            0.007627\n",
      "primary           0.007627\n",
      "Name: proportion, dtype: float64\n"
     ]
    }
   ],
   "source": [
    "# Filter für Wege ohne Daten in der Spalte \"surface\" im Trainingsdatensatz\n",
    "test_no_surface = test[test[\"surface\"].isna()]\n",
    "\n",
    "# Häufigkeitstabelle für die Werte in der Spalte \"highway\" im Trainingsdatensatz ohne surface\n",
    "highway_counts_test = test_no_surface[\"highway\"].value_counts(normalize=True) * 100\n",
    "\n",
    "# Ausgabe der Häufigkeitstabelle\n",
    "print(highway_counts_test)"
   ]
  },
  {
   "cell_type": "markdown",
   "id": "781bbddb-f3af-4e83-91a1-1698a8fa7d49",
   "metadata": {},
   "source": [
    "**2.Split**"
   ]
  },
  {
   "cell_type": "code",
   "execution_count": 5,
   "id": "3804e06f-a7b8-419f-892a-c0868ad5eab7",
   "metadata": {},
   "outputs": [],
   "source": [
    "# Splitten der Daten in Trainings- und Testdaten (80% Training, 20% Test)\n",
    "train, test = train_test_split(cycle_net_berlin, test_size=0.2, random_state=20)"
   ]
  },
  {
   "cell_type": "code",
   "execution_count": 6,
   "id": "f1b3f735-0fb6-4f73-bc34-53c9bac46ac4",
   "metadata": {},
   "outputs": [
    {
     "name": "stdout",
     "output_type": "stream",
     "text": [
      "highway\n",
      "service          92.186116\n",
      "path              2.604628\n",
      "track             1.790321\n",
      "residential       1.249374\n",
      "footway           0.999114\n",
      "cycleway          0.644900\n",
      "living_street     0.302237\n",
      "bridleway         0.057752\n",
      "unclassified      0.038502\n",
      "tertiary          0.025026\n",
      "construction      0.019251\n",
      "pedestrian        0.017326\n",
      "elevator          0.017326\n",
      "steps             0.013476\n",
      "primary           0.009625\n",
      "secondary         0.007700\n",
      "street_lamp       0.007700\n",
      "tertiary_link     0.003850\n",
      "busway            0.001925\n",
      "bus_stop          0.001925\n",
      "road              0.001925\n",
      "Name: proportion, dtype: float64\n"
     ]
    }
   ],
   "source": [
    "# Filter für Wege ohne Daten in der Spalte \"surface\" im Trainingsdatensatz\n",
    "train_no_surface = train[train[\"surface\"].isna()]\n",
    "\n",
    "# Häufigkeitstabelle für die Werte in der Spalte \"highway\" im Trainingsdatensatz ohne surface\n",
    "highway_counts_train = train_no_surface[\"highway\"].value_counts(normalize=True) * 100\n",
    "\n",
    "# Ausgabe der Häufigkeitstabelle\n",
    "print(highway_counts_train)"
   ]
  },
  {
   "cell_type": "code",
   "execution_count": 7,
   "id": "0e4aa7fe-ac81-4121-97a0-4b99fb5f52c5",
   "metadata": {},
   "outputs": [
    {
     "name": "stdout",
     "output_type": "stream",
     "text": [
      "highway\n",
      "service          92.217541\n",
      "path              2.543087\n",
      "track             1.861356\n",
      "residential       1.202604\n",
      "footway           0.911528\n",
      "cycleway          0.697051\n",
      "living_street     0.344696\n",
      "bridleway         0.061279\n",
      "steps             0.045959\n",
      "tertiary          0.038300\n",
      "unclassified      0.015320\n",
      "elevator          0.015320\n",
      "rest_area         0.007660\n",
      "busway            0.007660\n",
      "services          0.007660\n",
      "secondary         0.007660\n",
      "primary           0.007660\n",
      "pedestrian        0.007660\n",
      "Name: proportion, dtype: float64\n"
     ]
    }
   ],
   "source": [
    "# Filter für Wege ohne Daten in der Spalte \"surface\" im Trainingsdatensatz\n",
    "test_no_surface = test[test[\"surface\"].isna()]\n",
    "\n",
    "# Häufigkeitstabelle für die Werte in der Spalte \"highway\" im Trainingsdatensatz ohne surface\n",
    "highway_counts_test = test_no_surface[\"highway\"].value_counts(normalize=True) * 100\n",
    "\n",
    "# Ausgabe der Häufigkeitstabelle\n",
    "print(highway_counts_test)"
   ]
  },
  {
   "cell_type": "markdown",
   "id": "d23a81f1-c35a-4b33-bf06-ef2afd15d362",
   "metadata": {},
   "source": [
    "**3.Split**"
   ]
  },
  {
   "cell_type": "code",
   "execution_count": 9,
   "id": "18a1ddaf-f2f1-4f94-b529-21ce5cb14718",
   "metadata": {},
   "outputs": [],
   "source": [
    "# Splitten der Daten in Trainings- und Testdaten (80% Training, 20% Test)\n",
    "train, test = train_test_split(cycle_net_berlin, test_size=0.2, random_state=51)"
   ]
  },
  {
   "cell_type": "code",
   "execution_count": 10,
   "id": "b2a1dc3c-f493-4fdd-8757-5a694e5d8ab0",
   "metadata": {},
   "outputs": [
    {
     "name": "stdout",
     "output_type": "stream",
     "text": [
      "highway\n",
      "service          92.224294\n",
      "path              2.566271\n",
      "track             1.791584\n",
      "residential       1.224505\n",
      "footway           0.993829\n",
      "cycleway          0.653582\n",
      "living_street     0.313335\n",
      "bridleway         0.059591\n",
      "unclassified      0.038446\n",
      "tertiary          0.026912\n",
      "steps             0.019223\n",
      "elevator          0.017301\n",
      "pedestrian        0.017301\n",
      "construction      0.015378\n",
      "secondary         0.009612\n",
      "street_lamp       0.007689\n",
      "primary           0.005767\n",
      "busway            0.003845\n",
      "tertiary_link     0.003845\n",
      "road              0.001922\n",
      "services          0.001922\n",
      "rest_area         0.001922\n",
      "bus_stop          0.001922\n",
      "Name: proportion, dtype: float64\n"
     ]
    }
   ],
   "source": [
    "# Filter für Wege ohne Daten in der Spalte \"surface\" im Trainingsdatensatz\n",
    "train_no_surface = train[train[\"surface\"].isna()]\n",
    "\n",
    "# Häufigkeitstabelle für die Werte in der Spalte \"highway\" im Trainingsdatensatz ohne surface\n",
    "highway_counts_train = train_no_surface[\"highway\"].value_counts(normalize=True) * 100\n",
    "\n",
    "# Ausgabe der Häufigkeitstabelle\n",
    "print(highway_counts_train)"
   ]
  },
  {
   "cell_type": "code",
   "execution_count": 11,
   "id": "66f119fd-3796-4956-91bc-14738185a191",
   "metadata": {},
   "outputs": [
    {
     "name": "stdout",
     "output_type": "stream",
     "text": [
      "highway\n",
      "service          92.064715\n",
      "path              2.696456\n",
      "track             1.856703\n",
      "residential       1.302003\n",
      "footway           0.932203\n",
      "cycleway          0.662558\n",
      "living_street     0.300462\n",
      "bridleway         0.053929\n",
      "tertiary          0.030817\n",
      "steps             0.023112\n",
      "primary           0.023112\n",
      "unclassified      0.015408\n",
      "construction      0.015408\n",
      "elevator          0.015408\n",
      "pedestrian        0.007704\n",
      "Name: proportion, dtype: float64\n"
     ]
    }
   ],
   "source": [
    "# Filter für Wege ohne Daten in der Spalte \"surface\" im Trainingsdatensatz\n",
    "test_no_surface = test[test[\"surface\"].isna()]\n",
    "\n",
    "# Häufigkeitstabelle für die Werte in der Spalte \"highway\" im Trainingsdatensatz ohne surface\n",
    "highway_counts_test = test_no_surface[\"highway\"].value_counts(normalize=True) * 100\n",
    "\n",
    "# Ausgabe der Häufigkeitstabelle\n",
    "print(highway_counts_test)"
   ]
  },
  {
   "cell_type": "markdown",
   "id": "4c289553-87ed-4286-af5b-c98dad6ac291",
   "metadata": {},
   "source": [
    "### FAZIT\n",
    "---\n",
    "Bei allen drei Train-Test-Splits zeigt sich, dass die grundsätzliche Verteilung der Straßen ohne surface-Wert sowohl bei den Trainings-, als auch bei den Testdaten gleich/ ähnlich bleibt.  \n",
    "\n",
    "Folgende drei Straßen liegen anteilig immer über 1,5%:\n",
    " * service\n",
    " * path\n",
    " * track\n",
    "\n",
    "Unser Ansatz, nur für die besagten Straßen explizite(individuelle) Werte für surface zu setzen und alle anderen Straßen zusammenzufassen und aufgrund ihrer Seltenheit nicht individuell zu betrachten, sehen wir hierdurch legitimiert."
   ]
  },
  {
   "cell_type": "code",
   "execution_count": null,
   "id": "61a431e0-7b3d-41fb-931f-679523366c04",
   "metadata": {},
   "outputs": [],
   "source": []
  }
 ],
 "metadata": {
  "kernelspec": {
   "display_name": "Python 3 (ipykernel)",
   "language": "python",
   "name": "python3"
  },
  "language_info": {
   "codemirror_mode": {
    "name": "ipython",
    "version": 3
   },
   "file_extension": ".py",
   "mimetype": "text/x-python",
   "name": "python",
   "nbconvert_exporter": "python",
   "pygments_lexer": "ipython3",
   "version": "3.11.6"
  }
 },
 "nbformat": 4,
 "nbformat_minor": 5
}
